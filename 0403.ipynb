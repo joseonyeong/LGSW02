{
 "cells": [
  {
   "cell_type": "code",
   "execution_count": 7,
   "id": "6af952d2-98a1-466b-900f-410a0ce196f1",
   "metadata": {},
   "outputs": [
    {
     "data": {
      "text/html": [
       "<div>\n",
       "<style scoped>\n",
       "    .dataframe tbody tr th:only-of-type {\n",
       "        vertical-align: middle;\n",
       "    }\n",
       "\n",
       "    .dataframe tbody tr th {\n",
       "        vertical-align: top;\n",
       "    }\n",
       "\n",
       "    .dataframe thead th {\n",
       "        text-align: right;\n",
       "    }\n",
       "</style>\n",
       "<table border=\"1\" class=\"dataframe\">\n",
       "  <thead>\n",
       "    <tr style=\"text-align: right;\">\n",
       "      <th></th>\n",
       "      <th>sepal_length</th>\n",
       "      <th>species</th>\n",
       "    </tr>\n",
       "  </thead>\n",
       "  <tbody>\n",
       "    <tr>\n",
       "      <th>0</th>\n",
       "      <td>5.1</td>\n",
       "      <td>setosa</td>\n",
       "    </tr>\n",
       "  </tbody>\n",
       "</table>\n",
       "</div>"
      ],
      "text/plain": [
       "   sepal_length species\n",
       "0           5.1  setosa"
      ]
     },
     "execution_count": 7,
     "metadata": {},
     "output_type": "execute_result"
    }
   ],
   "source": [
    "import seaborn as sns\n",
    "import pandas as pd\n",
    "\n",
    "iris = sns.load_dataset(\"iris\")\n",
    "result = iris.loc[:, ['sepal_length','species']]\n",
    "result.head(1)"
   ]
  },
  {
   "cell_type": "markdown",
   "id": "b45a674d-89e7-4a3f-97a3-385e5db29856",
   "metadata": {},
   "source": [
    "## to_excel 함수를 이용한 엑셀 생성\n",
    "https://pandas.pydata.org/docs/reference/api/pandas.DataFrame.to_excel.html#pandas.DataFrame.to_excel"
   ]
  },
  {
   "cell_type": "code",
   "execution_count": null,
   "id": "dcb3851b-65bf-4d3b-aa4d-706696f2d1ee",
   "metadata": {},
   "outputs": [],
   "source": []
  },
  {
   "cell_type": "code",
   "execution_count": 6,
   "id": "e59b88c2-81ab-4713-8c6f-92740f9cf45d",
   "metadata": {},
   "outputs": [],
   "source": [
    "result.to_excel(\"file_test_dataset/iris_excel_file.xlsx\",\n",
    "                    sheet_name='Sheet_name_1',\n",
    "                    index=False)"
   ]
  },
  {
   "cell_type": "markdown",
   "id": "4a35c4e2-7326-4c6a-add5-ba12b3730379",
   "metadata": {},
   "source": [
    "## group by 연산\n",
    "- 집계함수 같이 사용"
   ]
  },
  {
   "cell_type": "code",
   "execution_count": 8,
   "id": "c7222723-9116-4422-9073-cb8626adcc5a",
   "metadata": {},
   "outputs": [
    {
     "data": {
      "text/html": [
       "<div>\n",
       "<style scoped>\n",
       "    .dataframe tbody tr th:only-of-type {\n",
       "        vertical-align: middle;\n",
       "    }\n",
       "\n",
       "    .dataframe tbody tr th {\n",
       "        vertical-align: top;\n",
       "    }\n",
       "\n",
       "    .dataframe thead th {\n",
       "        text-align: right;\n",
       "    }\n",
       "</style>\n",
       "<table border=\"1\" class=\"dataframe\">\n",
       "  <thead>\n",
       "    <tr style=\"text-align: right;\">\n",
       "      <th></th>\n",
       "      <th>total_bill</th>\n",
       "      <th>tip</th>\n",
       "      <th>sex</th>\n",
       "      <th>smoker</th>\n",
       "      <th>day</th>\n",
       "      <th>time</th>\n",
       "      <th>size</th>\n",
       "    </tr>\n",
       "  </thead>\n",
       "  <tbody>\n",
       "    <tr>\n",
       "      <th>0</th>\n",
       "      <td>16.99</td>\n",
       "      <td>1.01</td>\n",
       "      <td>Female</td>\n",
       "      <td>No</td>\n",
       "      <td>Sun</td>\n",
       "      <td>Dinner</td>\n",
       "      <td>2</td>\n",
       "    </tr>\n",
       "  </tbody>\n",
       "</table>\n",
       "</div>"
      ],
      "text/plain": [
       "   total_bill   tip     sex smoker  day    time  size\n",
       "0       16.99  1.01  Female     No  Sun  Dinner     2"
      ]
     },
     "execution_count": 8,
     "metadata": {},
     "output_type": "execute_result"
    }
   ],
   "source": [
    "import seaborn as sns\n",
    "tips = sns.load_dataset(\"tips\")\n",
    "tips.head(1)"
   ]
  },
  {
   "cell_type": "code",
   "execution_count": 12,
   "id": "8605788d-f70a-4cec-beb9-4c3bb451c0fd",
   "metadata": {},
   "outputs": [
    {
     "data": {
      "text/plain": [
       "sex\n",
       "Male      3.089618\n",
       "Female    2.833448\n",
       "Name: tip, dtype: float64"
      ]
     },
     "execution_count": 12,
     "metadata": {},
     "output_type": "execute_result"
    }
   ],
   "source": [
    "## 성별로 tip 평균 구하기\n",
    "\n",
    "#                                  컬럼명\n",
    "tips.groupby('sex', observed=True)['tip'].mean()"
   ]
  },
  {
   "cell_type": "code",
   "execution_count": 13,
   "id": "6ee8b2cd-c358-4cb0-9971-5d1ddc1e2014",
   "metadata": {},
   "outputs": [
    {
     "data": {
      "text/plain": [
       "day\n",
       "Thur    1096.33\n",
       "Fri      325.88\n",
       "Sat     1778.40\n",
       "Sun     1627.16\n",
       "Name: total_bill, dtype: float64"
      ]
     },
     "execution_count": 13,
     "metadata": {},
     "output_type": "execute_result"
    }
   ],
   "source": [
    "## 요일별 총 결제 금액\n",
    "\n",
    "tips.groupby('day', observed=True)['total_bill'].sum()"
   ]
  },
  {
   "cell_type": "code",
   "execution_count": 15,
   "id": "44d37811-b856-4eda-9d72-7e68916a7976",
   "metadata": {},
   "outputs": [
    {
     "data": {
      "text/plain": [
       "day   sex   \n",
       "Thur  Male       561.44\n",
       "      Female     534.89\n",
       "Fri   Male       198.57\n",
       "      Female     127.31\n",
       "Sat   Male      1227.35\n",
       "      Female     551.05\n",
       "Sun   Male      1269.46\n",
       "      Female     357.70\n",
       "Name: total_bill, dtype: float64"
      ]
     },
     "execution_count": 15,
     "metadata": {},
     "output_type": "execute_result"
    }
   ],
   "source": [
    "## 요일 & 성별로 팁 평균\n",
    "# 리스트로 묶어버리면 됨\n",
    "\n",
    "tips.groupby(['day', 'sex'], observed=True)['total_bill'].sum()"
   ]
  },
  {
   "cell_type": "code",
   "execution_count": 16,
   "id": "7730e472-3a86-40c3-987f-7bb465b9be0e",
   "metadata": {},
   "outputs": [
    {
     "data": {
      "text/plain": [
       "time\n",
       "Lunch     2.411765\n",
       "Dinner    2.630682\n",
       "Name: size, dtype: float64"
      ]
     },
     "execution_count": 16,
     "metadata": {},
     "output_type": "execute_result"
    }
   ],
   "source": [
    "## 식사 시간별 인원 수 평균\n",
    "# time, size\n",
    "\n",
    "tips.groupby(['time'], observed=True)['size'].mean()"
   ]
  },
  {
   "cell_type": "code",
   "execution_count": 18,
   "id": "7e9ee797-4087-45d6-b4e2-193a89813568",
   "metadata": {},
   "outputs": [
    {
     "data": {
      "text/html": [
       "<div>\n",
       "<style scoped>\n",
       "    .dataframe tbody tr th:only-of-type {\n",
       "        vertical-align: middle;\n",
       "    }\n",
       "\n",
       "    .dataframe tbody tr th {\n",
       "        vertical-align: top;\n",
       "    }\n",
       "\n",
       "    .dataframe thead th {\n",
       "        text-align: right;\n",
       "    }\n",
       "</style>\n",
       "<table border=\"1\" class=\"dataframe\">\n",
       "  <thead>\n",
       "    <tr style=\"text-align: right;\">\n",
       "      <th>sex</th>\n",
       "      <th>Male</th>\n",
       "      <th>Female</th>\n",
       "    </tr>\n",
       "    <tr>\n",
       "      <th>day</th>\n",
       "      <th></th>\n",
       "      <th></th>\n",
       "    </tr>\n",
       "  </thead>\n",
       "  <tbody>\n",
       "    <tr>\n",
       "      <th>Thur</th>\n",
       "      <td>2.980333</td>\n",
       "      <td>2.575625</td>\n",
       "    </tr>\n",
       "    <tr>\n",
       "      <th>Fri</th>\n",
       "      <td>2.693000</td>\n",
       "      <td>2.781111</td>\n",
       "    </tr>\n",
       "    <tr>\n",
       "      <th>Sat</th>\n",
       "      <td>3.083898</td>\n",
       "      <td>2.801786</td>\n",
       "    </tr>\n",
       "    <tr>\n",
       "      <th>Sun</th>\n",
       "      <td>3.220345</td>\n",
       "      <td>3.367222</td>\n",
       "    </tr>\n",
       "  </tbody>\n",
       "</table>\n",
       "</div>"
      ],
      "text/plain": [
       "sex       Male    Female\n",
       "day                     \n",
       "Thur  2.980333  2.575625\n",
       "Fri   2.693000  2.781111\n",
       "Sat   3.083898  2.801786\n",
       "Sun   3.220345  3.367222"
      ]
     },
     "execution_count": 18,
     "metadata": {},
     "output_type": "execute_result"
    }
   ],
   "source": [
    "## 두가지 범주 그룹바이 출력 변환\n",
    "\n",
    "result = tips.groupby(['day', 'sex'], observed=True)['tip'].mean()\n",
    "result.unstack() # 데이터프레임 형태로 출력 #원래 result는 시리즈 타입인데 unstack하면 데이터프레임 타입으로 바뀜"
   ]
  },
  {
   "cell_type": "code",
   "execution_count": 21,
   "id": "8c1629d3-85ab-4e1d-9553-2e4fc60b0474",
   "metadata": {},
   "outputs": [
    {
     "data": {
      "text/html": [
       "<div>\n",
       "<style scoped>\n",
       "    .dataframe tbody tr th:only-of-type {\n",
       "        vertical-align: middle;\n",
       "    }\n",
       "\n",
       "    .dataframe tbody tr th {\n",
       "        vertical-align: top;\n",
       "    }\n",
       "\n",
       "    .dataframe thead th {\n",
       "        text-align: right;\n",
       "    }\n",
       "</style>\n",
       "<table border=\"1\" class=\"dataframe\">\n",
       "  <thead>\n",
       "    <tr style=\"text-align: right;\">\n",
       "      <th></th>\n",
       "      <th></th>\n",
       "      <th>sum</th>\n",
       "      <th>mean</th>\n",
       "    </tr>\n",
       "    <tr>\n",
       "      <th>day</th>\n",
       "      <th>sex</th>\n",
       "      <th></th>\n",
       "      <th></th>\n",
       "    </tr>\n",
       "  </thead>\n",
       "  <tbody>\n",
       "    <tr>\n",
       "      <th rowspan=\"2\" valign=\"top\">Thur</th>\n",
       "      <th>Male</th>\n",
       "      <td>89.41</td>\n",
       "      <td>2.980333</td>\n",
       "    </tr>\n",
       "    <tr>\n",
       "      <th>Female</th>\n",
       "      <td>82.42</td>\n",
       "      <td>2.575625</td>\n",
       "    </tr>\n",
       "    <tr>\n",
       "      <th rowspan=\"2\" valign=\"top\">Fri</th>\n",
       "      <th>Male</th>\n",
       "      <td>26.93</td>\n",
       "      <td>2.693000</td>\n",
       "    </tr>\n",
       "    <tr>\n",
       "      <th>Female</th>\n",
       "      <td>25.03</td>\n",
       "      <td>2.781111</td>\n",
       "    </tr>\n",
       "    <tr>\n",
       "      <th rowspan=\"2\" valign=\"top\">Sat</th>\n",
       "      <th>Male</th>\n",
       "      <td>181.95</td>\n",
       "      <td>3.083898</td>\n",
       "    </tr>\n",
       "    <tr>\n",
       "      <th>Female</th>\n",
       "      <td>78.45</td>\n",
       "      <td>2.801786</td>\n",
       "    </tr>\n",
       "    <tr>\n",
       "      <th rowspan=\"2\" valign=\"top\">Sun</th>\n",
       "      <th>Male</th>\n",
       "      <td>186.78</td>\n",
       "      <td>3.220345</td>\n",
       "    </tr>\n",
       "    <tr>\n",
       "      <th>Female</th>\n",
       "      <td>60.61</td>\n",
       "      <td>3.367222</td>\n",
       "    </tr>\n",
       "  </tbody>\n",
       "</table>\n",
       "</div>"
      ],
      "text/plain": [
       "                sum      mean\n",
       "day  sex                     \n",
       "Thur Male     89.41  2.980333\n",
       "     Female   82.42  2.575625\n",
       "Fri  Male     26.93  2.693000\n",
       "     Female   25.03  2.781111\n",
       "Sat  Male    181.95  3.083898\n",
       "     Female   78.45  2.801786\n",
       "Sun  Male    186.78  3.220345\n",
       "     Female   60.61  3.367222"
      ]
     },
     "execution_count": 21,
     "metadata": {},
     "output_type": "execute_result"
    }
   ],
   "source": [
    "## 집계함수 2개 사용\n",
    "\n",
    "result = tips.groupby(['day', 'sex'], observed=True)['tip'].agg(['sum','mean']) # agg() 함수 사용 -> 집계함수 2개 출력\n",
    "result"
   ]
  },
  {
   "cell_type": "code",
   "execution_count": 30,
   "id": "e16785c8-3aff-40a3-9c8b-6437e0fdda00",
   "metadata": {},
   "outputs": [],
   "source": [
    "#                                                   중첩 리스트로 작성해야함.\n",
    "result = tips.groupby(['day', 'sex'], observed=True)[['tip', 'total_bill']].agg(['sum','mean'])\n",
    "result.columns = ['_'.join(col) for col in result.columns]\n",
    "result.reset_index().to_csv(\"file_test_dataset/tips_grouby.csc\", index=False) # 데이터 프레임 깔끔하게 만들 걸 그대로 엑셀파일로 저장"
   ]
  },
  {
   "cell_type": "code",
   "execution_count": null,
   "id": "1b713edc-0ced-4b29-a93c-87d2dc0f0019",
   "metadata": {},
   "outputs": [],
   "source": []
  }
 ],
 "metadata": {
  "kernelspec": {
   "display_name": "Python 3 (ipykernel)",
   "language": "python",
   "name": "python3"
  },
  "language_info": {
   "codemirror_mode": {
    "name": "ipython",
    "version": 3
   },
   "file_extension": ".py",
   "mimetype": "text/x-python",
   "name": "python",
   "nbconvert_exporter": "python",
   "pygments_lexer": "ipython3",
   "version": "3.13.2"
  }
 },
 "nbformat": 4,
 "nbformat_minor": 5
}
