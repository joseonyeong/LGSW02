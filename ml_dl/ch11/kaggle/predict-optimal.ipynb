{
 "cells": [
  {
   "cell_type": "code",
   "execution_count": 1,
   "id": "fe1b197e-da2c-4c7c-8eb3-de8b07fceda8",
   "metadata": {},
   "outputs": [],
   "source": [
    "# 필요한 라이브러리 임포트\n",
    "import torch  # PyTorch 딥러닝 프레임워크\n",
    "import torch.nn as nn  # 신경망 모듈\n",
    "import torch.optim as optim  # 최적화 알고리즘\n",
    "from sklearn.preprocessing import LabelEncoder, StandardScaler  # 데이터 전처리 도구\n",
    "from sklearn.model_selection import train_test_split  # 데이터 분할\n",
    "import pandas as pd  # 데이터 처리\n",
    "import matplotlib.pyplot as plt"
   ]
  },
  {
   "cell_type": "code",
   "execution_count": 2,
   "id": "01597cd4-2ec9-4f1f-8ccc-3435aff05ddd",
   "metadata": {},
   "outputs": [],
   "source": [
    "def mapk(actual, predicted, k=3):\n",
    "    \"\"\"\n",
    "    actual: (N,) numpy array, 정답 인덱스\n",
    "    predicted: (N, k) numpy array, 각 row별로 상위 k개 예측 인덱스\n",
    "    \"\"\"\n",
    "    score = 0.0\n",
    "    for a, p in zip(actual, predicted):\n",
    "        try:\n",
    "            idx = list(p).index(a)\n",
    "            score += 1.0 / (idx + 1)\n",
    "        except ValueError:\n",
    "            continue\n",
    "    return score / len(actual)"
   ]
  },
  {
   "cell_type": "code",
   "execution_count": 3,
   "id": "e19f4501-2851-480c-bc0a-464d3bfaed7c",
   "metadata": {},
   "outputs": [
    {
     "data": {
      "text/html": [
       "<div>\n",
       "<style scoped>\n",
       "    .dataframe tbody tr th:only-of-type {\n",
       "        vertical-align: middle;\n",
       "    }\n",
       "\n",
       "    .dataframe tbody tr th {\n",
       "        vertical-align: top;\n",
       "    }\n",
       "\n",
       "    .dataframe thead th {\n",
       "        text-align: right;\n",
       "    }\n",
       "</style>\n",
       "<table border=\"1\" class=\"dataframe\">\n",
       "  <thead>\n",
       "    <tr style=\"text-align: right;\">\n",
       "      <th></th>\n",
       "      <th>id</th>\n",
       "      <th>Temparature</th>\n",
       "      <th>Humidity</th>\n",
       "      <th>Moisture</th>\n",
       "      <th>Soil Type</th>\n",
       "      <th>Crop Type</th>\n",
       "      <th>Nitrogen</th>\n",
       "      <th>Potassium</th>\n",
       "      <th>Phosphorous</th>\n",
       "      <th>Fertilizer Name</th>\n",
       "    </tr>\n",
       "  </thead>\n",
       "  <tbody>\n",
       "    <tr>\n",
       "      <th>0</th>\n",
       "      <td>0</td>\n",
       "      <td>37</td>\n",
       "      <td>70</td>\n",
       "      <td>36</td>\n",
       "      <td>Clayey</td>\n",
       "      <td>Sugarcane</td>\n",
       "      <td>36</td>\n",
       "      <td>4</td>\n",
       "      <td>5</td>\n",
       "      <td>28-28</td>\n",
       "    </tr>\n",
       "    <tr>\n",
       "      <th>1</th>\n",
       "      <td>1</td>\n",
       "      <td>27</td>\n",
       "      <td>69</td>\n",
       "      <td>65</td>\n",
       "      <td>Sandy</td>\n",
       "      <td>Millets</td>\n",
       "      <td>30</td>\n",
       "      <td>6</td>\n",
       "      <td>18</td>\n",
       "      <td>28-28</td>\n",
       "    </tr>\n",
       "    <tr>\n",
       "      <th>2</th>\n",
       "      <td>2</td>\n",
       "      <td>29</td>\n",
       "      <td>63</td>\n",
       "      <td>32</td>\n",
       "      <td>Sandy</td>\n",
       "      <td>Millets</td>\n",
       "      <td>24</td>\n",
       "      <td>12</td>\n",
       "      <td>16</td>\n",
       "      <td>17-17-17</td>\n",
       "    </tr>\n",
       "    <tr>\n",
       "      <th>3</th>\n",
       "      <td>3</td>\n",
       "      <td>35</td>\n",
       "      <td>62</td>\n",
       "      <td>54</td>\n",
       "      <td>Sandy</td>\n",
       "      <td>Barley</td>\n",
       "      <td>39</td>\n",
       "      <td>12</td>\n",
       "      <td>4</td>\n",
       "      <td>10-26-26</td>\n",
       "    </tr>\n",
       "    <tr>\n",
       "      <th>4</th>\n",
       "      <td>4</td>\n",
       "      <td>35</td>\n",
       "      <td>58</td>\n",
       "      <td>43</td>\n",
       "      <td>Red</td>\n",
       "      <td>Paddy</td>\n",
       "      <td>37</td>\n",
       "      <td>2</td>\n",
       "      <td>16</td>\n",
       "      <td>DAP</td>\n",
       "    </tr>\n",
       "  </tbody>\n",
       "</table>\n",
       "</div>"
      ],
      "text/plain": [
       "   id  Temparature  Humidity  Moisture Soil Type  Crop Type  Nitrogen  \\\n",
       "0   0           37        70        36    Clayey  Sugarcane        36   \n",
       "1   1           27        69        65     Sandy    Millets        30   \n",
       "2   2           29        63        32     Sandy    Millets        24   \n",
       "3   3           35        62        54     Sandy     Barley        39   \n",
       "4   4           35        58        43       Red      Paddy        37   \n",
       "\n",
       "   Potassium  Phosphorous Fertilizer Name  \n",
       "0          4            5           28-28  \n",
       "1          6           18           28-28  \n",
       "2         12           16        17-17-17  \n",
       "3         12            4        10-26-26  \n",
       "4          2           16             DAP  "
      ]
     },
     "execution_count": 3,
     "metadata": {},
     "output_type": "execute_result"
    }
   ],
   "source": [
    "df = pd.read_csv('train.csv')\n",
    "df.head()"
   ]
  },
  {
   "cell_type": "code",
   "execution_count": 5,
   "id": "d7d6d830-2de7-45e3-84fd-fffd3b93d5f0",
   "metadata": {},
   "outputs": [
    {
     "data": {
      "text/plain": [
       "Fertilizer Name\n",
       "14-35-14    114436\n",
       "10-26-26    113887\n",
       "17-17-17    112453\n",
       "28-28       111158\n",
       "20-20       110889\n",
       "DAP          94860\n",
       "Urea         92317\n",
       "Name: count, dtype: int64"
      ]
     },
     "execution_count": 5,
     "metadata": {},
     "output_type": "execute_result"
    }
   ],
   "source": [
    "df['Fertilizer Name'].value_counts()      # 다중분류모형"
   ]
  },
  {
   "cell_type": "code",
   "execution_count": 13,
   "id": "a77c45b6-b0b8-4d9a-8a49-a7d45a72c867",
   "metadata": {},
   "outputs": [
    {
     "data": {
      "text/html": [
       "<div>\n",
       "<style scoped>\n",
       "    .dataframe tbody tr th:only-of-type {\n",
       "        vertical-align: middle;\n",
       "    }\n",
       "\n",
       "    .dataframe tbody tr th {\n",
       "        vertical-align: top;\n",
       "    }\n",
       "\n",
       "    .dataframe thead th {\n",
       "        text-align: right;\n",
       "    }\n",
       "</style>\n",
       "<table border=\"1\" class=\"dataframe\">\n",
       "  <thead>\n",
       "    <tr style=\"text-align: right;\">\n",
       "      <th></th>\n",
       "      <th>id</th>\n",
       "      <th>Temparature</th>\n",
       "      <th>Humidity</th>\n",
       "      <th>Moisture</th>\n",
       "      <th>Soil Type</th>\n",
       "      <th>Crop Type</th>\n",
       "      <th>Nitrogen</th>\n",
       "      <th>Potassium</th>\n",
       "      <th>Phosphorous</th>\n",
       "      <th>Fertilizer Name</th>\n",
       "    </tr>\n",
       "  </thead>\n",
       "  <tbody>\n",
       "    <tr>\n",
       "      <th>0</th>\n",
       "      <td>0</td>\n",
       "      <td>37</td>\n",
       "      <td>70</td>\n",
       "      <td>36</td>\n",
       "      <td>1</td>\n",
       "      <td>8</td>\n",
       "      <td>36</td>\n",
       "      <td>4</td>\n",
       "      <td>5</td>\n",
       "      <td>4</td>\n",
       "    </tr>\n",
       "    <tr>\n",
       "      <th>1</th>\n",
       "      <td>1</td>\n",
       "      <td>27</td>\n",
       "      <td>69</td>\n",
       "      <td>65</td>\n",
       "      <td>4</td>\n",
       "      <td>4</td>\n",
       "      <td>30</td>\n",
       "      <td>6</td>\n",
       "      <td>18</td>\n",
       "      <td>4</td>\n",
       "    </tr>\n",
       "    <tr>\n",
       "      <th>2</th>\n",
       "      <td>2</td>\n",
       "      <td>29</td>\n",
       "      <td>63</td>\n",
       "      <td>32</td>\n",
       "      <td>4</td>\n",
       "      <td>4</td>\n",
       "      <td>24</td>\n",
       "      <td>12</td>\n",
       "      <td>16</td>\n",
       "      <td>2</td>\n",
       "    </tr>\n",
       "    <tr>\n",
       "      <th>3</th>\n",
       "      <td>3</td>\n",
       "      <td>35</td>\n",
       "      <td>62</td>\n",
       "      <td>54</td>\n",
       "      <td>4</td>\n",
       "      <td>0</td>\n",
       "      <td>39</td>\n",
       "      <td>12</td>\n",
       "      <td>4</td>\n",
       "      <td>0</td>\n",
       "    </tr>\n",
       "    <tr>\n",
       "      <th>4</th>\n",
       "      <td>4</td>\n",
       "      <td>35</td>\n",
       "      <td>58</td>\n",
       "      <td>43</td>\n",
       "      <td>3</td>\n",
       "      <td>6</td>\n",
       "      <td>37</td>\n",
       "      <td>2</td>\n",
       "      <td>16</td>\n",
       "      <td>5</td>\n",
       "    </tr>\n",
       "  </tbody>\n",
       "</table>\n",
       "</div>"
      ],
      "text/plain": [
       "   id  Temparature  Humidity  Moisture  Soil Type  Crop Type  Nitrogen  \\\n",
       "0   0           37        70        36          1          8        36   \n",
       "1   1           27        69        65          4          4        30   \n",
       "2   2           29        63        32          4          4        24   \n",
       "3   3           35        62        54          4          0        39   \n",
       "4   4           35        58        43          3          6        37   \n",
       "\n",
       "   Potassium  Phosphorous  Fertilizer Name  \n",
       "0          4            5                4  \n",
       "1          6           18                4  \n",
       "2         12           16                2  \n",
       "3         12            4                0  \n",
       "4          2           16                5  "
      ]
     },
     "execution_count": 13,
     "metadata": {},
     "output_type": "execute_result"
    }
   ],
   "source": [
    "# 인코딩 변환\n",
    "le_soil = LabelEncoder() #토양타입인코더\n",
    "le_crop = LabelEncoder() #작물타입인코더\n",
    "le_target = LabelEncoder()\n",
    "\n",
    "# 범주형 변수들을 숫자로 변환\n",
    "df['Soil Type'] = le_soil.fit_transform(df['Soil Type']) # 숫자로 변환\n",
    "df['Crop Type'] = le_crop.fit_transform(df['Crop Type']) # 숫자로 변환\n",
    "df['Fertilizer Name'] = le_target.fit_transform(df['Fertilizer Name']) # 숫자로 변환\n",
    "\n",
    "df.head()"
   ]
  },
  {
   "cell_type": "code",
   "execution_count": 15,
   "id": "3f82884f-586a-43c9-8f9f-f8a104ff7aa1",
   "metadata": {},
   "outputs": [],
   "source": [
    "# 입력 특성과 타겟 변수 분리\n",
    "features = df.drop(columns=['id', 'Fertilizer Name']) # id, target 제외 특성\n",
    "target = df['Fertilizer Name'] # 타겟변수"
   ]
  },
  {
   "cell_type": "code",
   "execution_count": 16,
   "id": "84fbf2a6-e208-48e8-9dfb-4057396d47e1",
   "metadata": {},
   "outputs": [],
   "source": [
    "scaler = StandardScaler()\n",
    "features_scaled = scaler.fit_transform(features) #특성정규화"
   ]
  },
  {
   "cell_type": "markdown",
   "id": "598bea94-8d7a-4fa6-867b-269276f71f0a",
   "metadata": {},
   "source": [
    "# 학습/검증 데이터 분리"
   ]
  },
  {
   "cell_type": "code",
   "execution_count": 17,
   "id": "b674d74f-907c-4f81-bfb0-b9b5b2720a14",
   "metadata": {},
   "outputs": [
    {
     "data": {
      "text/plain": [
       "((600000, 8), (150000, 8), (600000,), (150000,))"
      ]
     },
     "execution_count": 17,
     "metadata": {},
     "output_type": "execute_result"
    }
   ],
   "source": [
    "# 학습/검증 데이터 분할 (80:20)\n",
    "x_train, x_test, y_train, y_test = train_test_split(features_scaled, target, test_size=0.2, random_state=42)\n",
    "x_train.shape, x_test.shape, y_train.shape, y_test.shape"
   ]
  },
  {
   "cell_type": "markdown",
   "id": "9d6183b0-f360-4c79-a193-6514f3581b95",
   "metadata": {},
   "source": [
    "# 텐서변환 & gpu 사용"
   ]
  },
  {
   "cell_type": "code",
   "execution_count": 19,
   "id": "4c644cfa-093d-4e76-99a1-5e629a45cd32",
   "metadata": {},
   "outputs": [],
   "source": [
    "# GPU 사용 가능 여부에 따라 device 설정\n",
    "device = torch.device('cuda' if torch.cuda.is_available() else 'cpu')\n",
    "\n",
    "# 데이터를 PyTorch 텐서로 변환하고 device로 이동\n",
    "x_train_tensor = torch.tensor(x_train, dtype=torch.float32).to(device)  # 학습 데이터\n",
    "y_train_tensor = torch.tensor(y_train.values, dtype=torch.long).to(device)  # 학습 타겟\n",
    "x_test_tensor = torch.tensor(x_test, dtype=torch.float32).to(device)  # 검증 데이터\n",
    "y_test_tensor = torch.tensor(y_test.values, dtype=torch.long).to(device)  # 검증 타겟"
   ]
  },
  {
   "cell_type": "markdown",
   "id": "be7844df-a464-49af-80f7-16aa084c2f96",
   "metadata": {},
   "source": [
    "# 신경망 모델"
   ]
  },
  {
   "cell_type": "code",
   "execution_count": 20,
   "id": "bb13e197-a67e-42d2-99b6-0732af9cb953",
   "metadata": {},
   "outputs": [],
   "source": [
    "class FertilizerNet(nn.Module):\n",
    "    def __init__(self, input_dim, output_dim):\n",
    "        super(FertilizerNet, self).__init__()\n",
    "        self.fc1 = nn.Linear(input_dim, 32)              # 첫번째 연결층\n",
    "        self.relu = nn.ReLU()                            # 활성화 함수    ## 양수면 양수로 출력 음수면 0으로 출력\n",
    "        self.fc2 = nn.Linear(32,16)                      # 두번째 연결층\n",
    "        self.out = nn.Linear(16, output_dim)             # 출력층\n",
    "\n",
    "    def forward(self, x):\n",
    "        x = self.relu(self.fc1(x)) # 첫번째 층 통과\n",
    "        x = self.relu(self.fc2(x)) # 두번째 층 통과\n",
    "        x = self.out(x) # 출력층 통과\n",
    "        return x"
   ]
  },
  {
   "cell_type": "code",
   "execution_count": 23,
   "id": "cc4e57b1-598d-4291-ada6-c14874dcac3f",
   "metadata": {},
   "outputs": [
    {
     "data": {
      "text/plain": [
       "8"
      ]
     },
     "execution_count": 23,
     "metadata": {},
     "output_type": "execute_result"
    }
   ],
   "source": [
    "# 모델 초기화\n",
    "input_dim = x_train_tensor.shape[1]\n",
    "input_dim                             # 입력 특성의 차원"
   ]
  },
  {
   "cell_type": "code",
   "execution_count": 24,
   "id": "1a0bdf2f-b865-4cbb-8909-2261b0a94509",
   "metadata": {},
   "outputs": [
    {
     "data": {
      "text/plain": [
       "7"
      ]
     },
     "execution_count": 24,
     "metadata": {},
     "output_type": "execute_result"
    }
   ],
   "source": [
    "output_dim = len(le_target.classes_)  # 출력 클래스이ㅡ 수\n",
    "output_dim"
   ]
  },
  {
   "cell_type": "code",
   "execution_count": 25,
   "id": "5853b6ab-9ed8-4ac2-8fe1-1132b8c68749",
   "metadata": {},
   "outputs": [],
   "source": [
    "model = FertilizerNet(input_dim, output_dim).to(device) # 모델 생성 gpu로 연산 준비\n",
    "criterion = nn.CrossEntropyLoss() # 교차 엔트로피 손실 함수\n",
    "optimizer = optim.Adam(model.parameters(), lr = 0.01)      # adam 최적화 알고리즘"
   ]
  },
  {
   "cell_type": "markdown",
   "id": "d2bf3001-101d-4055-9720-fc4616575e4e",
   "metadata": {},
   "source": [
    "## 모델학습"
   ]
  },
  {
   "cell_type": "code",
   "execution_count": 26,
   "id": "603c28a8-fcd9-4f8e-b36f-a9d359c48614",
   "metadata": {},
   "outputs": [],
   "source": [
    "epochs = 100\n",
    "train_losses = []\n",
    "val_losses = []\n",
    "train_maps = []\n",
    "val_maps = []          # maps = 평가지표"
   ]
  },
  {
   "cell_type": "code",
   "execution_count": 32,
   "id": "c230af63-8786-49d4-b025-02f9b2e78c23",
   "metadata": {},
   "outputs": [
    {
     "name": "stdout",
     "output_type": "stream",
     "text": [
      "Epoch [10/100], Loss: 1.9382, Val Loss: 1.9396, Train MAP@3: 0.2917, Val MAP@3: 0.2883\n",
      "Epoch [20/100], Loss: 1.9381, Val Loss: 1.9396, Train MAP@3: 0.2917, Val MAP@3: 0.2880\n",
      "Epoch [30/100], Loss: 1.9381, Val Loss: 1.9395, Train MAP@3: 0.2919, Val MAP@3: 0.2880\n",
      "Epoch [40/100], Loss: 1.9381, Val Loss: 1.9395, Train MAP@3: 0.2919, Val MAP@3: 0.2881\n",
      "Epoch [50/100], Loss: 1.9380, Val Loss: 1.9396, Train MAP@3: 0.2921, Val MAP@3: 0.2877\n",
      "Epoch [60/100], Loss: 1.9380, Val Loss: 1.9396, Train MAP@3: 0.2921, Val MAP@3: 0.2879\n",
      "Epoch [70/100], Loss: 1.9380, Val Loss: 1.9396, Train MAP@3: 0.2921, Val MAP@3: 0.2876\n",
      "Epoch [80/100], Loss: 1.9380, Val Loss: 1.9396, Train MAP@3: 0.2922, Val MAP@3: 0.2877\n",
      "Epoch [90/100], Loss: 1.9379, Val Loss: 1.9395, Train MAP@3: 0.2922, Val MAP@3: 0.2878\n",
      "Epoch [100/100], Loss: 1.9379, Val Loss: 1.9395, Train MAP@3: 0.2923, Val MAP@3: 0.2877\n"
     ]
    }
   ],
   "source": [
    "for epoch in range(epochs):\n",
    "    model.train()            # 학습\n",
    "    outputs = model(x_train_tensor) # 순전파\n",
    "    loss = criterion(outputs, y_train_tensor) # 손실 계산\n",
    "    optimizer.zero_grad() # 그래디언트 초기화\n",
    "    loss.backward() # 역전파\n",
    "    optimizer.step() # 파라미터 업데이트\n",
    "    train_losses.append(loss.item()) # 손실 계산 집계\n",
    "\n",
    "    # 검증\n",
    "    with torch.no_grad():\n",
    "        train_probs = torch.softmax(outputs, dim=1)\n",
    "        # 각 샘플에 대해 상위 3개 클래스의 인덱스를 추출하고 CPU로 이동한 후 NumPy 배열로 변환\n",
    "        train_top3 = torch.topk(train_probs, k=3, dim=1).indices.cpu().numpy()\n",
    "        train_map = mapk(y_train_tensor.cpu().numpy(), train_top3, k=3)\n",
    "        train_maps.append(train_map)\n",
    "        \n",
    "        # validation\n",
    "    model.eval()\n",
    "    with torch.no_grad():\n",
    "        val_outputs = model(x_test_tensor)\n",
    "        val_loss = criterion(val_outputs, y_test_tensor)\n",
    "        val_losses.append(val_loss.item())\n",
    "        val_probs = torch.softmax(val_outputs, dim=1)\n",
    "        val_top3 = torch.topk(val_probs, 3, dim=1).indices.cpu().numpy()\n",
    "        val_map = mapk(y_test_tensor.cpu().numpy(), val_top3, k=3)\n",
    "        val_maps.append(val_map)\n",
    "\n",
    "    if (epoch + 1) % 10 == 0:\n",
    "        print(f\"Epoch [{epoch+1}/{epochs}], Loss: {loss.item():.4f}, Val Loss: {val_loss.item():.4f}, Train MAP@3: {train_map:.4f}, Val MAP@3: {val_map:.4f}\")"
   ]
  },
  {
   "cell_type": "code",
   "execution_count": null,
   "id": "d3cb6d2f-026f-4a8a-ab40-9b6911df3a3c",
   "metadata": {},
   "outputs": [],
   "source": []
  },
  {
   "cell_type": "code",
   "execution_count": 43,
   "id": "5a3adc2a-ca23-4367-aa13-493c0c1dc68b",
   "metadata": {},
   "outputs": [
    {
     "ename": "ValueError",
     "evalue": "invalid literal for int() with base 10: 'Sandy'",
     "output_type": "error",
     "traceback": [
      "\u001b[31m---------------------------------------------------------------------------\u001b[39m",
      "\u001b[31mValueError\u001b[39m                                Traceback (most recent call last)",
      "\u001b[36mCell\u001b[39m\u001b[36m \u001b[39m\u001b[32mIn[43]\u001b[39m\u001b[32m, line 10\u001b[39m\n\u001b[32m      8\u001b[39m \u001b[38;5;66;03m# 테스트 데이터 전처리\u001b[39;00m\n\u001b[32m      9\u001b[39m test_df = pd.read_csv(\u001b[33m\"\u001b[39m\u001b[33mtest.csv\u001b[39m\u001b[33m\"\u001b[39m)  \u001b[38;5;66;03m# 테스트 데이터 로드\u001b[39;00m\n\u001b[32m---> \u001b[39m\u001b[32m10\u001b[39m test_df[\u001b[33m'\u001b[39m\u001b[33mSoil Type\u001b[39m\u001b[33m'\u001b[39m] = \u001b[43mle_soil\u001b[49m\u001b[43m.\u001b[49m\u001b[43mtransform\u001b[49m\u001b[43m(\u001b[49m\u001b[43mtest_df\u001b[49m\u001b[43m[\u001b[49m\u001b[33;43m'\u001b[39;49m\u001b[33;43mSoil Type\u001b[39;49m\u001b[33;43m'\u001b[39;49m\u001b[43m]\u001b[49m\u001b[43m)\u001b[49m  \u001b[38;5;66;03m# 토양 타입 변환\u001b[39;00m\n\u001b[32m     11\u001b[39m test_df[\u001b[33m'\u001b[39m\u001b[33mCrop Type\u001b[39m\u001b[33m'\u001b[39m] = le_crop.transform(test_df[\u001b[33m'\u001b[39m\u001b[33mCrop Type\u001b[39m\u001b[33m'\u001b[39m])  \u001b[38;5;66;03m# 작물 타입 변환\u001b[39;00m\n\u001b[32m     12\u001b[39m test_features = test_df.drop(columns=[\u001b[33m'\u001b[39m\u001b[33mid\u001b[39m\u001b[33m'\u001b[39m])  \u001b[38;5;66;03m# id 제외\u001b[39;00m\n",
      "\u001b[36mFile \u001b[39m\u001b[32m~\\AppData\\Local\\Programs\\Python\\Python313\\Lib\\site-packages\\sklearn\\preprocessing\\_label.py:129\u001b[39m, in \u001b[36mLabelEncoder.transform\u001b[39m\u001b[34m(self, y)\u001b[39m\n\u001b[32m    127\u001b[39m check_is_fitted(\u001b[38;5;28mself\u001b[39m)\n\u001b[32m    128\u001b[39m xp, _ = get_namespace(y)\n\u001b[32m--> \u001b[39m\u001b[32m129\u001b[39m y = \u001b[43mcolumn_or_1d\u001b[49m\u001b[43m(\u001b[49m\u001b[43my\u001b[49m\u001b[43m,\u001b[49m\u001b[43m \u001b[49m\u001b[43mdtype\u001b[49m\u001b[43m=\u001b[49m\u001b[38;5;28;43mself\u001b[39;49m\u001b[43m.\u001b[49m\u001b[43mclasses_\u001b[49m\u001b[43m.\u001b[49m\u001b[43mdtype\u001b[49m\u001b[43m,\u001b[49m\u001b[43m \u001b[49m\u001b[43mwarn\u001b[49m\u001b[43m=\u001b[49m\u001b[38;5;28;43;01mTrue\u001b[39;49;00m\u001b[43m)\u001b[49m\n\u001b[32m    130\u001b[39m \u001b[38;5;66;03m# transform of empty array is empty array\u001b[39;00m\n\u001b[32m    131\u001b[39m \u001b[38;5;28;01mif\u001b[39;00m _num_samples(y) == \u001b[32m0\u001b[39m:\n",
      "\u001b[36mFile \u001b[39m\u001b[32m~\\AppData\\Local\\Programs\\Python\\Python313\\Lib\\site-packages\\sklearn\\utils\\validation.py:1456\u001b[39m, in \u001b[36mcolumn_or_1d\u001b[39m\u001b[34m(y, dtype, warn, device)\u001b[39m\n\u001b[32m   1418\u001b[39m \u001b[38;5;250m\u001b[39m\u001b[33;03m\"\"\"Ravel column or 1d numpy array, else raises an error.\u001b[39;00m\n\u001b[32m   1419\u001b[39m \n\u001b[32m   1420\u001b[39m \u001b[33;03mParameters\u001b[39;00m\n\u001b[32m   (...)\u001b[39m\u001b[32m   1453\u001b[39m \u001b[33;03marray([1, 1])\u001b[39;00m\n\u001b[32m   1454\u001b[39m \u001b[33;03m\"\"\"\u001b[39;00m\n\u001b[32m   1455\u001b[39m xp, _ = get_namespace(y)\n\u001b[32m-> \u001b[39m\u001b[32m1456\u001b[39m y = \u001b[43mcheck_array\u001b[49m\u001b[43m(\u001b[49m\n\u001b[32m   1457\u001b[39m \u001b[43m    \u001b[49m\u001b[43my\u001b[49m\u001b[43m,\u001b[49m\n\u001b[32m   1458\u001b[39m \u001b[43m    \u001b[49m\u001b[43mensure_2d\u001b[49m\u001b[43m=\u001b[49m\u001b[38;5;28;43;01mFalse\u001b[39;49;00m\u001b[43m,\u001b[49m\n\u001b[32m   1459\u001b[39m \u001b[43m    \u001b[49m\u001b[43mdtype\u001b[49m\u001b[43m=\u001b[49m\u001b[43mdtype\u001b[49m\u001b[43m,\u001b[49m\n\u001b[32m   1460\u001b[39m \u001b[43m    \u001b[49m\u001b[43minput_name\u001b[49m\u001b[43m=\u001b[49m\u001b[33;43m\"\u001b[39;49m\u001b[33;43my\u001b[39;49m\u001b[33;43m\"\u001b[39;49m\u001b[43m,\u001b[49m\n\u001b[32m   1461\u001b[39m \u001b[43m    \u001b[49m\u001b[43mensure_all_finite\u001b[49m\u001b[43m=\u001b[49m\u001b[38;5;28;43;01mFalse\u001b[39;49;00m\u001b[43m,\u001b[49m\n\u001b[32m   1462\u001b[39m \u001b[43m    \u001b[49m\u001b[43mensure_min_samples\u001b[49m\u001b[43m=\u001b[49m\u001b[32;43m0\u001b[39;49m\u001b[43m,\u001b[49m\n\u001b[32m   1463\u001b[39m \u001b[43m\u001b[49m\u001b[43m)\u001b[49m\n\u001b[32m   1465\u001b[39m shape = y.shape\n\u001b[32m   1466\u001b[39m \u001b[38;5;28;01mif\u001b[39;00m \u001b[38;5;28mlen\u001b[39m(shape) == \u001b[32m1\u001b[39m:\n",
      "\u001b[36mFile \u001b[39m\u001b[32m~\\AppData\\Local\\Programs\\Python\\Python313\\Lib\\site-packages\\sklearn\\utils\\validation.py:1053\u001b[39m, in \u001b[36mcheck_array\u001b[39m\u001b[34m(array, accept_sparse, accept_large_sparse, dtype, order, copy, force_writeable, force_all_finite, ensure_all_finite, ensure_non_negative, ensure_2d, allow_nd, ensure_min_samples, ensure_min_features, estimator, input_name)\u001b[39m\n\u001b[32m   1045\u001b[39m     \u001b[38;5;28;01mif\u001b[39;00m xp.isdtype(array.dtype, (\u001b[33m\"\u001b[39m\u001b[33mreal floating\u001b[39m\u001b[33m\"\u001b[39m, \u001b[33m\"\u001b[39m\u001b[33mcomplex floating\u001b[39m\u001b[33m\"\u001b[39m)):\n\u001b[32m   1046\u001b[39m         _assert_all_finite(\n\u001b[32m   1047\u001b[39m             array,\n\u001b[32m   1048\u001b[39m             allow_nan=\u001b[38;5;28;01mFalse\u001b[39;00m,\n\u001b[32m   (...)\u001b[39m\u001b[32m   1051\u001b[39m             input_name=input_name,\n\u001b[32m   1052\u001b[39m         )\n\u001b[32m-> \u001b[39m\u001b[32m1053\u001b[39m     array = \u001b[43mxp\u001b[49m\u001b[43m.\u001b[49m\u001b[43mastype\u001b[49m\u001b[43m(\u001b[49m\u001b[43marray\u001b[49m\u001b[43m,\u001b[49m\u001b[43m \u001b[49m\u001b[43mdtype\u001b[49m\u001b[43m,\u001b[49m\u001b[43m \u001b[49m\u001b[43mcopy\u001b[49m\u001b[43m=\u001b[49m\u001b[38;5;28;43;01mFalse\u001b[39;49;00m\u001b[43m)\u001b[49m\n\u001b[32m   1054\u001b[39m \u001b[38;5;28;01melse\u001b[39;00m:\n\u001b[32m   1055\u001b[39m     array = _asarray_with_order(array, order=order, dtype=dtype, xp=xp)\n",
      "\u001b[36mFile \u001b[39m\u001b[32m~\\AppData\\Local\\Programs\\Python\\Python313\\Lib\\site-packages\\sklearn\\utils\\_array_api.py:399\u001b[39m, in \u001b[36m_NumPyAPIWrapper.astype\u001b[39m\u001b[34m(self, x, dtype, copy, casting)\u001b[39m\n\u001b[32m    397\u001b[39m \u001b[38;5;28;01mdef\u001b[39;00m\u001b[38;5;250m \u001b[39m\u001b[34mastype\u001b[39m(\u001b[38;5;28mself\u001b[39m, x, dtype, *, copy=\u001b[38;5;28;01mTrue\u001b[39;00m, casting=\u001b[33m\"\u001b[39m\u001b[33munsafe\u001b[39m\u001b[33m\"\u001b[39m):\n\u001b[32m    398\u001b[39m     \u001b[38;5;66;03m# astype is not defined in the top level NumPy namespace\u001b[39;00m\n\u001b[32m--> \u001b[39m\u001b[32m399\u001b[39m     \u001b[38;5;28;01mreturn\u001b[39;00m \u001b[43mx\u001b[49m\u001b[43m.\u001b[49m\u001b[43mastype\u001b[49m\u001b[43m(\u001b[49m\u001b[43mdtype\u001b[49m\u001b[43m,\u001b[49m\u001b[43m \u001b[49m\u001b[43mcopy\u001b[49m\u001b[43m=\u001b[49m\u001b[43mcopy\u001b[49m\u001b[43m,\u001b[49m\u001b[43m \u001b[49m\u001b[43mcasting\u001b[49m\u001b[43m=\u001b[49m\u001b[43mcasting\u001b[49m\u001b[43m)\u001b[49m\n",
      "\u001b[31mValueError\u001b[39m: invalid literal for int() with base 10: 'Sandy'"
     ]
    }
   ],
   "source": [
    "# 모델 평가\n",
    "model.eval()  # 평가 모드\n",
    "with torch.no_grad():  # 그래디언트 계산 비활성화\n",
    "    test_outputs = model(x_test_tensor)  # 테스트 데이터 예측\n",
    "    _, predicted = torch.max(test_outputs, 1)  # 가장 높은 확률의 클래스 선택\n",
    "    accuracy = (predicted == y_test_tensor).float().mean().item()  # 정확도 계산\n",
    "\n",
    "# 테스트 데이터 전처리\n",
    "test_df = pd.read_csv(\"test.csv\")  # 테스트 데이터 로드\n",
    "test_df['Soil Type'] = le_soil.transform(test_df['Soil Type'])  # 토양 타입 변환\n",
    "test_df['Crop Type'] = le_crop.transform(test_df['Crop Type'])  # 작물 타입 변환\n",
    "test_features = test_df.drop(columns=['id'])  # id 제외\n",
    "test_features_scaled = scaler.transform(test_features)  # 특성 정규화\n",
    "X_test_final = torch.tensor(test_features_scaled, dtype=torch.float32).to(device)  # 텐서 변환\n",
    "\n",
    "# 최종 예측\n",
    "model.eval()\n",
    "with torch.no_grad():\n",
    "    outputs = model(X_test_final)  # 예측\n",
    "    probs = torch.softmax(outputs, dim=1)  # 확률로 변환\n",
    "    top3 = torch.topk(probs, 3, dim=1).indices.cpu().numpy()  # 상위 3개 클래스 선택\n",
    "\n",
    "# 예측 결과를 원래 레이블로 변환\n",
    "top3_labels = le_target.inverse_transform(top3.flatten()).reshape(top3.shape)\n",
    "\n",
    "# 제출 파일 생성\n",
    "submission = pd.DataFrame({\n",
    "    'id': test_df['id'],\n",
    "    'Fertilizer Name': [' '.join(row) for row in top3_labels]  # 각 행의 예측값을 공백으로 구분하여 결합\n",
    "})\n",
    "submission.to_csv('kaggle/submission_1536.csv', index=False)  # CSV 파일로 저장\n",
    "print(\"submission.csv 파일이 생성되었습니다.\")\n",
    "\n",
    "# 1x2 subplot 시각화\n",
    "fig, axes = plt.subplots(1, 2, figsize=(14, 5))\n",
    "# 왼쪽: 손실 곡선\n",
    "axes[0].plot(train_losses, label='Train Loss', color='tab:blue')\n",
    "axes[0].plot(val_losses, label='Validation Loss', color='tab:orange')\n",
    "axes[0].set_xlabel('Epoch')\n",
    "axes[0].set_ylabel('Loss')\n",
    "axes[0].set_title('Loss Curve')\n",
    "axes[0].legend()\n",
    "# 오른쪽: MAP@3 곡선\n",
    "axes[1].plot(train_maps, label='Train MAP@3', color='tab:green')\n",
    "axes[1].plot(val_maps, label='Validation MAP@3', color='tab:red')\n",
    "axes[1].set_xlabel('Epoch')\n",
    "axes[1].set_ylabel('MAP@3')\n",
    "axes[1].set_title('MAP@3 Curve')\n",
    "axes[1].legend()\n",
    "plt.tight_layout()\n",
    "plt.savefig('loss_map_curve_1x2.png')\n",
    "plt.show()\n"
   ]
  },
  {
   "cell_type": "code",
   "execution_count": null,
   "id": "28a52902-40a7-4933-a4c0-75c331ea307c",
   "metadata": {},
   "outputs": [],
   "source": []
  }
 ],
 "metadata": {
  "kernelspec": {
   "display_name": "Python 3 (ipykernel)",
   "language": "python",
   "name": "python3"
  },
  "language_info": {
   "codemirror_mode": {
    "name": "ipython",
    "version": 3
   },
   "file_extension": ".py",
   "mimetype": "text/x-python",
   "name": "python",
   "nbconvert_exporter": "python",
   "pygments_lexer": "ipython3",
   "version": "3.13.3"
  }
 },
 "nbformat": 4,
 "nbformat_minor": 5
}
