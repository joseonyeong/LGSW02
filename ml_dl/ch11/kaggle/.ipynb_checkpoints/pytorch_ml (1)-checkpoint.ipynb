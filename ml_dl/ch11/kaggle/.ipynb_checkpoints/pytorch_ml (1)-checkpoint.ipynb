{
 "cells": [
  {
   "cell_type": "markdown",
   "id": "a930d043-bb4a-4e5d-a883-439035ed48f2",
   "metadata": {},
   "source": [
    "# 회귀, Regression\n",
    "- 딥러닝 ==> 매우 많은 1차 방정식의 모음"
   ]
  },
  {
   "cell_type": "code",
   "execution_count": 9,
   "id": "83c8ea24-74e6-4df8-a840-23302cb69157",
   "metadata": {},
   "outputs": [
    {
     "name": "stdout",
     "output_type": "stream",
     "text": [
      "현재 사용중인 Device : cuda\n",
      "Epoch [100/1000], Loss: 6.1565\n",
      "Epoch [200/1000], Loss: 3.2705\n",
      "Epoch [300/1000], Loss: 1.9103\n",
      "Epoch [400/1000], Loss: 1.3615\n",
      "Epoch [500/1000], Loss: 1.1779\n",
      "Epoch [600/1000], Loss: 1.1277\n",
      "Epoch [700/1000], Loss: 1.1165\n",
      "Epoch [800/1000], Loss: 1.1144\n",
      "Epoch [900/1000], Loss: 1.1141\n",
      "Epoch [1000/1000], Loss: 1.1141\n"
     ]
    }
   ],
   "source": [
    "import torch \n",
    "import torch.nn as nn                # 신경망을 만드는 클래스\n",
    "import torch.optim as optim          # 학습을 원활하게 도와주는 도구\n",
    "import seaborn as sns \n",
    "import numpy as np \n",
    "from sklearn.model_selection import train_test_split \n",
    "from sklearn.preprocessing import StandardScaler\n",
    "\n",
    "# device 설정 \n",
    "device = torch.device('cuda' if torch.cuda.is_available() else 'cpu') \n",
    "print(f'현재 사용중인 Device : {device}')\n",
    "\n",
    "\n",
    "# 데이터 가져오기\n",
    "tips = sns.load_dataset('tips').dropna()\n",
    "\n",
    "# 데이터 분리\n",
    "X = tips[['total_bill', 'size']].values           # 두 변수\n",
    "y = tips['tip'].values.astype(np.float32)         # 회귀 대상 \n",
    "\n",
    "# 데이터 분할 \n",
    "X_train, X_test, y_train, y_test = train_test_split(\n",
    "    X, y, test_size=0.2, random_state=42\n",
    ")\n",
    "\n",
    "# X_train.shape, X_test.shape, y_train.shape, y_test.shape\n",
    "# 스케일링, 필수가 아니다. 각 변수의 성격을 잘 봐야 한다.\n",
    "scaler = StandardScaler()\n",
    "X_train = scaler.fit_transform(X_train)\n",
    "X_test = scaler.transform(X_test)\n",
    "\n",
    "# Tensor 변환 : PyTorch 프레임워크에 입력값으로 내가 추가를 하겠다. 형변환 필수\n",
    "# 이 때, 형변환 진행할 때, device 같이 입력\n",
    "X_train_tensor = torch.tensor(X_train, dtype=torch.float32).to(device)\n",
    "y_train_tensor = torch.tensor(y_train, dtype=torch.float32).unsqueeze(1).to(device)\n",
    "X_test_tensor = torch.tensor(X_test, dtype=torch.float32).to(device)\n",
    "y_test_tensor = torch.tensor(y_test, dtype=torch.float32).unsqueeze(1).to(device)\n",
    "\n",
    "\n",
    "# 회귀 모형 정의\n",
    "# 텐서 플로에서는 입문자분들이 굳이 클래스 만들 필요 없음\n",
    "# 파이토치는 무조건 클래스를 만들어야 함. \n",
    "class RegressionModel(nn.Module):\n",
    "    def __init__(self):\n",
    "        super(RegressionModel, self).__init__()\n",
    "        self.linear = nn.Linear(2, 1) # 독립변수의 갯수, 1개 출력\n",
    "\n",
    "    def forward(self, x):\n",
    "        return self.linear(x)         # 선형변환\n",
    "\n",
    "# 모델 초기화\n",
    "model = RegressionModel().to(device) # GPU 회귀 모형 사용\n",
    "criterion = nn.MSELoss()                            # 평균 제곱 오차 손실 함수 (Loss Function)\n",
    "optimizer = optim.Adam(model.parameters(), lr=0.01) # Adam 최적화 알고리즘\n",
    "\n",
    "# 위 두개념은 경사하강법에서 출발\n",
    "# ML의 예시 : LightGBM, XGBoost, CatBoost\n",
    "# 행렬곱셈 ==> 미분/적분 ==> 경사하강법을 이해할 수 있는 기본 토대\n",
    "\n",
    "# 모델 학습\n",
    "epochs = 1000\n",
    "for epoch in range(epochs): \n",
    "    model.train()          # 학습 모드 \n",
    "    optimizer.zero_grad()  # 그래디언트 초기화 \n",
    "    outputs = model(X_train_tensor)  # 순전파\n",
    "    loss = criterion(outputs, y_train_tensor) # 평가지표 계산\n",
    "    loss.backward() # 역전파\n",
    "    optimizer.step() # 파라미터(기울기, 절편) 업데이트, 행렬로 저장\n",
    "    \n",
    "    # 100 에포크마다 진행상황 출력\n",
    "    if (epoch + 1) % 100 == 0:\n",
    "        print(f\"Epoch [{epoch + 1}/{epochs}], Loss: {loss.item():.4f}\")"
   ]
  },
  {
   "cell_type": "markdown",
   "id": "260ff27d-91ee-49fe-b531-cc13746a62c2",
   "metadata": {},
   "source": [
    "# 분류"
   ]
  },
  {
   "cell_type": "code",
   "execution_count": 8,
   "id": "01e0c3ab-86d2-4361-956e-4b700a9fe583",
   "metadata": {},
   "outputs": [
    {
     "name": "stdout",
     "output_type": "stream",
     "text": [
      "Epoch [50/300], Loss: 1.2696\n",
      "Epoch [100/300], Loss: 1.2425\n",
      "Epoch [150/300], Loss: 1.2373\n",
      "Epoch [200/300], Loss: 1.2361\n",
      "Epoch [250/300], Loss: 1.2358\n",
      "Epoch [300/300], Loss: 1.2358\n",
      "0.3469387755102041\n"
     ]
    }
   ],
   "source": [
    "import torch \n",
    "import torch.nn as nn\n",
    "import torch.optim as optim \n",
    "import seaborn as sns \n",
    "import pandas as pd \n",
    "import numpy as np\n",
    "from sklearn.model_selection import train_test_split \n",
    "from sklearn.preprocessing import StandardScaler, LabelEncoder \n",
    "\n",
    "# 1. 데이터 가져오기 \n",
    "tips = sns.load_dataset('tips').dropna()\n",
    "\n",
    "# 2. 특성(X), 타겟(y) 설정\n",
    "X = tips[['total_bill', 'tip', 'size']].values\n",
    "le = LabelEncoder()\n",
    "y = le.fit_transform(tips['day'])  # Thur = 3, Fri = 0, Sat = 2, Sun = 1\n",
    "\n",
    "# 3. 훈련/테스트 분할 \n",
    "X_train, X_test, y_train, y_test = train_test_split(\n",
    "    X, y, test_size=0.2, random_state=42\n",
    ")\n",
    "\n",
    "# 4. 스케일링\n",
    "scaler = StandardScaler()\n",
    "X_train = scaler.fit_transform(X_train)\n",
    "X_test = scaler.transform(X_test)\n",
    "\n",
    "# 5. 텐서변환\n",
    "device = torch.device('cuda' if torch.cuda.is_available() else 'cpu')\n",
    "# Tensor 변환 : PyTorch 프레임워크에 입력값으로 내가 추가를 하겠다. 형변환 필수\n",
    "# 이 때, 형변환 진행할 때, device 같이 입력\n",
    "X_train_tensor = torch.tensor(X_train, dtype=torch.float32).to(device)\n",
    "y_train_tensor = torch.tensor(y_train, dtype=torch.long).to(device)\n",
    "X_test_tensor = torch.tensor(X_test, dtype=torch.float32).to(device)\n",
    "y_test_tensor = torch.tensor(y_test, dtype=torch.long).to(device)\n",
    "\n",
    "# 6. 모델 정의\n",
    "class ClassificationModel(nn.Module):\n",
    "    def __init__(self):\n",
    "        super(ClassificationModel, self).__init__()\n",
    "        # self.linear = nn.Linear(2, 1)   # 입력변수 2개, 출력값 1개\n",
    "        self.linear = nn.Linear(3, 4)     # 입력변수 3개, 출력값 4개\n",
    "\n",
    "    def forward(self, x):\n",
    "        return self.linear(x) # CrossEntropyLoss 활용, softmax 자동 계산됨\n",
    "\n",
    "# 7. 모델 초기화\n",
    "model = ClassificationModel().to(device)\n",
    "criterion = nn.CrossEntropyLoss() # softmax 자동 계산됨\n",
    "optimizer = optim.Adam(model.parameters(), lr=0.01) \n",
    "\n",
    "# 8. 학습\n",
    "epochs = 300\n",
    "for epoch in range(epochs):\n",
    "    model.train()\n",
    "    optimizer.zero_grad()\n",
    "    outputs = model(X_train_tensor)\n",
    "    loss = criterion(outputs, y_train_tensor)\n",
    "    loss.backward()\n",
    "    optimizer.step()\n",
    "\n",
    "    # 정확도 같이 들어가야 하나, 기존 코드와 유지 시키려고 생략)\n",
    "    if (epoch+1) % 50 == 0:\n",
    "        print(f\"Epoch [{epoch+1}/{epochs}], Loss: {loss.item():.4f}\")\n",
    "\n",
    "# 9. 평가\n",
    "model.eval()\n",
    "with torch.no_grad():\n",
    "    outputs = model(X_test_tensor)\n",
    "    _, predicted = torch.max(outputs, 1)\n",
    "    correct = (predicted == y_test_tensor).sum().item()\n",
    "    accuracy = correct / y_test_tensor.size(0)\n",
    "    print(accuracy)"
   ]
  },
  {
   "cell_type": "markdown",
   "id": "e14a3ddd-418b-48ec-9459-62b655decbcb",
   "metadata": {},
   "source": [
    "# PyTorch 다중분류"
   ]
  },
  {
   "cell_type": "code",
   "execution_count": 13,
   "id": "c0e3effa-05ba-4ece-a439-b5052d8a44a4",
   "metadata": {},
   "outputs": [],
   "source": [
    "# 필요한 라이브러리 임포트\n",
    "import torch  # PyTorch 딥러닝 프레임워크\n",
    "import torch.nn as nn  # 신경망 모듈\n",
    "import torch.optim as optim  # 최적화 알고리즘\n",
    "from sklearn.preprocessing import LabelEncoder, StandardScaler  # 데이터 전처리 도구\n",
    "from sklearn.model_selection import train_test_split  # 데이터 분할\n",
    "import pandas as pd  # 데이터 처리\n",
    "import matplotlib.pyplot as plt\n",
    "\n",
    "def mapk(actual, predicted, k=3):\n",
    "    \"\"\"\n",
    "    actual: (N,) numpy array, 정답 인덱스\n",
    "    predicted: (N, k) numpy array, 각 row별로 상위 k개 예측 인덱스\n",
    "    \"\"\"\n",
    "    score = 0.0\n",
    "    for a, p in zip(actual, predicted):\n",
    "        try:\n",
    "            idx = list(p).index(a)\n",
    "            score += 1.0 / (idx + 1)\n",
    "        except ValueError:\n",
    "            continue\n",
    "    return score / len(actual)"
   ]
  },
  {
   "cell_type": "code",
   "execution_count": 14,
   "id": "7a31637b-c37f-4b39-9e9a-28a4ceeb4d02",
   "metadata": {},
   "outputs": [
    {
     "data": {
      "text/html": [
       "<div>\n",
       "<style scoped>\n",
       "    .dataframe tbody tr th:only-of-type {\n",
       "        vertical-align: middle;\n",
       "    }\n",
       "\n",
       "    .dataframe tbody tr th {\n",
       "        vertical-align: top;\n",
       "    }\n",
       "\n",
       "    .dataframe thead th {\n",
       "        text-align: right;\n",
       "    }\n",
       "</style>\n",
       "<table border=\"1\" class=\"dataframe\">\n",
       "  <thead>\n",
       "    <tr style=\"text-align: right;\">\n",
       "      <th></th>\n",
       "      <th>id</th>\n",
       "      <th>Temparature</th>\n",
       "      <th>Humidity</th>\n",
       "      <th>Moisture</th>\n",
       "      <th>Soil Type</th>\n",
       "      <th>Crop Type</th>\n",
       "      <th>Nitrogen</th>\n",
       "      <th>Potassium</th>\n",
       "      <th>Phosphorous</th>\n",
       "      <th>Fertilizer Name</th>\n",
       "    </tr>\n",
       "  </thead>\n",
       "  <tbody>\n",
       "    <tr>\n",
       "      <th>0</th>\n",
       "      <td>0</td>\n",
       "      <td>37</td>\n",
       "      <td>70</td>\n",
       "      <td>36</td>\n",
       "      <td>Clayey</td>\n",
       "      <td>Sugarcane</td>\n",
       "      <td>36</td>\n",
       "      <td>4</td>\n",
       "      <td>5</td>\n",
       "      <td>28-28</td>\n",
       "    </tr>\n",
       "  </tbody>\n",
       "</table>\n",
       "</div>"
      ],
      "text/plain": [
       "   id  Temparature  Humidity  Moisture Soil Type  Crop Type  Nitrogen  \\\n",
       "0   0           37        70        36    Clayey  Sugarcane        36   \n",
       "\n",
       "   Potassium  Phosphorous Fertilizer Name  \n",
       "0          4            5           28-28  "
      ]
     },
     "execution_count": 14,
     "metadata": {},
     "output_type": "execute_result"
    }
   ],
   "source": [
    "# 학습 데이터 가져오기 \n",
    "df = pd.read_csv(\"kaggle/train.csv\")\n",
    "df.head(1)"
   ]
  },
  {
   "cell_type": "code",
   "execution_count": 15,
   "id": "cb009021-edd3-4254-af46-3c74c5b52ab7",
   "metadata": {},
   "outputs": [
    {
     "data": {
      "text/plain": [
       "Fertilizer Name\n",
       "14-35-14    114436\n",
       "10-26-26    113887\n",
       "17-17-17    112453\n",
       "28-28       111158\n",
       "20-20       110889\n",
       "DAP          94860\n",
       "Urea         92317\n",
       "Name: count, dtype: int64"
      ]
     },
     "execution_count": 15,
     "metadata": {},
     "output_type": "execute_result"
    }
   ],
   "source": [
    "df['Fertilizer Name'].value_counts() # 다중분류모형"
   ]
  },
  {
   "cell_type": "code",
   "execution_count": 16,
   "id": "d6d5cc03-9739-42c3-b470-b49bf481d184",
   "metadata": {},
   "outputs": [
    {
     "data": {
      "text/html": [
       "<div>\n",
       "<style scoped>\n",
       "    .dataframe tbody tr th:only-of-type {\n",
       "        vertical-align: middle;\n",
       "    }\n",
       "\n",
       "    .dataframe tbody tr th {\n",
       "        vertical-align: top;\n",
       "    }\n",
       "\n",
       "    .dataframe thead th {\n",
       "        text-align: right;\n",
       "    }\n",
       "</style>\n",
       "<table border=\"1\" class=\"dataframe\">\n",
       "  <thead>\n",
       "    <tr style=\"text-align: right;\">\n",
       "      <th></th>\n",
       "      <th>id</th>\n",
       "      <th>Temparature</th>\n",
       "      <th>Humidity</th>\n",
       "      <th>Moisture</th>\n",
       "      <th>Soil Type</th>\n",
       "      <th>Crop Type</th>\n",
       "      <th>Nitrogen</th>\n",
       "      <th>Potassium</th>\n",
       "      <th>Phosphorous</th>\n",
       "      <th>Fertilizer Name</th>\n",
       "    </tr>\n",
       "  </thead>\n",
       "  <tbody>\n",
       "    <tr>\n",
       "      <th>0</th>\n",
       "      <td>0</td>\n",
       "      <td>37</td>\n",
       "      <td>70</td>\n",
       "      <td>36</td>\n",
       "      <td>1</td>\n",
       "      <td>8</td>\n",
       "      <td>36</td>\n",
       "      <td>4</td>\n",
       "      <td>5</td>\n",
       "      <td>4</td>\n",
       "    </tr>\n",
       "    <tr>\n",
       "      <th>1</th>\n",
       "      <td>1</td>\n",
       "      <td>27</td>\n",
       "      <td>69</td>\n",
       "      <td>65</td>\n",
       "      <td>4</td>\n",
       "      <td>4</td>\n",
       "      <td>30</td>\n",
       "      <td>6</td>\n",
       "      <td>18</td>\n",
       "      <td>4</td>\n",
       "    </tr>\n",
       "    <tr>\n",
       "      <th>2</th>\n",
       "      <td>2</td>\n",
       "      <td>29</td>\n",
       "      <td>63</td>\n",
       "      <td>32</td>\n",
       "      <td>4</td>\n",
       "      <td>4</td>\n",
       "      <td>24</td>\n",
       "      <td>12</td>\n",
       "      <td>16</td>\n",
       "      <td>2</td>\n",
       "    </tr>\n",
       "    <tr>\n",
       "      <th>3</th>\n",
       "      <td>3</td>\n",
       "      <td>35</td>\n",
       "      <td>62</td>\n",
       "      <td>54</td>\n",
       "      <td>4</td>\n",
       "      <td>0</td>\n",
       "      <td>39</td>\n",
       "      <td>12</td>\n",
       "      <td>4</td>\n",
       "      <td>0</td>\n",
       "    </tr>\n",
       "    <tr>\n",
       "      <th>4</th>\n",
       "      <td>4</td>\n",
       "      <td>35</td>\n",
       "      <td>58</td>\n",
       "      <td>43</td>\n",
       "      <td>3</td>\n",
       "      <td>6</td>\n",
       "      <td>37</td>\n",
       "      <td>2</td>\n",
       "      <td>16</td>\n",
       "      <td>5</td>\n",
       "    </tr>\n",
       "  </tbody>\n",
       "</table>\n",
       "</div>"
      ],
      "text/plain": [
       "   id  Temparature  Humidity  Moisture  Soil Type  Crop Type  Nitrogen  \\\n",
       "0   0           37        70        36          1          8        36   \n",
       "1   1           27        69        65          4          4        30   \n",
       "2   2           29        63        32          4          4        24   \n",
       "3   3           35        62        54          4          0        39   \n",
       "4   4           35        58        43          3          6        37   \n",
       "\n",
       "   Potassium  Phosphorous  Fertilizer Name  \n",
       "0          4            5                4  \n",
       "1          6           18                4  \n",
       "2         12           16                2  \n",
       "3         12            4                0  \n",
       "4          2           16                5  "
      ]
     },
     "execution_count": 16,
     "metadata": {},
     "output_type": "execute_result"
    }
   ],
   "source": [
    "# 인코딩 변환 \n",
    "le_soil = LabelEncoder() # 토양 타입 인코더\n",
    "le_crop = LabelEncoder() # 작물 타입 인코더\n",
    "le_target = LabelEncoder() # 비료 이름 인코더 \n",
    "\n",
    "# 범주형 변수들을 숫자로 변환 \n",
    "df['Soil Type'] = le_soil.fit_transform(df['Soil Type']) # 숫자로 변환 \n",
    "df['Crop Type'] = le_crop.fit_transform(df['Crop Type']) # 숫자로 변환 \n",
    "df['Fertilizer Name'] = le_target.fit_transform(df['Fertilizer Name']) # 숫자로 변환 \n",
    "\n",
    "df.head()"
   ]
  },
  {
   "cell_type": "code",
   "execution_count": 18,
   "id": "adf52633-b9b9-4bfe-95fa-27a9d56746dd",
   "metadata": {},
   "outputs": [],
   "source": [
    "# 입력 특성과 타겟 변수 분리 \n",
    "features = df.drop(columns=['id', 'Fertilizer Name']) # id와 타겟변수 제외한 특성\n",
    "target = df['Fertilizer Name'] # 타겟변수 \n",
    "\n",
    "# 특성 스케일링 (정규화)\n",
    "scaler = StandardScaler() # 표준화 스케일러 생성 \n",
    "features_scaled = scaler.fit_transform(features) # 특성 정규화"
   ]
  },
  {
   "cell_type": "markdown",
   "id": "e671992a-0f28-40ef-94fa-a1ddf6d13dad",
   "metadata": {},
   "source": [
    "## 학습 검증 데이터 분리"
   ]
  },
  {
   "cell_type": "code",
   "execution_count": 19,
   "id": "ae1582f2-a983-45db-93ec-8aefdc1a02af",
   "metadata": {},
   "outputs": [
    {
     "data": {
      "text/plain": [
       "((600000, 8), (150000, 8), (600000,), (150000,))"
      ]
     },
     "execution_count": 19,
     "metadata": {},
     "output_type": "execute_result"
    }
   ],
   "source": [
    "# 학습/검증 데이터 분할 (80:20)\n",
    "X_train, X_test, y_train, y_test = train_test_split(features_scaled, target, test_size=0.2, random_state=42)\n",
    "\n",
    "X_train.shape, X_test.shape, y_train.shape, y_test.shape"
   ]
  },
  {
   "cell_type": "markdown",
   "id": "250a39c5-eaf3-40bb-bb2e-c84fb0315f43",
   "metadata": {},
   "source": [
    "# 텐서변환 & GPU 사용"
   ]
  },
  {
   "cell_type": "code",
   "execution_count": 21,
   "id": "6066b521-e861-4f20-8372-eaf3723c1d37",
   "metadata": {},
   "outputs": [],
   "source": [
    "# GPU 사용 가능 여부에 따라 device 설정\n",
    "device = torch.device('cuda' if torch.cuda.is_available() else 'cpu')\n",
    "\n",
    "# 데이터를 PyTorch 텐서로 변환하고 device로 이동\n",
    "X_train_tensor = torch.tensor(X_train, dtype=torch.float32).to(device)  # 학습 데이터\n",
    "y_train_tensor = torch.tensor(y_train.values, dtype=torch.long).to(device)  # 학습 타겟\n",
    "X_test_tensor = torch.tensor(X_test, dtype=torch.float32).to(device)  # 검증 데이터\n",
    "y_test_tensor = torch.tensor(y_test.values, dtype=torch.long).to(device)  # 검증 타겟"
   ]
  },
  {
   "cell_type": "markdown",
   "id": "095a82fd-2081-4c3c-ade2-a0d964aaf9fa",
   "metadata": {},
   "source": [
    "# 신경망 모델 정의"
   ]
  },
  {
   "cell_type": "code",
   "execution_count": 22,
   "id": "15531976-98a7-4005-bb43-ff0399b5d1f1",
   "metadata": {},
   "outputs": [],
   "source": [
    "class FertilizerNet(nn.Module): \n",
    "    def __init__(self, input_dim, output_dim):\n",
    "        super(FertilizerNet, self).__init__()\n",
    "        self.fc1 = nn.Linear(input_dim, 32)          # 첫번째 연결층\n",
    "        self.relu = nn.ReLU()                        # 활성화 함수\n",
    "        self.fc2 = nn.Linear(32, 16)                 # 두번째 연결층\n",
    "        self.out = nn.Linear(16, output_dim)         # 출력층 \n",
    "\n",
    "    def forward(self, x):\n",
    "        x = self.relu(self.fc1(x))                    # 첫번째 층 통과\n",
    "        x = self.relu(self.fc2(x))                    # 두번째 층 통과 \n",
    "        x = self.out(x)                               # 출력층 통과 \n",
    "        return x"
   ]
  },
  {
   "cell_type": "code",
   "execution_count": 26,
   "id": "f666832b-97e3-4588-a7c7-8b0ef33bf5df",
   "metadata": {},
   "outputs": [],
   "source": [
    "# 모델 초기화\n",
    "input_dim = X_train_tensor.shape[1]     # 입력 특성의 차원    \n",
    "output_dim = len(le_target.classes_)    # 출력 클래스의 수\n",
    "\n",
    "# input_dim, output_dim\n",
    "model = FertilizerNet(input_dim, output_dim).to(device)   # 모델 생성, GPU로 연산 준비\n",
    "criterion = nn.CrossEntropyLoss()                         # 교차 엔트로피 손실 함수\n",
    "optimizer = optim.Adam(model.parameters(), lr=0.01)       # Adam 최적화 알고리즘"
   ]
  },
  {
   "cell_type": "markdown",
   "id": "6cd48e26-3387-443c-9efb-89932ef53966",
   "metadata": {},
   "source": [
    "## 모델학습"
   ]
  },
  {
   "cell_type": "code",
   "execution_count": 29,
   "id": "9ce53844-955d-492d-8191-23d1fc548ddd",
   "metadata": {},
   "outputs": [
    {
     "name": "stdout",
     "output_type": "stream",
     "text": [
      "Epoch [10/100], Loss: 1.9422, Val Loss: 1.9422, Train MAP@3: 0.2800, Val MAP@3: 0.2795\n",
      "Epoch [20/100], Loss: 1.9419, Val Loss: 1.9419, Train MAP@3: 0.2820, Val MAP@3: 0.2810\n",
      "Epoch [30/100], Loss: 1.9417, Val Loss: 1.9417, Train MAP@3: 0.2834, Val MAP@3: 0.2820\n",
      "Epoch [40/100], Loss: 1.9415, Val Loss: 1.9416, Train MAP@3: 0.2842, Val MAP@3: 0.2834\n",
      "Epoch [50/100], Loss: 1.9413, Val Loss: 1.9414, Train MAP@3: 0.2848, Val MAP@3: 0.2843\n",
      "Epoch [60/100], Loss: 1.9411, Val Loss: 1.9413, Train MAP@3: 0.2857, Val MAP@3: 0.2852\n",
      "Epoch [70/100], Loss: 1.9409, Val Loss: 1.9412, Train MAP@3: 0.2861, Val MAP@3: 0.2847\n",
      "Epoch [80/100], Loss: 1.9407, Val Loss: 1.9411, Train MAP@3: 0.2864, Val MAP@3: 0.2844\n",
      "Epoch [90/100], Loss: 1.9405, Val Loss: 1.9410, Train MAP@3: 0.2866, Val MAP@3: 0.2847\n",
      "Epoch [100/100], Loss: 1.9404, Val Loss: 1.9409, Train MAP@3: 0.2871, Val MAP@3: 0.2844\n"
     ]
    }
   ],
   "source": [
    "epochs = 100                # 전체 학습 횟수\n",
    "train_losses = []\n",
    "val_losses = []\n",
    "train_maps = []\n",
    "val_maps = []\n",
    "\n",
    "for epoch in range(epochs):\n",
    "    model.train()                    # 학습 모드\n",
    "    outputs = model(X_train_tensor)  # 순전파\n",
    "    loss = criterion(outputs, y_train_tensor) # 손실 계산 \n",
    "    optimizer.zero_grad()            # 그래디언트 초기화 \n",
    "    loss.backward()                  # 역전파\n",
    "    optimizer.step()                 # 파라미터 업데이트\n",
    "    train_losses.append(loss.item()) # 손실 계산 집계 \n",
    "\n",
    "    # MAP@3 \n",
    "    # train MAP@3\n",
    "    with torch.no_grad():\n",
    "        train_probs = torch.softmax(outputs, dim=1) \n",
    "        # 각 샘플마다 확률값이 매겨짐\n",
    "        ## A 클래스일 확률 : 0.3, B : 0.2, etc \n",
    "        # 각 샘플에 대해 상위 3개 클래스의 인덱스를 추출하고 CPU로 이동한 후 NumPy 배열로 변환\n",
    "        train_top3 = torch.topk(train_probs, k=3, dim=1).indices.cpu().numpy()\n",
    "        train_map = mapk(y_train_tensor.cpu().numpy(), train_top3, k=3)\n",
    "        train_maps.append(train_map)\n",
    "\n",
    "    # validation 평가모드\n",
    "    model.eval()\n",
    "    with torch.no_grad():\n",
    "        val_outputs = model(X_test_tensor)\n",
    "        val_loss = criterion(val_outputs, y_test_tensor)\n",
    "        val_losses.append(val_loss.item())\n",
    "        val_probs = torch.softmax(val_outputs, dim=1)\n",
    "        val_top3 = torch.topk(val_probs, 3, dim=1).indices.cpu().numpy()\n",
    "        val_map = mapk(y_test_tensor.cpu().numpy(), val_top3, k=3)\n",
    "        val_maps.append(val_map)\n",
    "\n",
    "    if (epoch + 1) % 10 == 0:\n",
    "        print(f\"Epoch [{epoch+1}/{epochs}], Loss: {loss.item():.4f}, Val Loss: {val_loss.item():.4f}, Train MAP@3: {train_map:.4f}, Val MAP@3: {val_map:.4f}\")\n",
    " "
   ]
  },
  {
   "cell_type": "code",
   "execution_count": 34,
   "id": "0de3e60c-63f5-46ce-8de2-a120be27b422",
   "metadata": {},
   "outputs": [
    {
     "name": "stdout",
     "output_type": "stream",
     "text": [
      "submission.csv 파일이 생성되었습니다.\n"
     ]
    },
    {
     "data": {
      "image/png": "[encoded data removed]",
      "text/plain": [
       "<Figure size 1400x500 with 2 Axes>"
      ]
     },
     "metadata": {},
     "output_type": "display_data"
    }
   ],
   "source": [
    "# 모델 평가\n",
    "model.eval()  # 평가 모드\n",
    "with torch.no_grad():  # 그래디언트 계산 비활성화\n",
    "    test_outputs = model(X_test_tensor)  # 테스트 데이터 예측\n",
    "    _, predicted = torch.max(test_outputs, 1)  # 가장 높은 확률의 클래스 선택\n",
    "    accuracy = (predicted == y_test_tensor).float().mean().item()  # 정확도 계산\n",
    "\n",
    "# 테스트 데이터 전처리\n",
    "test_df = pd.read_csv(\"kaggle/test.csv\")  # 테스트 데이터 로드\n",
    "test_df['Soil Type'] = le_soil.transform(test_df['Soil Type'])  # 토양 타입 변환\n",
    "test_df['Crop Type'] = le_crop.transform(test_df['Crop Type'])  # 작물 타입 변환\n",
    "test_features = test_df.drop(columns=['id'])  # id 제외\n",
    "test_features_scaled = scaler.transform(test_features)  # 특성 정규화\n",
    "X_test_final = torch.tensor(test_features_scaled, dtype=torch.float32).to(device)  # 텐서 변환\n",
    "\n",
    "# 최종 예측\n",
    "model.eval()\n",
    "with torch.no_grad():\n",
    "    outputs = model(X_test_final)  # 예측\n",
    "    probs = torch.softmax(outputs, dim=1)  # 확률로 변환\n",
    "    top3 = torch.topk(probs, 3, dim=1).indices.cpu().numpy()  # 상위 3개 클래스 선택\n",
    "\n",
    "# 예측 결과를 원래 레이블로 변환\n",
    "top3_labels = le_target.inverse_transform(top3.flatten()).reshape(top3.shape)\n",
    "\n",
    "# 제출 파일 생성\n",
    "submission = pd.DataFrame({\n",
    "    'id': test_df['id'],\n",
    "    'Fertilizer Name': [' '.join(row) for row in top3_labels]  # 각 행의 예측값을 공백으로 구분하여 결합\n",
    "})\n",
    "submission.to_csv('kaggle/submission_1536.csv', index=False)  # CSV 파일로 저장\n",
    "print(\"submission.csv 파일이 생성되었습니다.\")\n",
    "\n",
    "# 1x2 subplot 시각화\n",
    "fig, axes = plt.subplots(1, 2, figsize=(14, 5))\n",
    "# 왼쪽: 손실 곡선\n",
    "axes[0].plot(train_losses, label='Train Loss', color='tab:blue')\n",
    "axes[0].plot(val_losses, label='Validation Loss', color='tab:orange')\n",
    "axes[0].set_xlabel('Epoch')\n",
    "axes[0].set_ylabel('Loss')\n",
    "axes[0].set_title('Loss Curve')\n",
    "axes[0].legend()\n",
    "# 오른쪽: MAP@3 곡선\n",
    "axes[1].plot(train_maps, label='Train MAP@3', color='tab:green')\n",
    "axes[1].plot(val_maps, label='Validation MAP@3', color='tab:red')\n",
    "axes[1].set_xlabel('Epoch')\n",
    "axes[1].set_ylabel('MAP@3')\n",
    "axes[1].set_title('MAP@3 Curve')\n",
    "axes[1].legend()\n",
    "plt.tight_layout()\n",
    "plt.savefig('loss_map_curve_1x2.png')\n",
    "plt.show()\n"
   ]
  }
 ],
 "metadata": {
  "kernelspec": {
   "display_name": "Python 3 (ipykernel)",
   "language": "python",
   "name": "python3"
  },
  "language_info": {
   "codemirror_mode": {
    "name": "ipython",
    "version": 3
   },
   "file_extension": ".py",
   "mimetype": "text/x-python",
   "name": "python",
   "nbconvert_exporter": "python",
   "pygments_lexer": "ipython3",
   "version": "3.13.3"
  }
 },
 "nbformat": 4,
 "nbformat_minor": 5
}
