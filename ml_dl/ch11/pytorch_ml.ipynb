{
 "cells": [
  {
   "cell_type": "markdown",
   "id": "7c45cc35-5082-498c-a043-90ac1f594803",
   "metadata": {},
   "source": [
    "# 회귀 ; regression\n",
    "- 딥러닝 ==> 매우 많은 1차 방정식의 모음"
   ]
  },
  {
   "cell_type": "code",
   "execution_count": 1,
   "id": "c789e16f-9daa-4fca-a084-70b0a8c2b031",
   "metadata": {},
   "outputs": [],
   "source": [
    "import torch\n",
    "import torch.nn as nn          # 신경망을 만드는 클래스\n",
    "import torch.optim as optim    # 학습을 원활하게 도와주는 도구\n",
    "import seaborn as sns\n",
    "import numpy as np\n",
    "from sklearn.model_selection import train_test_split\n",
    "from sklearn.preprocessing import StandardScaler"
   ]
  },
  {
   "cell_type": "code",
   "execution_count": 2,
   "id": "4fee4b3f-e771-4e59-b927-8e2ae6cd911b",
   "metadata": {},
   "outputs": [
    {
     "name": "stdout",
     "output_type": "stream",
     "text": [
      "현재 사용 중인 Device : cuda\n"
     ]
    }
   ],
   "source": [
    "# device 설정\n",
    "device = torch.device('cuda' if torch.cuda.is_available() else 'cpu')\n",
    "print(f'현재 사용 중인 Device : {device}')"
   ]
  },
  {
   "cell_type": "code",
   "execution_count": 3,
   "id": "3a7c7d5a-10f7-474f-a23a-f18433152c72",
   "metadata": {},
   "outputs": [
    {
     "data": {
      "text/html": [
       "<div>\n",
       "<style scoped>\n",
       "    .dataframe tbody tr th:only-of-type {\n",
       "        vertical-align: middle;\n",
       "    }\n",
       "\n",
       "    .dataframe tbody tr th {\n",
       "        vertical-align: top;\n",
       "    }\n",
       "\n",
       "    .dataframe thead th {\n",
       "        text-align: right;\n",
       "    }\n",
       "</style>\n",
       "<table border=\"1\" class=\"dataframe\">\n",
       "  <thead>\n",
       "    <tr style=\"text-align: right;\">\n",
       "      <th></th>\n",
       "      <th>total_bill</th>\n",
       "      <th>tip</th>\n",
       "      <th>sex</th>\n",
       "      <th>smoker</th>\n",
       "      <th>day</th>\n",
       "      <th>time</th>\n",
       "      <th>size</th>\n",
       "    </tr>\n",
       "  </thead>\n",
       "  <tbody>\n",
       "    <tr>\n",
       "      <th>0</th>\n",
       "      <td>16.99</td>\n",
       "      <td>1.01</td>\n",
       "      <td>Female</td>\n",
       "      <td>No</td>\n",
       "      <td>Sun</td>\n",
       "      <td>Dinner</td>\n",
       "      <td>2</td>\n",
       "    </tr>\n",
       "    <tr>\n",
       "      <th>1</th>\n",
       "      <td>10.34</td>\n",
       "      <td>1.66</td>\n",
       "      <td>Male</td>\n",
       "      <td>No</td>\n",
       "      <td>Sun</td>\n",
       "      <td>Dinner</td>\n",
       "      <td>3</td>\n",
       "    </tr>\n",
       "    <tr>\n",
       "      <th>2</th>\n",
       "      <td>21.01</td>\n",
       "      <td>3.50</td>\n",
       "      <td>Male</td>\n",
       "      <td>No</td>\n",
       "      <td>Sun</td>\n",
       "      <td>Dinner</td>\n",
       "      <td>3</td>\n",
       "    </tr>\n",
       "    <tr>\n",
       "      <th>3</th>\n",
       "      <td>23.68</td>\n",
       "      <td>3.31</td>\n",
       "      <td>Male</td>\n",
       "      <td>No</td>\n",
       "      <td>Sun</td>\n",
       "      <td>Dinner</td>\n",
       "      <td>2</td>\n",
       "    </tr>\n",
       "    <tr>\n",
       "      <th>4</th>\n",
       "      <td>24.59</td>\n",
       "      <td>3.61</td>\n",
       "      <td>Female</td>\n",
       "      <td>No</td>\n",
       "      <td>Sun</td>\n",
       "      <td>Dinner</td>\n",
       "      <td>4</td>\n",
       "    </tr>\n",
       "  </tbody>\n",
       "</table>\n",
       "</div>"
      ],
      "text/plain": [
       "   total_bill   tip     sex smoker  day    time  size\n",
       "0       16.99  1.01  Female     No  Sun  Dinner     2\n",
       "1       10.34  1.66    Male     No  Sun  Dinner     3\n",
       "2       21.01  3.50    Male     No  Sun  Dinner     3\n",
       "3       23.68  3.31    Male     No  Sun  Dinner     2\n",
       "4       24.59  3.61  Female     No  Sun  Dinner     4"
      ]
     },
     "execution_count": 3,
     "metadata": {},
     "output_type": "execute_result"
    }
   ],
   "source": [
    "# 데이터 가져오기\n",
    "tips = sns.load_dataset('tips').dropna()     # 결측치 제거\n",
    "tips.head()"
   ]
  },
  {
   "cell_type": "code",
   "execution_count": 4,
   "id": "8de886ca-bba6-4845-ba57-525ada16a544",
   "metadata": {},
   "outputs": [],
   "source": [
    "# 데이터 분리\n",
    "x = tips[['total_bill', 'size']].values      # 두 변수 가져오기   \n",
    "## 딥러닝은 기본적으로 행렬 연산임\n",
    "## padnas는 사이킬런과 다르게 ~~\n",
    "## numpy 배열 형태로 바꿔줘야함.\n",
    "## ????????????????????????????????????????????\n",
    "y = tips['tip'].values.astype(np.float32)    # 회귀 대상"
   ]
  },
  {
   "cell_type": "code",
   "execution_count": 5,
   "id": "5eed0af0-dba2-4071-81b3-4898c787d64c",
   "metadata": {},
   "outputs": [
    {
     "data": {
      "text/plain": [
       "((195, 2), (49, 2), (195,), (49,))"
      ]
     },
     "execution_count": 5,
     "metadata": {},
     "output_type": "execute_result"
    }
   ],
   "source": [
    "# 데이터 분할\n",
    "x_train, x_test, y_train, y_test = train_test_split(\n",
    "    x, y, test_size=0.2,\n",
    "    random_state=42\n",
    ")\n",
    "x_train.shape, x_test.shape, y_train.shape, y_test.shape"
   ]
  },
  {
   "cell_type": "code",
   "execution_count": 6,
   "id": "5f45fad1-2c06-4e01-b575-6b8b1559945a",
   "metadata": {},
   "outputs": [],
   "source": [
    "# 스케일링 -> 필수 아님. 각 변수의 성격을 잘 봐야함\n",
    "scaler = StandardScaler()\n",
    "x_train = scaler.fit_transform(x_train)\n",
    "x_test = scaler.transform(x_test)"
   ]
  },
  {
   "cell_type": "code",
   "execution_count": 7,
   "id": "c5cbda85-5728-4cd6-a7ca-78c4146ac304",
   "metadata": {},
   "outputs": [],
   "source": [
    "# Tensor 변환 : PyTorch 프레임워크에 입력값으로 내가 추가를 하겠다. 형변환 필수\n",
    "# 이때 형변환 진행할 때, device 같이 입력\n",
    "x_train_tensor = torch.tensor(x_train, dtype=torch.float32).to(device)\n",
    "y_train_tensor = torch.tensor(y_train, dtype=torch.float32).unsqueeze(1).to(device)\n",
    "x_test_tensor = torch.tensor(x_test, dtype=torch.float32).to(device)\n",
    "y_test_tensor = torch.tensor(y_test, dtype=torch.float32).unsqueeze(1).to(device)"
   ]
  },
  {
   "cell_type": "code",
   "execution_count": 8,
   "id": "d0ae7bf6-1fb1-4252-8305-f0df510b51ab",
   "metadata": {},
   "outputs": [],
   "source": [
    "# 회귀 모형 정의\n",
    "# 텐서플로에서는 입문자들이 굳이 클래스를 만들 필요 없음\n",
    "# 파이토치는 무조건 클래스를 만들어야 함. -> 문법의 차이 (텐서 vs 파이토치)\n",
    "\n",
    "class RegressionModel(nn.Module):\n",
    "    def __init__(self):\n",
    "        super(RegressionModel, self).__init__()\n",
    "        self.linear = nn.Linear(2,1)                   # 2:독립변수의 개수, 1: 출력 개수 -> 수치예측이니깐 1개만 출력함\n",
    "\n",
    "    def forward(self, x):\n",
    "        return self.linear(x)                          # 선형변환"
   ]
  },
  {
   "cell_type": "code",
   "execution_count": 9,
   "id": "a436301f-947a-41a4-9bba-549dafb084c7",
   "metadata": {},
   "outputs": [],
   "source": [
    "# 모델 초기화\n",
    "model = RegressionModel().to(device)                   # GPU를 쓰면서 모델을 쓰겠다. -> GPU 회귀 모형 사용\n",
    "# 아래 두 개념은 경사하강법에서 출발 (MSELoss, Adam)\n",
    "# ML의 예시 : LightGBM, XGBoost, CatBoost\n",
    "criterion = nn.MSELoss()                               # 평균 제곱 오차 손실 함수 (Loss Function)\n",
    "optimizer = optim.Adam(model.parameters(), lr=0.01)    # Adam 최적화 알고리즘"
   ]
  },
  {
   "cell_type": "code",
   "execution_count": 10,
   "id": "000279b6-3994-42de-9e6a-b65e097cb203",
   "metadata": {},
   "outputs": [
    {
     "name": "stdout",
     "output_type": "stream",
     "text": [
      "Epoch [100/1000], Loss: 8.6119\n",
      "Epoch [200/1000], Loss: 4.8619\n",
      "Epoch [300/1000], Loss: 2.7924\n",
      "Epoch [400/1000], Loss: 1.7782\n",
      "Epoch [500/1000], Loss: 1.3438\n",
      "Epoch [600/1000], Loss: 1.1830\n",
      "Epoch [700/1000], Loss: 1.1319\n",
      "Epoch [800/1000], Loss: 1.1181\n",
      "Epoch [900/1000], Loss: 1.1149\n",
      "Epoch [1000/1000], Loss: 1.1142\n"
     ]
    }
   ],
   "source": [
    "# 모델 학습\n",
    "epochs = 1000                                           # 보통 epochs이라는 변수를 씀\n",
    "for epoch in range(epochs) :\n",
    "    model.train()                                       # 학습 모드\n",
    "    optimizer.zero_grad()                               # 그래디언트 초기화 (학습하고 초기화 또 학습하고 초기화)\n",
    "    outputs = model(x_train_tensor)                     # 순전파\n",
    "    loss = criterion(outputs, y_train_tensor)           # 평가지표 계산\n",
    "    loss.backward()                                     # 역전파\n",
    "    optimizer.step()                                    # 파라미터 (기울기,절편) 업데이트, 행렬로 저장\n",
    "\n",
    "    # 100 에포크마다 진행상황 출력\n",
    "    if (epoch + 1) % 100 == 0:\n",
    "        print(f\"Epoch [{epoch + 1}/{epochs}], Loss: {loss.item():.4f}\")"
   ]
  },
  {
   "cell_type": "code",
   "execution_count": null,
   "id": "02e5a967-68bd-4565-80af-0116a0407307",
   "metadata": {},
   "outputs": [],
   "source": []
  },
  {
   "cell_type": "code",
   "execution_count": null,
   "id": "da73eb35-2820-462a-aaa2-17da818c0cea",
   "metadata": {},
   "outputs": [],
   "source": []
  },
  {
   "cell_type": "code",
   "execution_count": null,
   "id": "ed4e063b-53dc-4310-b71d-c2c0c7ec19df",
   "metadata": {},
   "outputs": [],
   "source": []
  },
  {
   "cell_type": "markdown",
   "id": "e1c8b574-bf7d-4375-bd1e-eee5df09cdd6",
   "metadata": {},
   "source": [
    "# 분류"
   ]
  },
  {
   "cell_type": "code",
   "execution_count": 46,
   "id": "0fba84d8-81a7-4cab-890d-03c7997870d5",
   "metadata": {},
   "outputs": [],
   "source": [
    "import torch\n",
    "import torch.nn as nn\n",
    "import torch.optim as optim\n",
    "import seaborn as sns\n",
    "import pandas as pd\n",
    "import numpy as np\n",
    "from sklearn.model_selection import train_test_split\n",
    "from sklearn.preprocessing import StandardScaler, LabelEncoder"
   ]
  },
  {
   "cell_type": "code",
   "execution_count": 47,
   "id": "0f86942d-8d31-450b-80bd-2b2f775ab65e",
   "metadata": {},
   "outputs": [
    {
     "data": {
      "text/plain": [
       "device(type='cuda')"
      ]
     },
     "execution_count": 47,
     "metadata": {},
     "output_type": "execute_result"
    }
   ],
   "source": [
    "# 디바이스 설정\n",
    "device = torch .device('cuda' if torch.cuda.is_available() else 'cpu')\n",
    "device"
   ]
  },
  {
   "cell_type": "code",
   "execution_count": 48,
   "id": "a59af3bf-f4bd-43d4-a710-769311b96296",
   "metadata": {},
   "outputs": [
    {
     "data": {
      "text/html": [
       "<div>\n",
       "<style scoped>\n",
       "    .dataframe tbody tr th:only-of-type {\n",
       "        vertical-align: middle;\n",
       "    }\n",
       "\n",
       "    .dataframe tbody tr th {\n",
       "        vertical-align: top;\n",
       "    }\n",
       "\n",
       "    .dataframe thead th {\n",
       "        text-align: right;\n",
       "    }\n",
       "</style>\n",
       "<table border=\"1\" class=\"dataframe\">\n",
       "  <thead>\n",
       "    <tr style=\"text-align: right;\">\n",
       "      <th></th>\n",
       "      <th>total_bill</th>\n",
       "      <th>tip</th>\n",
       "      <th>sex</th>\n",
       "      <th>smoker</th>\n",
       "      <th>day</th>\n",
       "      <th>time</th>\n",
       "      <th>size</th>\n",
       "    </tr>\n",
       "  </thead>\n",
       "  <tbody>\n",
       "    <tr>\n",
       "      <th>0</th>\n",
       "      <td>16.99</td>\n",
       "      <td>1.01</td>\n",
       "      <td>Female</td>\n",
       "      <td>No</td>\n",
       "      <td>Sun</td>\n",
       "      <td>Dinner</td>\n",
       "      <td>2</td>\n",
       "    </tr>\n",
       "  </tbody>\n",
       "</table>\n",
       "</div>"
      ],
      "text/plain": [
       "   total_bill   tip     sex smoker  day    time  size\n",
       "0       16.99  1.01  Female     No  Sun  Dinner     2"
      ]
     },
     "execution_count": 48,
     "metadata": {},
     "output_type": "execute_result"
    }
   ],
   "source": [
    "# 데이터 가져오기\n",
    "tips = sns.load_dataset('tips').dropna()\n",
    "tips.head(1)"
   ]
  },
  {
   "cell_type": "code",
   "execution_count": 49,
   "id": "652143ed-20da-4735-97eb-6702e17d4447",
   "metadata": {},
   "outputs": [
    {
     "data": {
      "text/plain": [
       "array([2, 2, 2, 2, 2, 2, 2, 2, 2, 2, 2, 2, 2, 2, 2, 2, 2, 2, 2, 1, 1, 1,\n",
       "       1, 1, 1, 1, 1, 1, 1, 1, 1, 1, 1, 1, 1, 1, 1, 1, 1, 1, 1, 2, 2, 2,\n",
       "       2, 2, 2, 2, 2, 2, 2, 2, 2, 2, 2, 2, 1, 1, 1, 1, 1, 1, 1, 1, 1, 1,\n",
       "       1, 1, 1, 1, 1, 1, 1, 1, 1, 1, 1, 3, 3, 3, 3, 3, 3, 3, 3, 3, 3, 3,\n",
       "       3, 3, 0, 0, 0, 0, 0, 0, 0, 0, 0, 0, 0, 0, 1, 1, 1, 1, 1, 1, 1, 1,\n",
       "       1, 1, 2, 2, 2, 2, 2, 3, 3, 3, 3, 3, 3, 3, 3, 3, 3, 3, 3, 3, 3, 3,\n",
       "       3, 3, 3, 3, 3, 3, 3, 3, 3, 3, 3, 3, 3, 3, 3, 3, 3, 3, 2, 2, 2, 2,\n",
       "       2, 2, 2, 2, 2, 2, 2, 2, 2, 2, 2, 2, 2, 2, 1, 1, 1, 1, 2, 2, 2, 2,\n",
       "       2, 2, 2, 2, 2, 2, 2, 2, 2, 2, 2, 2, 2, 2, 2, 3, 3, 3, 3, 3, 3, 3,\n",
       "       3, 3, 3, 3, 3, 3, 3, 3, 1, 1, 1, 1, 1, 1, 1, 1, 1, 1, 1, 1, 1, 1,\n",
       "       0, 0, 0, 0, 0, 0, 0, 1, 1, 1, 1, 1, 1, 1, 1, 1, 1, 1, 1, 1, 1, 1,\n",
       "       1, 3])"
      ]
     },
     "execution_count": 49,
     "metadata": {},
     "output_type": "execute_result"
    }
   ],
   "source": [
    "# 특성, 타겟 설정\n",
    "x = tips[['total_bill', 'tip', 'size']].values\n",
    "le = LabelEncoder()\n",
    "y = le.fit_transform(tips['day'])                # 입력값을 입력하면 요일을 맞추겠다..\n",
    "y                                                # Thur = 3, Fri = 0, sat = 2, sun = 1"
   ]
  },
  {
   "cell_type": "code",
   "execution_count": 50,
   "id": "e399df6d-27a0-4417-9f6f-331d7d1a1f36",
   "metadata": {},
   "outputs": [],
   "source": [
    "# 데이터 분할\n",
    "x_train, x_test, y_train, y_test = train_test_split(\n",
    "    x, y, test_size=0.2,\n",
    "    random_state=42\n",
    ")"
   ]
  },
  {
   "cell_type": "code",
   "execution_count": 51,
   "id": "d7dac3f3-ab20-41d7-aa9e-3abaabefae78",
   "metadata": {},
   "outputs": [],
   "source": [
    "# 스케일링\n",
    "scaler = StandardScaler()\n",
    "x_trian = scaler.fit_transform(x_train)\n",
    "x_test = scaler.transform(x_test)"
   ]
  },
  {
   "cell_type": "code",
   "execution_count": 52,
   "id": "4696f4af-0dd6-44f2-b0bd-ffd7adee4451",
   "metadata": {},
   "outputs": [],
   "source": [
    "# Tensor 변환 \n",
    "# y값에 대해서만 long값으로 변경 + 언스퀴지도 삭제\n",
    "x_train_tensor = torch.tensor(x_train, dtype=torch.float32).to(device)\n",
    "y_train_tensor = torch.tensor(y_train, dtype=torch.long).to(device)\n",
    "x_test_tensor = torch.tensor(x_test, dtype=torch.float32).to(device)\n",
    "y_test_tensor = torch.tensor(y_test, dtype=torch.long).to(device)"
   ]
  },
  {
   "cell_type": "code",
   "execution_count": 56,
   "id": "51bcc7df-2018-463b-a9b6-6bd097db2027",
   "metadata": {},
   "outputs": [],
   "source": [
    "# 모델 정의\n",
    "class ClassificationModel(nn.Module):\n",
    "    def __init__(self):\n",
    "        super(ClassificationModel, self).__init__()\n",
    "        self.linear = nn.Linear(3,4)                # 위에 수치예측에선 (2,1)로 정의함 (입력2, 출력1)\n",
    "                                                    # 여기는 입력변수 3개, 출력값 4개로 설정함\n",
    "                                                    # 왜?\n",
    "    def forward(self, x): \n",
    "        return self.linear(x)                   # CrossEntropyLoss 활용, softmax 자동 계산됨"
   ]
  },
  {
   "cell_type": "code",
   "execution_count": 57,
   "id": "7f30a7b3-ce3c-422a-99e8-77fd75b021c1",
   "metadata": {},
   "outputs": [],
   "source": [
    "# 모델 초기화\n",
    "model = ClassificationModel().to(device)\n",
    "criterion = nn.CrossEntropyLoss()\n",
    "optimizer = optim.Adam(model.parameters(), lr = 0.01)"
   ]
  },
  {
   "cell_type": "code",
   "execution_count": 58,
   "id": "bfa1a85e-ad2a-47a9-ac56-2f93f38d7b1f",
   "metadata": {},
   "outputs": [
    {
     "name": "stdout",
     "output_type": "stream",
     "text": [
      "Epoch [50/300], Loss: 1.3999\n",
      "Epoch [100/300], Loss: 1.2980\n",
      "Epoch [150/300], Loss: 1.2659\n",
      "Epoch [200/300], Loss: 1.2526\n",
      "Epoch [250/300], Loss: 1.2457\n",
      "Epoch [300/300], Loss: 1.2421\n"
     ]
    }
   ],
   "source": [
    "# 학습\n",
    "epochs = 300  # 총 300번 학습을 돌림\n",
    "for epoch in range(epochs):\n",
    "    model.train()\n",
    "    optimizer.zero_grad()\n",
    "    outputs = model(x_train_tensor)\n",
    "    loss = criterion(outputs, y_train_tensor)\n",
    "    loss.backward()\n",
    "    optimizer.step()\n",
    "\n",
    "    if (epoch+1) % 50 == 0:\n",
    "        print(f\"Epoch [{epoch+1}/{epochs}], Loss: {loss.item():.4f}\")"
   ]
  },
  {
   "cell_type": "code",
   "execution_count": 61,
   "id": "5a1cde1c-7365-48e9-8eed-358f8212ec2a",
   "metadata": {},
   "outputs": [
    {
     "name": "stdout",
     "output_type": "stream",
     "text": [
      "0.30612244897959184\n"
     ]
    }
   ],
   "source": [
    "# 평가\n",
    "model.eval()\n",
    "with torch.no_grad():\n",
    "    outputs = model(x_test_tensor)\n",
    "    _, predicted = torch.max(outputs,1)\n",
    "    correct = (predicted == y_test_tensor).sum().item()\n",
    "    accuracy = correct / y_test_tensor.size(0)\n",
    "    print(accuracy)"
   ]
  },
  {
   "cell_type": "code",
   "execution_count": null,
   "id": "16d592b3-add8-4e6a-88f9-acbcfc825d0e",
   "metadata": {},
   "outputs": [],
   "source": []
  }
 ],
 "metadata": {
  "kernelspec": {
   "display_name": "Python 3 (ipykernel)",
   "language": "python",
   "name": "python3"
  },
  "language_info": {
   "codemirror_mode": {
    "name": "ipython",
    "version": 3
   },
   "file_extension": ".py",
   "mimetype": "text/x-python",
   "name": "python",
   "nbconvert_exporter": "python",
   "pygments_lexer": "ipython3",
   "version": "3.13.3"
  }
 },
 "nbformat": 4,
 "nbformat_minor": 5
}
