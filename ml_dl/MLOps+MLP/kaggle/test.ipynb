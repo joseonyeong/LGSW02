{
 "cells": [
  {
   "cell_type": "code",
   "execution_count": 3,
   "id": "24cc4bdc-5cbb-452a-9fa4-9f1466aeb95f",
   "metadata": {},
   "outputs": [],
   "source": [
    "import pandas as pd"
   ]
  },
  {
   "cell_type": "code",
   "execution_count": 7,
   "id": "a9948da3-aa6e-4910-9742-8c6ea776c80d",
   "metadata": {},
   "outputs": [
    {
     "data": {
      "text/html": [
       "<div>\n",
       "<style scoped>\n",
       "    .dataframe tbody tr th:only-of-type {\n",
       "        vertical-align: middle;\n",
       "    }\n",
       "\n",
       "    .dataframe tbody tr th {\n",
       "        vertical-align: top;\n",
       "    }\n",
       "\n",
       "    .dataframe thead th {\n",
       "        text-align: right;\n",
       "    }\n",
       "</style>\n",
       "<table border=\"1\" class=\"dataframe\">\n",
       "  <thead>\n",
       "    <tr style=\"text-align: right;\">\n",
       "      <th></th>\n",
       "      <th>id</th>\n",
       "      <th>keyword</th>\n",
       "      <th>location</th>\n",
       "      <th>text</th>\n",
       "    </tr>\n",
       "  </thead>\n",
       "  <tbody>\n",
       "    <tr>\n",
       "      <th>0</th>\n",
       "      <td>0</td>\n",
       "      <td>NaN</td>\n",
       "      <td>NaN</td>\n",
       "      <td>Just happened a terrible car crash</td>\n",
       "    </tr>\n",
       "  </tbody>\n",
       "</table>\n",
       "</div>"
      ],
      "text/plain": [
       "   id keyword location                                text\n",
       "0   0     NaN      NaN  Just happened a terrible car crash"
      ]
     },
     "execution_count": 7,
     "metadata": {},
     "output_type": "execute_result"
    }
   ],
   "source": [
    "test = pd.read_csv('test.csv')\n",
    "test.head(1)"
   ]
  },
  {
   "cell_type": "code",
   "execution_count": 8,
   "id": "23b2049b-2f1f-4dde-a48c-486c100eae7e",
   "metadata": {},
   "outputs": [
    {
     "data": {
      "text/html": [
       "<div>\n",
       "<style scoped>\n",
       "    .dataframe tbody tr th:only-of-type {\n",
       "        vertical-align: middle;\n",
       "    }\n",
       "\n",
       "    .dataframe tbody tr th {\n",
       "        vertical-align: top;\n",
       "    }\n",
       "\n",
       "    .dataframe thead th {\n",
       "        text-align: right;\n",
       "    }\n",
       "</style>\n",
       "<table border=\"1\" class=\"dataframe\">\n",
       "  <thead>\n",
       "    <tr style=\"text-align: right;\">\n",
       "      <th></th>\n",
       "      <th>id</th>\n",
       "      <th>keyword</th>\n",
       "      <th>location</th>\n",
       "      <th>text</th>\n",
       "      <th>target</th>\n",
       "    </tr>\n",
       "  </thead>\n",
       "  <tbody>\n",
       "    <tr>\n",
       "      <th>0</th>\n",
       "      <td>1</td>\n",
       "      <td>NaN</td>\n",
       "      <td>NaN</td>\n",
       "      <td>Our Deeds are the Reason of this #earthquake M...</td>\n",
       "      <td>1</td>\n",
       "    </tr>\n",
       "  </tbody>\n",
       "</table>\n",
       "</div>"
      ],
      "text/plain": [
       "   id keyword location                                               text  \\\n",
       "0   1     NaN      NaN  Our Deeds are the Reason of this #earthquake M...   \n",
       "\n",
       "   target  \n",
       "0       1  "
      ]
     },
     "execution_count": 8,
     "metadata": {},
     "output_type": "execute_result"
    }
   ],
   "source": [
    "train = pd.read_csv('train.csv')\n",
    "train.head(1)"
   ]
  },
  {
   "cell_type": "code",
   "execution_count": 13,
   "id": "70f06894-1554-4469-8fa3-1ee5d1b42922",
   "metadata": {},
   "outputs": [
    {
     "name": "stdout",
     "output_type": "stream",
     "text": [
      "학습 데이터 크기 11314, 테스트 데이터 크기 7532\n"
     ]
    }
   ],
   "source": [
    "from sklearn.datasets import fetch_20newsgroups\n",
    "\n",
    "train_data = fetch_20newsgroups(subset='train', remove=('id', 'target', 'location', 'keyword'), random_state=156)\n",
    "\n",
    "x_train = train_data.data\n",
    "y_train = train_data.target\n",
    "\n",
    "test_data = fetch_20newsgroups(subset='test', remove=('id', 'location', 'keyword'), random_state=156)\n",
    "\n",
    "x_test = test_data.data\n",
    "y_test = test_data.target\n",
    "\n",
    "print('학습 데이터 크기 {0}, 테스트 데이터 크기 {1}'.format(len(train_data.data), len(test_data.data)))"
   ]
  },
  {
   "cell_type": "code",
   "execution_count": 19,
   "id": "fd628def-1195-49af-9d16-57c607da396e",
   "metadata": {},
   "outputs": [
    {
     "name": "stdout",
     "output_type": "stream",
     "text": [
      "학습 데이터 텍스트의 CountVectorizer Shape: (11314, 130107)\n"
     ]
    }
   ],
   "source": [
    "from sklearn.feature_extraction.text import CountVectorizer\n",
    "\n",
    "cnt_vect = CountVectorizer()\n",
    "cnt_vect.fit(x_train)\n",
    "\n",
    "x_train_cnt_vect = cnt_vect.transform(x_train)\n",
    "x_test_cnn_vect = cnt_vect.transform(x_test)\n",
    "\n",
    "print(\"학습 데이터 텍스트의 CountVectorizer Shape:\", x_train_cnt_vect.shape)"
   ]
  },
  {
   "cell_type": "code",
   "execution_count": 20,
   "id": "bfb1a813-45b5-4b22-ae70-df6756c1e3aa",
   "metadata": {},
   "outputs": [
    {
     "name": "stdout",
     "output_type": "stream",
     "text": [
      "CountVectorized Logistic Regression의 예측 정확도는 0.790\n"
     ]
    },
    {
     "name": "stderr",
     "output_type": "stream",
     "text": [
      "C:\\Users\\Admin\\Desktop\\LGSW\\LGSW02\\ml_dl\\.venv\\Lib\\site-packages\\sklearn\\linear_model\\_logistic.py:465: ConvergenceWarning: lbfgs failed to converge (status=1):\n",
      "STOP: TOTAL NO. OF ITERATIONS REACHED LIMIT.\n",
      "\n",
      "Increase the number of iterations (max_iter) or scale the data as shown in:\n",
      "    https://scikit-learn.org/stable/modules/preprocessing.html\n",
      "Please also refer to the documentation for alternative solver options:\n",
      "    https://scikit-learn.org/stable/modules/linear_model.html#logistic-regression\n",
      "  n_iter_i = _check_optimize_result(\n"
     ]
    }
   ],
   "source": [
    "from sklearn.linear_model import LogisticRegression\n",
    "from sklearn.metrics import accuracy_score\n",
    "\n",
    "lr_clf = LogisticRegression()\n",
    "lr_clf.fit(x_train_cnt_vect, y_train)\n",
    "pred = lr_clf.predict(x_test_cnn_vect)\n",
    "\n",
    "print('CountVectorized Logistic Regression의 예측 정확도는 {0:.3f}'.format(accuracy_score(y_test, pred)))"
   ]
  },
  {
   "cell_type": "code",
   "execution_count": 21,
   "id": "b2f92304-d2dc-46b2-9050-3964151aa231",
   "metadata": {},
   "outputs": [],
   "source": [
    "from sklearn.feature_extraction.text import TfidfVectorizer\n",
    "\n",
    "tfidf_vect = TfidfVectorizer()\n",
    "tfidf_vect.fit(x_train)\n",
    "\n",
    "x_train_tfidf_vect = tfidf_vect.transform(x_train)\n",
    "x_test_tfidf_vect = tfidf_vect.transform(x_test)"
   ]
  },
  {
   "cell_type": "code",
   "execution_count": 23,
   "id": "1fe64b60-f8bd-494c-aab0-49f9d9b1445f",
   "metadata": {},
   "outputs": [
    {
     "name": "stdout",
     "output_type": "stream",
     "text": [
      "TF-IDF Logistic Regression의 예측 정확도는 0.828\n"
     ]
    }
   ],
   "source": [
    "lr_clf = LogisticRegression()\n",
    "lr_clf.fit(x_train_tfidf_vect, y_train)\n",
    "pred = lr_clf.predict(x_test_tfidf_vect)\n",
    "\n",
    "print(\"TF-IDF Logistic Regression의 예측 정확도는 {0:.3f}\".format(accuracy_score(y_test, pred)))"
   ]
  },
  {
   "cell_type": "code",
   "execution_count": 24,
   "id": "e8243e3c-d1ba-4346-976f-aea765f26afc",
   "metadata": {},
   "outputs": [
    {
     "name": "stdout",
     "output_type": "stream",
     "text": [
      "TF-IDF Logistic Regression의 예측 정확도는 0.819\n"
     ]
    }
   ],
   "source": [
    "tfidf_vect = TfidfVectorizer(stop_words = 'english', ngram_range=(1,2), max_df=300)\n",
    "tfidf_vect.fit(x_train)\n",
    "\n",
    "x_train_tfidf_vect = tfidf_vect.transform(x_train)\n",
    "x_test_tfidf_vect = tfidf_vect.transform(x_test)\n",
    "\n",
    "lr_clf  = LogisticRegression()\n",
    "lr_clf.fit(x_train_tfidf_vect, y_train)\n",
    "pred = lr_clf.predict(x_test_tfidf_vect)\n",
    "\n",
    "print(\"TF-IDF Logistic Regression의 예측 정확도는 {0:.3f}\".format(accuracy_score(y_test, pred)))"
   ]
  },
  {
   "cell_type": "code",
   "execution_count": 30,
   "id": "e7d30f59-9270-47fd-bab6-abe6d764d177",
   "metadata": {},
   "outputs": [
    {
     "ename": "InvalidParameterError",
     "evalue": "The 'scoring' parameter of GridSearchCV must be a str among {'jaccard', 'precision_macro', 'f1_samples', 'matthews_corrcoef', 'normalized_mutual_info_score', 'neg_max_error', 'completeness_score', 'balanced_accuracy', 'homogeneity_score', 'neg_mean_gamma_deviance', 'precision_micro', 'explained_variance', 'f1', 'recall_micro', 'roc_auc_ovr', 'neg_mean_absolute_percentage_error', 'neg_mean_poisson_deviance', 'recall_samples', 'f1_micro', 'recall_macro', 'neg_brier_score', 'adjusted_rand_score', 'f1_macro', 'neg_median_absolute_error', 'neg_root_mean_squared_log_error', 'precision', 'jaccard_macro', 'precision_samples', 'recall', 'jaccard_weighted', 'fowlkes_mallows_score', 'roc_auc_ovr_weighted', 'd2_absolute_error_score', 'positive_likelihood_ratio', 'mutual_info_score', 'r2', 'average_precision', 'adjusted_mutual_info_score', 'neg_root_mean_squared_error', 'jaccard_samples', 'rand_score', 'accuracy', 'top_k_accuracy', 'precision_weighted', 'f1_weighted', 'neg_log_loss', 'neg_negative_likelihood_ratio', 'roc_auc_ovo', 'neg_mean_absolute_error', 'neg_mean_squared_log_error', 'v_measure_score', 'neg_mean_squared_error', 'roc_auc', 'recall_weighted', 'roc_auc_ovo_weighted', 'jaccard_micro'}, a callable, an instance of 'list', an instance of 'tuple', an instance of 'dict' or None. Got 'accuaracy' instead.",
     "output_type": "error",
     "traceback": [
      "\u001b[31m---------------------------------------------------------------------------\u001b[39m",
      "\u001b[31mInvalidParameterError\u001b[39m                     Traceback (most recent call last)",
      "\u001b[36mCell\u001b[39m\u001b[36m \u001b[39m\u001b[32mIn[30]\u001b[39m\u001b[32m, line 9\u001b[39m\n\u001b[32m      7\u001b[39m params = {\u001b[33m'\u001b[39m\u001b[33mC\u001b[39m\u001b[33m'\u001b[39m : [\u001b[32m0.01\u001b[39m, \u001b[32m0.1\u001b[39m]}\n\u001b[32m      8\u001b[39m grid_cv_lr = GridSearchCV(lr_clf, param_grid=params, cv=\u001b[32m2\u001b[39m, scoring=\u001b[33m\"\u001b[39m\u001b[33maccuaracy\u001b[39m\u001b[33m\"\u001b[39m, verbose = \u001b[32m1\u001b[39m)\n\u001b[32m----> \u001b[39m\u001b[32m9\u001b[39m \u001b[43mgrid_cv_lr\u001b[49m\u001b[43m.\u001b[49m\u001b[43mfit\u001b[49m\u001b[43m(\u001b[49m\u001b[43mx_train_tfidf_vect\u001b[49m\u001b[43m,\u001b[49m\u001b[43m \u001b[49m\u001b[43my_train\u001b[49m\u001b[43m)\u001b[49m\n\u001b[32m     10\u001b[39m \u001b[38;5;28mprint\u001b[39m(\u001b[33m'\u001b[39m\u001b[33mLogistic Regression best C paramter: \u001b[39m\u001b[33m'\u001b[39m, grid_cv_lr.best_params_)\n\u001b[32m     12\u001b[39m sec = time.time() - start\n",
      "\u001b[36mFile \u001b[39m\u001b[32m~\\Desktop\\LGSW\\LGSW02\\ml_dl\\.venv\\Lib\\site-packages\\sklearn\\base.py:1382\u001b[39m, in \u001b[36m_fit_context.<locals>.decorator.<locals>.wrapper\u001b[39m\u001b[34m(estimator, *args, **kwargs)\u001b[39m\n\u001b[32m   1377\u001b[39m partial_fit_and_fitted = (\n\u001b[32m   1378\u001b[39m     fit_method.\u001b[34m__name__\u001b[39m == \u001b[33m\"\u001b[39m\u001b[33mpartial_fit\u001b[39m\u001b[33m\"\u001b[39m \u001b[38;5;129;01mand\u001b[39;00m _is_fitted(estimator)\n\u001b[32m   1379\u001b[39m )\n\u001b[32m   1381\u001b[39m \u001b[38;5;28;01mif\u001b[39;00m \u001b[38;5;129;01mnot\u001b[39;00m global_skip_validation \u001b[38;5;129;01mand\u001b[39;00m \u001b[38;5;129;01mnot\u001b[39;00m partial_fit_and_fitted:\n\u001b[32m-> \u001b[39m\u001b[32m1382\u001b[39m     \u001b[43mestimator\u001b[49m\u001b[43m.\u001b[49m\u001b[43m_validate_params\u001b[49m\u001b[43m(\u001b[49m\u001b[43m)\u001b[49m\n\u001b[32m   1384\u001b[39m \u001b[38;5;28;01mwith\u001b[39;00m config_context(\n\u001b[32m   1385\u001b[39m     skip_parameter_validation=(\n\u001b[32m   1386\u001b[39m         prefer_skip_nested_validation \u001b[38;5;129;01mor\u001b[39;00m global_skip_validation\n\u001b[32m   1387\u001b[39m     )\n\u001b[32m   1388\u001b[39m ):\n\u001b[32m   1389\u001b[39m     \u001b[38;5;28;01mreturn\u001b[39;00m fit_method(estimator, *args, **kwargs)\n",
      "\u001b[36mFile \u001b[39m\u001b[32m~\\Desktop\\LGSW\\LGSW02\\ml_dl\\.venv\\Lib\\site-packages\\sklearn\\base.py:436\u001b[39m, in \u001b[36mBaseEstimator._validate_params\u001b[39m\u001b[34m(self)\u001b[39m\n\u001b[32m    428\u001b[39m \u001b[38;5;28;01mdef\u001b[39;00m\u001b[38;5;250m \u001b[39m\u001b[34m_validate_params\u001b[39m(\u001b[38;5;28mself\u001b[39m):\n\u001b[32m    429\u001b[39m \u001b[38;5;250m    \u001b[39m\u001b[33;03m\"\"\"Validate types and values of constructor parameters\u001b[39;00m\n\u001b[32m    430\u001b[39m \n\u001b[32m    431\u001b[39m \u001b[33;03m    The expected type and values must be defined in the `_parameter_constraints`\u001b[39;00m\n\u001b[32m   (...)\u001b[39m\u001b[32m    434\u001b[39m \u001b[33;03m    accepted constraints.\u001b[39;00m\n\u001b[32m    435\u001b[39m \u001b[33;03m    \"\"\"\u001b[39;00m\n\u001b[32m--> \u001b[39m\u001b[32m436\u001b[39m     \u001b[43mvalidate_parameter_constraints\u001b[49m\u001b[43m(\u001b[49m\n\u001b[32m    437\u001b[39m \u001b[43m        \u001b[49m\u001b[38;5;28;43mself\u001b[39;49m\u001b[43m.\u001b[49m\u001b[43m_parameter_constraints\u001b[49m\u001b[43m,\u001b[49m\n\u001b[32m    438\u001b[39m \u001b[43m        \u001b[49m\u001b[38;5;28;43mself\u001b[39;49m\u001b[43m.\u001b[49m\u001b[43mget_params\u001b[49m\u001b[43m(\u001b[49m\u001b[43mdeep\u001b[49m\u001b[43m=\u001b[49m\u001b[38;5;28;43;01mFalse\u001b[39;49;00m\u001b[43m)\u001b[49m\u001b[43m,\u001b[49m\n\u001b[32m    439\u001b[39m \u001b[43m        \u001b[49m\u001b[43mcaller_name\u001b[49m\u001b[43m=\u001b[49m\u001b[38;5;28;43mself\u001b[39;49m\u001b[43m.\u001b[49m\u001b[34;43m__class__\u001b[39;49m\u001b[43m.\u001b[49m\u001b[34;43m__name__\u001b[39;49m\u001b[43m,\u001b[49m\n\u001b[32m    440\u001b[39m \u001b[43m    \u001b[49m\u001b[43m)\u001b[49m\n",
      "\u001b[36mFile \u001b[39m\u001b[32m~\\Desktop\\LGSW\\LGSW02\\ml_dl\\.venv\\Lib\\site-packages\\sklearn\\utils\\_param_validation.py:98\u001b[39m, in \u001b[36mvalidate_parameter_constraints\u001b[39m\u001b[34m(parameter_constraints, params, caller_name)\u001b[39m\n\u001b[32m     92\u001b[39m \u001b[38;5;28;01melse\u001b[39;00m:\n\u001b[32m     93\u001b[39m     constraints_str = (\n\u001b[32m     94\u001b[39m         \u001b[33mf\u001b[39m\u001b[33m\"\u001b[39m\u001b[38;5;132;01m{\u001b[39;00m\u001b[33m'\u001b[39m\u001b[33m, \u001b[39m\u001b[33m'\u001b[39m.join([\u001b[38;5;28mstr\u001b[39m(c)\u001b[38;5;250m \u001b[39m\u001b[38;5;28;01mfor\u001b[39;00m\u001b[38;5;250m \u001b[39mc\u001b[38;5;250m \u001b[39m\u001b[38;5;129;01min\u001b[39;00m\u001b[38;5;250m \u001b[39mconstraints[:-\u001b[32m1\u001b[39m]])\u001b[38;5;132;01m}\u001b[39;00m\u001b[33m or\u001b[39m\u001b[33m\"\u001b[39m\n\u001b[32m     95\u001b[39m         \u001b[33mf\u001b[39m\u001b[33m\"\u001b[39m\u001b[33m \u001b[39m\u001b[38;5;132;01m{\u001b[39;00mconstraints[-\u001b[32m1\u001b[39m]\u001b[38;5;132;01m}\u001b[39;00m\u001b[33m\"\u001b[39m\n\u001b[32m     96\u001b[39m     )\n\u001b[32m---> \u001b[39m\u001b[32m98\u001b[39m \u001b[38;5;28;01mraise\u001b[39;00m InvalidParameterError(\n\u001b[32m     99\u001b[39m     \u001b[33mf\u001b[39m\u001b[33m\"\u001b[39m\u001b[33mThe \u001b[39m\u001b[38;5;132;01m{\u001b[39;00mparam_name\u001b[38;5;132;01m!r}\u001b[39;00m\u001b[33m parameter of \u001b[39m\u001b[38;5;132;01m{\u001b[39;00mcaller_name\u001b[38;5;132;01m}\u001b[39;00m\u001b[33m must be\u001b[39m\u001b[33m\"\u001b[39m\n\u001b[32m    100\u001b[39m     \u001b[33mf\u001b[39m\u001b[33m\"\u001b[39m\u001b[33m \u001b[39m\u001b[38;5;132;01m{\u001b[39;00mconstraints_str\u001b[38;5;132;01m}\u001b[39;00m\u001b[33m. Got \u001b[39m\u001b[38;5;132;01m{\u001b[39;00mparam_val\u001b[38;5;132;01m!r}\u001b[39;00m\u001b[33m instead.\u001b[39m\u001b[33m\"\u001b[39m\n\u001b[32m    101\u001b[39m )\n",
      "\u001b[31mInvalidParameterError\u001b[39m: The 'scoring' parameter of GridSearchCV must be a str among {'jaccard', 'precision_macro', 'f1_samples', 'matthews_corrcoef', 'normalized_mutual_info_score', 'neg_max_error', 'completeness_score', 'balanced_accuracy', 'homogeneity_score', 'neg_mean_gamma_deviance', 'precision_micro', 'explained_variance', 'f1', 'recall_micro', 'roc_auc_ovr', 'neg_mean_absolute_percentage_error', 'neg_mean_poisson_deviance', 'recall_samples', 'f1_micro', 'recall_macro', 'neg_brier_score', 'adjusted_rand_score', 'f1_macro', 'neg_median_absolute_error', 'neg_root_mean_squared_log_error', 'precision', 'jaccard_macro', 'precision_samples', 'recall', 'jaccard_weighted', 'fowlkes_mallows_score', 'roc_auc_ovr_weighted', 'd2_absolute_error_score', 'positive_likelihood_ratio', 'mutual_info_score', 'r2', 'average_precision', 'adjusted_mutual_info_score', 'neg_root_mean_squared_error', 'jaccard_samples', 'rand_score', 'accuracy', 'top_k_accuracy', 'precision_weighted', 'f1_weighted', 'neg_log_loss', 'neg_negative_likelihood_ratio', 'roc_auc_ovo', 'neg_mean_absolute_error', 'neg_mean_squared_log_error', 'v_measure_score', 'neg_mean_squared_error', 'roc_auc', 'recall_weighted', 'roc_auc_ovo_weighted', 'jaccard_micro'}, a callable, an instance of 'list', an instance of 'tuple', an instance of 'dict' or None. Got 'accuaracy' instead."
     ]
    }
   ],
   "source": [
    "from sklearn.model_selection import GridSearchCV\n",
    "import time\n",
    "import datetime\n",
    "\n",
    "start = time.time()\n",
    "\n",
    "params = {'C' : [0.01, 0.1]}\n",
    "grid_cv_lr = GridSearchCV(lr_clf, param_grid=params, cv=2, scoring=\"accuaracy\", verbose = 1)\n",
    "grid_cv_lr.fit(x_train_tfidf_vect, y_train)\n",
    "print('Logistic Regression best C paramter: ', grid_cv_lr.best_params_)\n",
    "\n",
    "sec = time.time() - start\n",
    "times = str(datetime.timedelta(seconds = sec)).split('.')\n",
    "times = times[0]\n",
    "print(times)"
   ]
  },
  {
   "cell_type": "code",
   "execution_count": null,
   "id": "98adffb3-f329-4a46-b89f-44b5d434171d",
   "metadata": {},
   "outputs": [],
   "source": []
  }
 ],
 "metadata": {
  "kernelspec": {
   "display_name": "Python 3 (ipykernel)",
   "language": "python",
   "name": "python3"
  },
  "language_info": {
   "codemirror_mode": {
    "name": "ipython",
    "version": 3
   },
   "file_extension": ".py",
   "mimetype": "text/x-python",
   "name": "python",
   "nbconvert_exporter": "python",
   "pygments_lexer": "ipython3",
   "version": "3.11.12"
  }
 },
 "nbformat": 4,
 "nbformat_minor": 5
}
