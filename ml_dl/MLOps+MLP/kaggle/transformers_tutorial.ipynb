{
 "cells": [
  {
   "cell_type": "markdown",
   "id": "7d0683ba-22ea-42e2-8303-369945680188",
   "metadata": {},
   "source": [
    "# Bert 방식\n",
    "- Bert 사전학습 모델 사용"
   ]
  },
  {
   "cell_type": "code",
   "execution_count": 16,
   "id": "83b1d96a-3e11-452b-9b0b-49b82f0896ba",
   "metadata": {},
   "outputs": [],
   "source": [
    "# 필요한 라이브러리 임포트\n",
    "import pandas as pd  # 데이터 처리를 위한 pandas\n",
    "import numpy as np  # 수치 연산을 위한 numpy\n",
    "import torch  # 딥러닝 프레임워크\n",
    "from torch.utils.data import Dataset  # 커스텀 데이터셋 생성을 위한 클래스\n",
    "from sklearn.model_selection import train_test_split  # 데이터 분할\n",
    "from sklearn.metrics import accuracy_score  # 정확도 계산\n",
    "from transformers import AutoTokenizer, AutoModelForSequenceClassification, Trainer, TrainingArguments, TrainerCallback  # BERT 모델 관련\n",
    "from datetime import datetime  # 시간 기록\n",
    "import matplotlib.pyplot as plt  # 시각화\n",
    "from transformers import EarlyStoppingCallback  # 조기 종료"
   ]
  },
  {
   "cell_type": "code",
   "execution_count": 17,
   "id": "b7a45fa3-b921-4cca-a73e-8d0bc1c34614",
   "metadata": {},
   "outputs": [
    {
     "name": "stdout",
     "output_type": "stream",
     "text": [
      "Using device: cuda\n"
     ]
    }
   ],
   "source": [
    "device = torch.device('cuda' if torch.cuda.is_available() else 'cpu')\n",
    "print(f\"Using device: {device}\")"
   ]
  },
  {
   "cell_type": "code",
   "execution_count": 18,
   "id": "7967c55c-581f-4aca-86ff-a49f27ec540c",
   "metadata": {},
   "outputs": [
    {
     "data": {
      "text/plain": [
       "('4.52.4', '2.7.1+cu118')"
      ]
     },
     "execution_count": 18,
     "metadata": {},
     "output_type": "execute_result"
    }
   ],
   "source": [
    "import transformers, torch\n",
    "transformers.__version__, torch.__version__"
   ]
  },
  {
   "cell_type": "markdown",
   "id": "6378c47c-5a17-4ba0-a694-57e8ddeae816",
   "metadata": {},
   "source": [
    "# 기본값 설정"
   ]
  },
  {
   "cell_type": "code",
   "execution_count": 19,
   "id": "a1d20c83-7a71-4acf-a765-3c6edb0acef8",
   "metadata": {},
   "outputs": [
    {
     "data": {
      "text/plain": [
       "'20250613_104129'"
      ]
     },
     "execution_count": 19,
     "metadata": {},
     "output_type": "execute_result"
    }
   ],
   "source": [
    "current_time = datetime.now().strftime('%Y%m%d_%H%M%S')\n",
    "current_time"
   ]
  },
  {
   "cell_type": "code",
   "execution_count": 20,
   "id": "7decc649-66ff-427c-ba55-96e79ce05fc9",
   "metadata": {},
   "outputs": [
    {
     "data": {
      "text/plain": [
       "'submission_bert-base-uncased_20250613_104129.csv'"
      ]
     },
     "execution_count": 20,
     "metadata": {},
     "output_type": "execute_result"
    }
   ],
   "source": [
    "model_name = \"bert-base-uncased\"                                      # https://huggingface.co/google-bert/bert-base-uncased\n",
    "submission_filename = f\"submission_{model_name}_{current_time}.csv\"   # 제출 파일 이름\n",
    "submission_filename"
   ]
  },
  {
   "cell_type": "markdown",
   "id": "30e76bfb-30b8-4d13-ab6e-07905515a231",
   "metadata": {},
   "source": [
    "# 데이터 불러오기"
   ]
  },
  {
   "cell_type": "code",
   "execution_count": 21,
   "id": "a10f8e8e-a4e9-4ff0-9382-2bbc18d3ab84",
   "metadata": {},
   "outputs": [],
   "source": [
    "train_df = pd.read_csv('train.csv')\n",
    "test_df = pd.read_csv('test.csv')"
   ]
  },
  {
   "cell_type": "markdown",
   "id": "9132d962-76a7-433a-926c-00c1d2820c27",
   "metadata": {},
   "source": [
    "# 커스텀 데이터셋 클래스 정의\n",
    "- 하고자 하는 모델에 따라 변경 필요"
   ]
  },
  {
   "cell_type": "code",
   "execution_count": null,
   "id": "e7f4e1b8-b624-4e5d-82ee-5e945b987a1a",
   "metadata": {},
   "outputs": [],
   "source": [
    "class DisasterDataset(Dataset):\n",
    "    def __init__(self, texts, labels=None, tokernizer=None, max_length=128):\n",
    "        self.encodings = tokernizer(texts, truncation=True, padding=True, max_length=max_length)\n",
    "        self.labels = labels\n",
    "\n",
    "    def __getitem__(self, idx):\n",
    "        # 각 데이터 포인트를 텐서로 변환\n",
    "        item = {key: torch.tensor(val[idx]) for key, val in self.encodings.items()}\n",
    "        if self.labels is not None:\n",
    "            item['labels'] = torch.tensor(self.labels[idx], dtype=torch.long)\n",
    "        return item\n",
    "\n",
    "    def __len__(self):\n",
    "        return len(self.encodings['input_ids'])"
   ]
  },
  {
   "cell_type": "markdown",
   "id": "caad4533-488e-451e-a176-ebd1bad9ee26",
   "metadata": {},
   "source": [
    "# Bert 토크나이저와 모델 초기화"
   ]
  },
  {
   "cell_type": "code",
   "execution_count": 23,
   "id": "b4f0f450-6cb3-4e87-929f-1d8131e60c40",
   "metadata": {},
   "outputs": [
    {
     "data": {
      "text/plain": [
       "BertTokenizerFast(name_or_path='bert-base-uncased', vocab_size=30522, model_max_length=512, is_fast=True, padding_side='right', truncation_side='right', special_tokens={'unk_token': '[UNK]', 'sep_token': '[SEP]', 'pad_token': '[PAD]', 'cls_token': '[CLS]', 'mask_token': '[MASK]'}, clean_up_tokenization_spaces=False, added_tokens_decoder={\n",
       "\t0: AddedToken(\"[PAD]\", rstrip=False, lstrip=False, single_word=False, normalized=False, special=True),\n",
       "\t100: AddedToken(\"[UNK]\", rstrip=False, lstrip=False, single_word=False, normalized=False, special=True),\n",
       "\t101: AddedToken(\"[CLS]\", rstrip=False, lstrip=False, single_word=False, normalized=False, special=True),\n",
       "\t102: AddedToken(\"[SEP]\", rstrip=False, lstrip=False, single_word=False, normalized=False, special=True),\n",
       "\t103: AddedToken(\"[MASK]\", rstrip=False, lstrip=False, single_word=False, normalized=False, special=True),\n",
       "}\n",
       ")"
      ]
     },
     "execution_count": 23,
     "metadata": {},
     "output_type": "execute_result"
    }
   ],
   "source": [
    "tokernizer = AutoTokenizer.from_pretrained(model_name)            # 모델명 입력시 자동으로 토큰 가져옴\n",
    "tokernizer"
   ]
  },
  {
   "cell_type": "code",
   "execution_count": 24,
   "id": "4876d9bd-4368-41d3-85a6-29afc57f61fb",
   "metadata": {},
   "outputs": [
    {
     "name": "stderr",
     "output_type": "stream",
     "text": [
      "Some weights of BertForSequenceClassification were not initialized from the model checkpoint at bert-base-uncased and are newly initialized: ['classifier.bias', 'classifier.weight']\n",
      "You should probably TRAIN this model on a down-stream task to be able to use it for predictions and inference.\n"
     ]
    },
    {
     "data": {
      "text/plain": [
       "BertForSequenceClassification(\n",
       "  (bert): BertModel(\n",
       "    (embeddings): BertEmbeddings(\n",
       "      (word_embeddings): Embedding(30522, 768, padding_idx=0)\n",
       "      (position_embeddings): Embedding(512, 768)\n",
       "      (token_type_embeddings): Embedding(2, 768)\n",
       "      (LayerNorm): LayerNorm((768,), eps=1e-12, elementwise_affine=True)\n",
       "      (dropout): Dropout(p=0.1, inplace=False)\n",
       "    )\n",
       "    (encoder): BertEncoder(\n",
       "      (layer): ModuleList(\n",
       "        (0-11): 12 x BertLayer(\n",
       "          (attention): BertAttention(\n",
       "            (self): BertSdpaSelfAttention(\n",
       "              (query): Linear(in_features=768, out_features=768, bias=True)\n",
       "              (key): Linear(in_features=768, out_features=768, bias=True)\n",
       "              (value): Linear(in_features=768, out_features=768, bias=True)\n",
       "              (dropout): Dropout(p=0.1, inplace=False)\n",
       "            )\n",
       "            (output): BertSelfOutput(\n",
       "              (dense): Linear(in_features=768, out_features=768, bias=True)\n",
       "              (LayerNorm): LayerNorm((768,), eps=1e-12, elementwise_affine=True)\n",
       "              (dropout): Dropout(p=0.1, inplace=False)\n",
       "            )\n",
       "          )\n",
       "          (intermediate): BertIntermediate(\n",
       "            (dense): Linear(in_features=768, out_features=3072, bias=True)\n",
       "            (intermediate_act_fn): GELUActivation()\n",
       "          )\n",
       "          (output): BertOutput(\n",
       "            (dense): Linear(in_features=3072, out_features=768, bias=True)\n",
       "            (LayerNorm): LayerNorm((768,), eps=1e-12, elementwise_affine=True)\n",
       "            (dropout): Dropout(p=0.1, inplace=False)\n",
       "          )\n",
       "        )\n",
       "      )\n",
       "    )\n",
       "    (pooler): BertPooler(\n",
       "      (dense): Linear(in_features=768, out_features=768, bias=True)\n",
       "      (activation): Tanh()\n",
       "    )\n",
       "  )\n",
       "  (dropout): Dropout(p=0.1, inplace=False)\n",
       "  (classifier): Linear(in_features=768, out_features=2, bias=True)\n",
       ")"
      ]
     },
     "execution_count": 24,
     "metadata": {},
     "output_type": "execute_result"
    }
   ],
   "source": [
    "model = AutoModelForSequenceClassification.from_pretrained(model_name, num_labels = 2).to(device)\n",
    "model"
   ]
  },
  {
   "cell_type": "markdown",
   "id": "87d7f6f3-1dbe-4349-b1cb-44573fcb0408",
   "metadata": {},
   "source": [
    "# 데이터 분할"
   ]
  },
  {
   "cell_type": "code",
   "execution_count": 25,
   "id": "0214201d-1229-46e6-94dd-2aa584aab36d",
   "metadata": {},
   "outputs": [],
   "source": [
    "train_texts, val_texts, train_labels, val_labels = train_test_split(\n",
    "    train_df['text'].tolist(),\n",
    "    train_df['target'].tolist(),\n",
    "    test_size=0.2,\n",
    "    random_state=42\n",
    ")\n",
    "train_dataset = DisasterDataset(train_texts, train_labels, tokernizer)\n",
    "val_dataset = DisasterDataset(val_texts, val_labels, tokernizer)"
   ]
  },
  {
   "cell_type": "code",
   "execution_count": 26,
   "id": "c5675580-1cce-4901-8cc0-b284484a0499",
   "metadata": {},
   "outputs": [
    {
     "data": {
      "text/plain": [
       "6090"
      ]
     },
     "execution_count": 26,
     "metadata": {},
     "output_type": "execute_result"
    }
   ],
   "source": [
    "DisasterDataset.__len__(train_dataset)"
   ]
  },
  {
   "cell_type": "markdown",
   "id": "cbe854dd-ebea-4323-9f2d-9d2774e00801",
   "metadata": {},
   "source": [
    "# 평가 지표 계산 함수 정의\n",
    "(중요)"
   ]
  },
  {
   "cell_type": "code",
   "execution_count": 33,
   "id": "750a3f2c-6485-4bd4-9c22-0dc477d478a7",
   "metadata": {},
   "outputs": [],
   "source": [
    "def compute_metrics(p):\n",
    "    preds = np.argmax(p.predictions, axis=1)\n",
    "    return {'accuracy' : accuracy_score(p.label_ids, preds)}"
   ]
  },
  {
   "cell_type": "code",
   "execution_count": 28,
   "id": "d5e85b2c-6926-4568-a0ad-058507a4c745",
   "metadata": {},
   "outputs": [],
   "source": [
    "# 학습 중 정확도 추적을 위한 콜백 클래스\n",
    "class TrainMetricsCallback(TrainerCallback):\n",
    "    def __init__(self):\n",
    "        self.train_log = []  # 학습 로그 저장\n",
    "\n",
    "    def on_log(self, args, state, control, logs=None, **kwargs):\n",
    "        if logs is not None and 'loss' in logs and state.is_world_process_zero:\n",
    "            # 현재 스텝의 학습 데이터에 대한 정확도 계산\n",
    "            trainer.model.eval()\n",
    "            with torch.no_grad():\n",
    "                preds = []\n",
    "                labels = []\n",
    "                for batch in torch.utils.data.DataLoader(train_dataset, batch_size=64):\n",
    "                    input_ids = batch['input_ids'].to(device)\n",
    "                    attention_mask = batch['attention_mask'].to(device)\n",
    "                    label = batch['labels'].to(device)\n",
    "                    output = trainer.model(input_ids=input_ids, attention_mask=attention_mask)\n",
    "                    pred = torch.argmax(output.logits, axis=1)\n",
    "                    preds.extend(pred.cpu().numpy())\n",
    "                    labels.extend(label.cpu().numpy())\n",
    "            acc = accuracy_score(labels, preds)\n",
    "            logs['train_accuracy'] = acc\n",
    "            self.train_log.append({'step': state.global_step, 'train_accuracy': acc})\n",
    "train_metrics_callback = TrainMetricsCallback()"
   ]
  },
  {
   "cell_type": "markdown",
   "id": "760119bf-2724-4a3c-95d4-759768aa7a77",
   "metadata": {},
   "source": [
    "# 학습 파라미터 설정\n",
    "- 반드시 기억해야 할 것 중 한 옵션은 **조기 종료**\n",
    "  + LightGBM, XGBoost, CatBoost에도 존재함\n",
    "  + Pytorch 모델 만들 때도 필요\n",
    "  + transformers 모델 만들 때도 필요"
   ]
  },
  {
   "cell_type": "code",
   "execution_count": 29,
   "id": "9adad097-02ee-40ec-9171-2ad3f95f5849",
   "metadata": {},
   "outputs": [],
   "source": [
    "# TrainingArguments를 gpt한테 질문할 때, 반드시 버전을 명시해야 함.\n",
    "# 파라미터 입력 오류 방지\n",
    "training_args = TrainingArguments(\n",
    "    output_dir='./results',  # 결과 저장 경로\n",
    "    num_train_epochs=10,     # 최대 10 에포크\n",
    "    load_best_model_at_end=True,  # 최고 성능 모델 저장\n",
    "    metric_for_best_model=\"eval_accuracy\",  # 조기 종료 기준\n",
    "    greater_is_better=True,  # 높은 정확도가 좋음\n",
    "    per_device_train_batch_size=16,  # 학습 배치 크기\n",
    "    per_device_eval_batch_size=64,   # 평가 배치 크기\n",
    "    warmup_steps=500,  # 워밍업 스텝\n",
    "    weight_decay=0.01,  # 가중치 감쇠\n",
    "    logging_dir='./logs',  # 로그 저장 경로\n",
    "    logging_steps=50,  # 로깅 간격\n",
    "    eval_strategy=\"steps\",  # 평가 전략\n",
    "    eval_steps=50,  # 평가 간격\n",
    "    save_steps=500,  # 모델 저장 간격\n",
    "    fp16=True,  # 16비트 정밀도 사용\n",
    "    no_cuda=False,  # GPU 사용\n",
    "    report_to=\"none\",  # 외부 보고 비활성화\n",
    ")"
   ]
  },
  {
   "cell_type": "markdown",
   "id": "7793a671-6935-42d1-922c-343fa478f4f2",
   "metadata": {},
   "source": [
    "# 모델링"
   ]
  },
  {
   "cell_type": "code",
   "execution_count": 34,
   "id": "b9d22419-79a3-4f69-ac7e-0ef66ef65c19",
   "metadata": {},
   "outputs": [
    {
     "data": {
      "text/html": [
       "\n",
       "    <div>\n",
       "      \n",
       "      <progress value='450' max='3810' style='width:300px; height:20px; vertical-align: middle;'></progress>\n",
       "      [ 450/3810 01:43 < 12:57, 4.32 it/s, Epoch 1/10]\n",
       "    </div>\n",
       "    <table border=\"1\" class=\"dataframe\">\n",
       "  <thead>\n",
       " <tr style=\"text-align: left;\">\n",
       "      <th>Step</th>\n",
       "      <th>Training Loss</th>\n",
       "      <th>Validation Loss</th>\n",
       "      <th>Accuracy</th>\n",
       "    </tr>\n",
       "  </thead>\n",
       "  <tbody>\n",
       "    <tr>\n",
       "      <td>50</td>\n",
       "      <td>0.603600</td>\n",
       "      <td>0.570207</td>\n",
       "      <td>0.764281</td>\n",
       "    </tr>\n",
       "    <tr>\n",
       "      <td>100</td>\n",
       "      <td>0.569600</td>\n",
       "      <td>0.525632</td>\n",
       "      <td>0.755745</td>\n",
       "    </tr>\n",
       "    <tr>\n",
       "      <td>150</td>\n",
       "      <td>0.473700</td>\n",
       "      <td>0.427722</td>\n",
       "      <td>0.818779</td>\n",
       "    </tr>\n",
       "    <tr>\n",
       "      <td>200</td>\n",
       "      <td>0.439400</td>\n",
       "      <td>0.432848</td>\n",
       "      <td>0.826658</td>\n",
       "    </tr>\n",
       "    <tr>\n",
       "      <td>250</td>\n",
       "      <td>0.422600</td>\n",
       "      <td>0.495062</td>\n",
       "      <td>0.787262</td>\n",
       "    </tr>\n",
       "    <tr>\n",
       "      <td>300</td>\n",
       "      <td>0.459100</td>\n",
       "      <td>0.386262</td>\n",
       "      <td>0.844386</td>\n",
       "    </tr>\n",
       "    <tr>\n",
       "      <td>350</td>\n",
       "      <td>0.421500</td>\n",
       "      <td>0.440042</td>\n",
       "      <td>0.817466</td>\n",
       "    </tr>\n",
       "    <tr>\n",
       "      <td>400</td>\n",
       "      <td>0.394600</td>\n",
       "      <td>0.422494</td>\n",
       "      <td>0.825345</td>\n",
       "    </tr>\n",
       "    <tr>\n",
       "      <td>450</td>\n",
       "      <td>0.355200</td>\n",
       "      <td>0.449590</td>\n",
       "      <td>0.838477</td>\n",
       "    </tr>\n",
       "  </tbody>\n",
       "</table><p>"
      ],
      "text/plain": [
       "<IPython.core.display.HTML object>"
      ]
     },
     "metadata": {},
     "output_type": "display_data"
    },
    {
     "data": {
      "text/plain": [
       "TrainOutput(global_step=450, training_loss=0.4599259779188368, metrics={'train_runtime': 104.0368, 'train_samples_per_second': 585.37, 'train_steps_per_second': 36.622, 'total_flos': 310540934198880.0, 'train_loss': 0.4599259779188368, 'epoch': 1.1811023622047245})"
      ]
     },
     "execution_count": 34,
     "metadata": {},
     "output_type": "execute_result"
    }
   ],
   "source": [
    "trainer = Trainer(\n",
    "    model = model,\n",
    "    args = training_args,\n",
    "    train_dataset = train_dataset,\n",
    "    eval_dataset = val_dataset,\n",
    "    compute_metrics = compute_metrics,\n",
    "    callbacks = [\n",
    "        train_metrics_callback,\n",
    "        EarlyStoppingCallback(early_stopping_patience=3)       # 3번 연속 성능 향상 없으면 중단 \n",
    "    ]\n",
    ")\n",
    "trainer.train()"
   ]
  },
  {
   "cell_type": "markdown",
   "id": "0f7553f3-994e-4692-935d-e87192e71717",
   "metadata": {},
   "source": [
    "# 테스트 데이터 예측"
   ]
  },
  {
   "cell_type": "code",
   "execution_count": 36,
   "id": "3151d453-9ca1-4f83-86e5-ff43f79f9452",
   "metadata": {},
   "outputs": [
    {
     "data": {
      "text/html": [],
      "text/plain": [
       "<IPython.core.display.HTML object>"
      ]
     },
     "metadata": {},
     "output_type": "display_data"
    }
   ],
   "source": [
    "test_texts = test_df['text'].tolist()\n",
    "test_dataset = DisasterDataset(test_texts, tokernizer = tokernizer)\n",
    "predictions = trainer.predict(test_dataset)\n",
    "preds = np.argmax(predictions.predictions, axis = 1)\n"
   ]
  },
  {
   "cell_type": "code",
   "execution_count": 37,
   "id": "088760dc-f4cc-4072-9d9c-9a9176e3027e",
   "metadata": {},
   "outputs": [
    {
     "data": {
      "image/png": "[encoded data removed]",
      "text/plain": [
       "<Figure size 1400x500 with 2 Axes>"
      ]
     },
     "metadata": {},
     "output_type": "display_data"
    }
   ],
   "source": [
    "# 학습 로그 정리\n",
    "log_df = pd.DataFrame(trainer.state.log_history)\n",
    "train_acc_df = pd.DataFrame(train_metrics_callback.train_log)\n",
    "log_df = log_df.merge(train_acc_df, on='step', how='left')\n",
    "\n",
    "# 로그 파일 저장\n",
    "log_df.to_csv(f'training_log_{model_name}_{current_time}.csv', index=False)\n",
    "\n",
    "# 필요한 컬럼만 추출하여 정리\n",
    "log_df_clean = log_df[['step', 'loss', 'eval_loss', 'eval_accuracy', 'train_accuracy']].copy()\n",
    "\n",
    "# 컬럼명 일관성 있게 변경\n",
    "log_df_clean.rename(columns={\n",
    "    'loss': 'train_loss',\n",
    "    'eval_loss': 'val_loss',\n",
    "    'eval_accuracy': 'val_accuracy'\n",
    "}, inplace=True)\n",
    "\n",
    "# 스텝별 평균 계산 (중복 로그 처리)\n",
    "summary_df = log_df_clean.groupby('step').mean().reset_index()\n",
    "\n",
    "# 누락된 컬럼 NaN으로 채우기\n",
    "for col in ['train_loss', 'val_loss', 'train_accuracy', 'val_accuracy']:\n",
    "    if col not in summary_df.columns:\n",
    "        summary_df[col] = np.nan\n",
    "\n",
    "# 학습 과정 시각화\n",
    "fig, (ax1, ax2) = plt.subplots(1, 2, figsize=(14, 5))\n",
    "\n",
    "# 손실 그래프\n",
    "ax1.plot(summary_df['step'], summary_df['train_loss'], label='Train Loss', linewidth=2)\n",
    "ax1.plot(summary_df['step'], summary_df['val_loss'], label='Val Loss', linewidth=2)\n",
    "ax1.set_title('Loss per Step')\n",
    "ax1.set_xlabel('Step')\n",
    "ax1.set_ylabel('Loss')\n",
    "ax1.grid(True)\n",
    "ax1.legend()\n",
    "\n",
    "# 정확도 그래프\n",
    "ax2.plot(summary_df['step'], summary_df['train_accuracy'], label='Train Accuracy', linewidth=2)\n",
    "ax2.plot(summary_df['step'], summary_df['val_accuracy'], label='Val Accuracy', linewidth=2)\n",
    "ax2.set_title('Accuracy per Step')\n",
    "ax2.set_xlabel('Step')\n",
    "ax2.set_ylabel('Accuracy')\n",
    "ax2.grid(True)\n",
    "ax2.legend()\n",
    "\n",
    "plt.tight_layout()\n",
    "plt.show()"
   ]
  },
  {
   "cell_type": "code",
   "execution_count": null,
   "id": "19b751c6-8c86-4fbf-ae4d-c0283d33a1dc",
   "metadata": {},
   "outputs": [],
   "source": []
  }
 ],
 "metadata": {
  "kernelspec": {
   "display_name": "Python 3 (ipykernel)",
   "language": "python",
   "name": "python3"
  },
  "language_info": {
   "codemirror_mode": {
    "name": "ipython",
    "version": 3
   },
   "file_extension": ".py",
   "mimetype": "text/x-python",
   "name": "python",
   "nbconvert_exporter": "python",
   "pygments_lexer": "ipython3",
   "version": "3.11.12"
  }
 },
 "nbformat": 4,
 "nbformat_minor": 5
}
