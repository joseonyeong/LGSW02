{
 "cells": [
  {
   "cell_type": "code",
   "execution_count": 1,
   "id": "f9de698d-a1f6-4de3-a13d-40f383cc38fd",
   "metadata": {},
   "outputs": [],
   "source": [
    "# scikit learn 방식"
   ]
  },
  {
   "cell_type": "code",
   "execution_count": 2,
   "id": "fb8e8fa9-144c-4612-8e20-c9aff481625e",
   "metadata": {},
   "outputs": [
    {
     "data": {
      "text/plain": [
       "'3.1.0'"
      ]
     },
     "execution_count": 2,
     "metadata": {},
     "output_type": "execute_result"
    }
   ],
   "source": [
    "import mlflow\n",
    "mlflow.__version__"
   ]
  },
  {
   "cell_type": "code",
   "execution_count": null,
   "id": "7fc942f0-475e-4fc3-9061-5501f4079f98",
   "metadata": {},
   "outputs": [],
   "source": [
    "from sklearn.ensemble import RandomForestClassifier\n",
    "from sklearn.datasets import load_iris\n",
    "from sklearn.model_selection import train_test_split\n",
    "from sklearn.metrics import accuracy_score\n",
    "\n",
    "\n",
    "mlflow.set_tracking_uri('http://127.0.0.1:5000')"
   ]
  },
  {
   "cell_type": "code",
   "execution_count": 9,
   "id": "459172ad-d063-49cc-908f-eeed728fb2b4",
   "metadata": {},
   "outputs": [
    {
     "name": "stderr",
     "output_type": "stream",
     "text": [
      "2025/06/11 15:34:13 WARNING mlflow.models.model: `artifact_path` is deprecated. Please use `name` instead.\n",
      "2025/06/11 15:34:16 WARNING mlflow.utils.environment: Failed to resolve installed pip version. ``pip`` will be added to conda.yaml environment spec without a version specifier.\n",
      "2025/06/11 15:34:16 WARNING mlflow.models.model: Model logged without a signature and input example. Please set `input_example` parameter when logging the model to auto infer the model signature.\n"
     ]
    },
    {
     "name": "stdout",
     "output_type": "stream",
     "text": [
      "logged model accuracy:  1.0\n",
      "🏃 View run crawling-flea-596 at: http://127.0.0.1:5000/#/experiments/0/runs/e956229a679149d0a7ff62ea84767198\n",
      "🧪 View experiment at: http://127.0.0.1:5000/#/experiments/0\n"
     ]
    }
   ],
   "source": [
    "iris = load_iris()\n",
    "x_train, x_test, y_train, y_test = train_test_split(\n",
    "    iris.data, iris.target, test_size = 0.2, random_state=42\n",
    ")\n",
    "\n",
    "with mlflow.start_run():\n",
    "    # 모델 학습\n",
    "    clf = RandomForestClassifier(n_estimators=100, max_depth=3, random_state=42)\n",
    "    clf.fit(x_train, y_train)\n",
    "\n",
    "\n",
    "    # 예측및평가\n",
    "    y_pred = clf.predict(x_test)\n",
    "    acc = accuracy_score(y_test, y_pred)\n",
    "\n",
    "    # 메트릭, 모델 로깅\n",
    "    mlflow.log_param('n_estimators', 100)\n",
    "    mlflow.log_param('max_depth', 3)\n",
    "    mlflow.log_metric('accuracy', acc)\n",
    "\n",
    "    mlflow.sklearn.log_model(clf, 'model')\n",
    "    print('logged model accuracy: ', acc)"
   ]
  },
  {
   "cell_type": "code",
   "execution_count": 10,
   "id": "6c6b8abc-11ca-4d43-8a6b-f8672e8d007a",
   "metadata": {},
   "outputs": [
    {
     "name": "stderr",
     "output_type": "stream",
     "text": [
      "2025/06/11 15:41:34 INFO mlflow.tracking.fluent: Experiment with name 'Iris-Sklearn-RandomSearch' does not exist. Creating a new experiment.\n",
      "2025/06/11 15:41:35 WARNING mlflow.models.model: `artifact_path` is deprecated. Please use `name` instead.\n",
      "2025/06/11 15:41:37 WARNING mlflow.utils.environment: Failed to resolve installed pip version. ``pip`` will be added to conda.yaml environment spec without a version specifier.\n",
      "C:\\Users\\Admin\\Desktop\\LGSW\\LGSW02\\ml_dl\\.venv\\Lib\\site-packages\\tqdm\\auto.py:21: TqdmWarning: IProgress not found. Please update jupyter and ipywidgets. See https://ipywidgets.readthedocs.io/en/stable/user_install.html\n",
      "  from .autonotebook import tqdm as notebook_tqdm\n",
      "Downloading artifacts: 100%|██████████████████████████████████████| 7/7 [00:00<00:00, 2332.58it/s]\n",
      "Successfully registered model 'iris_rf_model'.\n",
      "2025/06/11 15:41:37 INFO mlflow.store.model_registry.abstract_store: Waiting up to 300 seconds for model version to finish creation. Model name: iris_rf_model, version 1\n"
     ]
    },
    {
     "name": "stdout",
     "output_type": "stream",
     "text": [
      "모델 등록 완료: iris_rf_model, version 1\n",
      "🏃 View run random_forest_search at: http://127.0.0.1:5000/#/experiments/370467540616997944/runs/e4bca73704ab4a4ba24419f98e28fd00\n",
      "🧪 View experiment at: http://127.0.0.1:5000/#/experiments/370467540616997944\n",
      "설명, 태그, alias 설정 완료: version 1\n"
     ]
    },
    {
     "name": "stderr",
     "output_type": "stream",
     "text": [
      "Created version '1' of model 'iris_rf_model'.\n"
     ]
    }
   ],
   "source": [
    "import mlflow\n",
    "import mlflow.sklearn\n",
    "import pandas as pd\n",
    "from sklearn.datasets import load_iris\n",
    "from sklearn.model_selection import train_test_split, RandomizedSearchCV\n",
    "from sklearn.pipeline import Pipeline\n",
    "from sklearn.preprocessing import StandardScaler\n",
    "from sklearn.ensemble import RandomForestClassifier\n",
    "from sklearn.metrics import accuracy_score\n",
    "from mlflow.models import infer_signature\n",
    "from mlflow.tracking import MlflowClient\n",
    "\n",
    "# MLflow 설정\n",
    "mlflow.set_tracking_uri('http://127.0.0.1:5000')\n",
    "mlflow.set_experiment(\"Iris-Sklearn-RandomSearch\")\n",
    "\n",
    "# 데이터 로드\n",
    "iris = load_iris(as_frame=True)\n",
    "X = iris.data\n",
    "y = iris.target\n",
    "X_train, X_test, y_train, y_test = train_test_split(X, y, random_state=42)\n",
    "\n",
    "# 파이프라인 정의\n",
    "pipeline = Pipeline([\n",
    "    ('scaler', StandardScaler()),\n",
    "    ('clf', RandomForestClassifier(random_state=42))\n",
    "])\n",
    "\n",
    "# 하이퍼파라미터 탐색\n",
    "param_grid = {\n",
    "    'clf__n_estimators': [50, 100, 150],\n",
    "    'clf__max_depth': [2, 3, 4, 5, 6]\n",
    "}\n",
    "\n",
    "search = RandomizedSearchCV(\n",
    "    pipeline,\n",
    "    param_distributions=param_grid,\n",
    "    n_iter=5,\n",
    "    cv=3,\n",
    "    random_state=42\n",
    ")\n",
    "search.fit(X_train, y_train)\n",
    "\n",
    "# 예시 입력/서명 추출\n",
    "input_example = X_test[:5]\n",
    "y_pred = search.predict(X_test)\n",
    "signature = infer_signature(X_test, y_pred)\n",
    "accuracy = accuracy_score(y_test, y_pred)\n",
    "\n",
    "# MLflow Run\n",
    "with mlflow.start_run(run_name=\"random_forest_search\") as run:\n",
    "    mlflow.log_params(search.best_params_)\n",
    "    mlflow.log_metric(\"accuracy\", accuracy)\n",
    "\n",
    "    # 모델 저장\n",
    "    model_info = mlflow.sklearn.log_model(\n",
    "        sk_model=search.best_estimator_,\n",
    "        artifact_path=\"model\",\n",
    "        input_example=input_example,\n",
    "        signature=signature\n",
    "    )\n",
    "\n",
    "    # 모델 등록\n",
    "    registered_model_name = \"iris_rf_model\"\n",
    "    result = mlflow.register_model(\n",
    "        model_uri=model_info.model_uri,\n",
    "        name=registered_model_name\n",
    "    )\n",
    "\n",
    "    version = result.version\n",
    "    print(f\"모델 등록 완료: {registered_model_name}, version {version}\")\n",
    "\n",
    "# ---------------------------------------------------\n",
    "# 모델 설명, 태그, 별칭 추가 (등록 이후 별도로 수행)\n",
    "# ---------------------------------------------------\n",
    "client = MlflowClient()\n",
    "\n",
    "# 등록 모델 설명 업데이트\n",
    "client.update_registered_model(\n",
    "    name=registered_model_name,\n",
    "    description=\"Random Forest 모델로 Iris 품종을 분류합니다. 전처리 포함된 sklearn 파이프라인 사용.\"\n",
    ")\n",
    "\n",
    "# 버전별 태그 추가\n",
    "client.set_model_version_tag(registered_model_name, version, \"accuracy\", f\"{accuracy:.4f}\")\n",
    "client.set_model_version_tag(registered_model_name, version, \"cv\", \"3-fold\")\n",
    "client.set_model_version_tag(registered_model_name, version, \"model_type\", \"RandomForest\")\n",
    "\n",
    "# 별칭 설정 (가장 최신 버전을 Production으로 지정)\n",
    "client.set_registered_model_alias(\n",
    "    name=registered_model_name,\n",
    "    alias=\"production\",\n",
    "    version=version\n",
    ")\n",
    "\n",
    "print(f\"설명, 태그, alias 설정 완료: version {version}\")"
   ]
  }
 ],
 "metadata": {
  "kernelspec": {
   "display_name": "Python 3 (ipykernel)",
   "language": "python",
   "name": "python3"
  },
  "language_info": {
   "codemirror_mode": {
    "name": "ipython",
    "version": 3
   },
   "file_extension": ".py",
   "mimetype": "text/x-python",
   "name": "python",
   "nbconvert_exporter": "python",
   "pygments_lexer": "ipython3",
   "version": "3.11.12"
  }
 },
 "nbformat": 4,
 "nbformat_minor": 5
}
