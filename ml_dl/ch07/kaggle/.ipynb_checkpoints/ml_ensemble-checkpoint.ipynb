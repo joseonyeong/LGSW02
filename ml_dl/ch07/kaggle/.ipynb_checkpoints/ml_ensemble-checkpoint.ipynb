{
 "cells": [
  {
   "cell_type": "code",
   "execution_count": 1,
   "id": "295e7137-be11-4ddd-a0e2-490292a1b318",
   "metadata": {},
   "outputs": [
    {
     "name": "stdout",
     "output_type": "stream",
     "text": [
      "Collecting scikit-optimize\n",
      "  Downloading scikit_optimize-0.10.2-py2.py3-none-any.whl.metadata (9.7 kB)\n",
      "Requirement already satisfied: joblib>=0.11 in c:\\users\\admin\\appdata\\local\\programs\\python\\python313\\lib\\site-packages (from scikit-optimize) (1.5.1)\n",
      "Collecting pyaml>=16.9 (from scikit-optimize)\n",
      "  Downloading pyaml-25.5.0-py3-none-any.whl.metadata (12 kB)\n",
      "Requirement already satisfied: numpy>=1.20.3 in c:\\users\\admin\\appdata\\local\\programs\\python\\python313\\lib\\site-packages (from scikit-optimize) (2.2.4)\n",
      "Requirement already satisfied: scipy>=1.1.0 in c:\\users\\admin\\appdata\\local\\programs\\python\\python313\\lib\\site-packages (from scikit-optimize) (1.15.2)\n",
      "Requirement already satisfied: scikit-learn>=1.0.0 in c:\\users\\admin\\appdata\\local\\programs\\python\\python313\\lib\\site-packages (from scikit-optimize) (1.6.1)\n",
      "Requirement already satisfied: packaging>=21.3 in c:\\users\\admin\\appdata\\local\\programs\\python\\python313\\lib\\site-packages (from scikit-optimize) (24.2)\n",
      "Requirement already satisfied: PyYAML in c:\\users\\admin\\appdata\\local\\programs\\python\\python313\\lib\\site-packages (from pyaml>=16.9->scikit-optimize) (6.0.2)\n",
      "Requirement already satisfied: threadpoolctl>=3.1.0 in c:\\users\\admin\\appdata\\local\\programs\\python\\python313\\lib\\site-packages (from scikit-learn>=1.0.0->scikit-optimize) (3.6.0)\n",
      "Downloading scikit_optimize-0.10.2-py2.py3-none-any.whl (107 kB)\n",
      "Downloading pyaml-25.5.0-py3-none-any.whl (26 kB)\n",
      "Installing collected packages: pyaml, scikit-optimize\n",
      "\n",
      "   -------------------- ------------------- 1/2 [scikit-optimize]\n",
      "   -------------------- ------------------- 1/2 [scikit-optimize]\n",
      "   ---------------------------------------- 2/2 [scikit-optimize]\n",
      "\n",
      "Successfully installed pyaml-25.5.0 scikit-optimize-0.10.2\n"
     ]
    }
   ],
   "source": [
    "!pip install scikit-optimize"
   ]
  },
  {
   "cell_type": "code",
   "execution_count": 3,
   "id": "fafd1ecf-a2a6-47af-8583-506aa7db6616",
   "metadata": {},
   "outputs": [
    {
     "name": "stdout",
     "output_type": "stream",
     "text": [
      "Collecting xgboost\n",
      "  Downloading xgboost-3.0.2-py3-none-win_amd64.whl.metadata (2.1 kB)\n",
      "Requirement already satisfied: numpy in c:\\users\\admin\\appdata\\local\\programs\\python\\python313\\lib\\site-packages (from xgboost) (2.2.4)\n",
      "Requirement already satisfied: scipy in c:\\users\\admin\\appdata\\local\\programs\\python\\python313\\lib\\site-packages (from xgboost) (1.15.2)\n",
      "Downloading xgboost-3.0.2-py3-none-win_amd64.whl (150.0 MB)\n",
      "   ---------------------------------------- 0.0/150.0 MB ? eta -:--:--\n",
      "   - -------------------------------------- 5.2/150.0 MB 26.2 MB/s eta 0:00:06\n",
      "   --- ------------------------------------ 13.4/150.0 MB 33.3 MB/s eta 0:00:05\n",
      "   ----- ---------------------------------- 19.7/150.0 MB 32.2 MB/s eta 0:00:05\n",
      "   ------ --------------------------------- 22.5/150.0 MB 27.8 MB/s eta 0:00:05\n",
      "   ------- -------------------------------- 28.3/150.0 MB 27.9 MB/s eta 0:00:05\n",
      "   --------- ------------------------------ 35.7/150.0 MB 29.0 MB/s eta 0:00:04\n",
      "   ----------- ---------------------------- 43.3/150.0 MB 30.3 MB/s eta 0:00:04\n",
      "   ------------- -------------------------- 50.9/150.0 MB 31.1 MB/s eta 0:00:04\n",
      "   --------------- ------------------------ 57.1/150.0 MB 31.1 MB/s eta 0:00:03\n",
      "   ---------------- ----------------------- 63.4/150.0 MB 31.4 MB/s eta 0:00:03\n",
      "   ------------------- -------------------- 71.3/150.0 MB 31.9 MB/s eta 0:00:03\n",
      "   -------------------- ------------------- 77.1/150.0 MB 31.5 MB/s eta 0:00:03\n",
      "   --------------------- ------------------ 81.8/150.0 MB 31.1 MB/s eta 0:00:03\n",
      "   ---------------------- ----------------- 83.4/150.0 MB 29.1 MB/s eta 0:00:03\n",
      "   ------------------------ --------------- 91.8/150.0 MB 30.0 MB/s eta 0:00:02\n",
      "   -------------------------- ------------- 97.5/150.0 MB 29.9 MB/s eta 0:00:02\n",
      "   --------------------------- ----------- 106.2/150.0 MB 30.7 MB/s eta 0:00:02\n",
      "   ----------------------------- --------- 115.3/150.0 MB 31.5 MB/s eta 0:00:02\n",
      "   -------------------------------- ------ 124.3/150.0 MB 32.1 MB/s eta 0:00:01\n",
      "   --------------------------------- ----- 129.5/150.0 MB 31.8 MB/s eta 0:00:01\n",
      "   ---------------------------------- ---- 134.2/150.0 MB 31.2 MB/s eta 0:00:01\n",
      "   ----------------------------------- --- 138.4/150.0 MB 30.8 MB/s eta 0:00:01\n",
      "   --------------------------------------  147.3/150.0 MB 31.3 MB/s eta 0:00:01\n",
      "   --------------------------------------  149.9/150.0 MB 31.5 MB/s eta 0:00:01\n",
      "   --------------------------------------- 150.0/150.0 MB 30.3 MB/s eta 0:00:00\n",
      "Installing collected packages: xgboost\n",
      "Successfully installed xgboost-3.0.2\n"
     ]
    }
   ],
   "source": [
    "!pip install xgboost"
   ]
  },
  {
   "cell_type": "code",
   "execution_count": 5,
   "id": "263dd586-6429-44c6-83a6-b453fa8ff58f",
   "metadata": {},
   "outputs": [
    {
     "name": "stdout",
     "output_type": "stream",
     "text": [
      "Collecting lightgbm\n",
      "  Downloading lightgbm-4.6.0-py3-none-win_amd64.whl.metadata (17 kB)\n",
      "Requirement already satisfied: numpy>=1.17.0 in c:\\users\\admin\\appdata\\local\\programs\\python\\python313\\lib\\site-packages (from lightgbm) (2.2.4)\n",
      "Requirement already satisfied: scipy in c:\\users\\admin\\appdata\\local\\programs\\python\\python313\\lib\\site-packages (from lightgbm) (1.15.2)\n",
      "Downloading lightgbm-4.6.0-py3-none-win_amd64.whl (1.5 MB)\n",
      "   ---------------------------------------- 0.0/1.5 MB ? eta -:--:--\n",
      "   ---------------------------------------- 1.5/1.5 MB 10.9 MB/s eta 0:00:00\n",
      "Installing collected packages: lightgbm\n",
      "Successfully installed lightgbm-4.6.0\n"
     ]
    }
   ],
   "source": [
    "!pip install lightgbm\n"
   ]
  },
  {
   "cell_type": "code",
   "execution_count": 26,
   "id": "4acef8c8-8c94-4c0c-b081-1369ff1551ca",
   "metadata": {},
   "outputs": [
    {
     "name": "stdout",
     "output_type": "stream",
     "text": [
      "각 모델 트레이닝\n"
     ]
    }
   ],
   "source": [
    "import pandas as pd\n",
    "import numpy as np\n",
    "from sklearn.model_selection import train_test_split, cross_val_score\n",
    "from sklearn.impute import SimpleImputer\n",
    "from sklearn.preprocessing import OneHotEncoder, StandardScaler\n",
    "from sklearn.compose import ColumnTransformer\n",
    "from sklearn.pipeline import Pipeline\n",
    "from sklearn.linear_model import Ridge, Lasso, ElasticNet\n",
    "from sklearn.ensemble import RandomForestRegressor, StackingRegressor\n",
    "from sklearn.metrics import mean_squared_error, make_scorer\n",
    "from sklearn.model_selection import RandomizedSearchCV\n",
    "from skopt import BayesSearchCV\n",
    "import xgboost as xgb\n",
    "import lightgbm as lgb\n",
    "import warnings\n",
    "import joblib\n",
    "import os\n",
    "import json\n",
    "from datetime import datetime\n",
    "\n",
    "# LightGBM 경고 메시지 무시\n",
    "warnings.filterwarnings('ignore', category=UserWarning, module='lightgbm')\n",
    "\n",
    "# 1. 데이터 준비\n",
    "train = pd.read_csv(\"train.csv\")\n",
    "test = pd.read_csv(\"test.csv\")\n",
    "\n",
    "# EDA에서 추출된 주요 변수\n",
    "main_features = [\n",
    "    'OverallQual', 'GrLivArea', 'GarageCars', 'GarageArea', 'TotalBsmtSF',\n",
    "    '1stFlrSF', 'FullBath', 'TotRmsAbvGrd', 'YearBuilt', 'YearRemodAdd',\n",
    "    'GarageYrBlt', 'MasVnrArea', 'Fireplaces', 'BsmtFinSF1', 'LotFrontage',\n",
    "    'WoodDeckSF', '2ndFlrSF', 'OpenPorchSF', 'HalfBath', 'LotArea',\n",
    "    'Neighborhood', 'ExterQual', 'KitchenQual', 'BsmtQual', 'GarageType',\n",
    "    'SaleCondition'\n",
    "]\n",
    "\n",
    "# 학습/검증 데이터 분리\n",
    "X = train[main_features]\n",
    "y = train['SalePrice']\n",
    "X_train, X_val, y_train, y_val = train_test_split(X, y, test_size=0.2, random_state=42)\n",
    "\n",
    "# 수치형/범주형 분리\n",
    "numeric_feats = X.select_dtypes(include=['int64', 'float64']).columns.tolist()\n",
    "categorical_feats = X.select_dtypes(include=['object']).columns.tolist()\n",
    "\n",
    "# 2. 전처리 파이프라인\n",
    "numeric_transformer = Pipeline([\n",
    "    ('imputer', SimpleImputer(strategy='mean')),\n",
    "    ('scaler', StandardScaler())\n",
    "])\n",
    "\n",
    "categorical_transformer = Pipeline([\n",
    "    ('imputer', SimpleImputer(strategy='most_frequent')),\n",
    "    ('encoder', OneHotEncoder(handle_unknown='ignore', sparse_output=False))\n",
    "])\n",
    "\n",
    "preprocessor = ColumnTransformer([\n",
    "    ('num', numeric_transformer, numeric_feats),\n",
    "    ('cat', categorical_transformer, categorical_feats)\n",
    "])\n",
    "\n",
    "# 3. 개별 모델 정의\n",
    "base_models = {\n",
    "    'Ridge': Ridge(alpha=1.0),\n",
    "    'Lasso': Lasso(alpha=1.0),\n",
    "    'ElasticNet': ElasticNet(alpha=1.0, l1_ratio=0.5),\n",
    "    'XGBoost': xgb.XGBRegressor(\n",
    "        n_estimators=500,\n",
    "        max_depth=5,\n",
    "        learning_rate=0.1,\n",
    "        subsample=0.8,\n",
    "        colsample_bytree=0.8,\n",
    "        tree_method='hist',\n",
    "        random_state=42\n",
    "    ),\n",
    "    'LightGBM': lgb.LGBMRegressor(\n",
    "        n_estimators=500,\n",
    "        max_depth=5,\n",
    "        learning_rate=0.1,\n",
    "        subsample=0.8,\n",
    "        colsample_bytree=0.8,\n",
    "        random_state=42,\n",
    "        verbose=-1\n",
    "    )\n",
    "}\n",
    "\n",
    "print('각 모델 트레이닝')"
   ]
  },
  {
   "cell_type": "code",
   "execution_count": 15,
   "id": "9b381677-9157-4e83-96a5-1627bb9a8a82",
   "metadata": {},
   "outputs": [
    {
     "name": "stdout",
     "output_type": "stream",
     "text": [
      "\n",
      "Training Ridge...\n",
      "\n",
      "Training Ridge Completed...\n",
      "Ridge 모델 rmse : 32886.611682055016\n",
      "\n",
      "Training Lasso...\n",
      "\n",
      "Training Lasso Completed...\n",
      "Lasso 모델 rmse : 32993.20265185749\n",
      "\n",
      "Training ElasticNet...\n",
      "\n",
      "Training ElasticNet Completed...\n",
      "ElasticNet 모델 rmse : 37908.45726466044\n",
      "\n",
      "Training XGBoost...\n"
     ]
    },
    {
     "name": "stderr",
     "output_type": "stream",
     "text": [
      "C:\\Users\\Admin\\AppData\\Local\\Programs\\Python\\Python313\\Lib\\site-packages\\sklearn\\linear_model\\_coordinate_descent.py:695: ConvergenceWarning: Objective did not converge. You might want to increase the number of iterations, check the scale of the features or consider increasing regularisation. Duality gap: 1.166e+10, tolerance: 6.967e+08\n",
      "  model = cd_fast.enet_coordinate_descent(\n"
     ]
    },
    {
     "name": "stdout",
     "output_type": "stream",
     "text": [
      "\n",
      "Training XGBoost Completed...\n",
      "XGBoost 모델 rmse : 27164.23648844193\n",
      "\n",
      "Training LightGBM...\n",
      "\n",
      "Training LightGBM Completed...\n",
      "LightGBM 모델 rmse : 31217.708559019466\n"
     ]
    },
    {
     "name": "stderr",
     "output_type": "stream",
     "text": [
      "C:\\Users\\Admin\\AppData\\Local\\Programs\\Python\\Python313\\Lib\\site-packages\\sklearn\\utils\\validation.py:2739: UserWarning: X does not have valid feature names, but LGBMRegressor was fitted with feature names\n",
      "  warnings.warn(\n"
     ]
    }
   ],
   "source": [
    "individual_results = {}\n",
    "trained_models = {}\n",
    "\n",
    "for name, model in base_models.items():\n",
    "    print(f\"\\nTraining {name}...\")\n",
    "    pipe = Pipeline([\n",
    "        ('Preprocexsor', preprocessor),\n",
    "        ('reg', model)\n",
    "    ])\n",
    "\n",
    "    pipe.fit(X_train, y_train)\n",
    "    print(f\"\\nTraining {name} Completed...\")\n",
    "\n",
    "    y_val_pred = pipe.predict(X_val) # 해당 코드와 수요일 코드 비교 필요 -> 얼마나 간결해졌는가\n",
    "    val_rmse = np.sqrt(mean_squared_error(y_val, y_val_pred))\n",
    "    print(f\"{name} 모델 rmse : {val_rmse}\")\n",
    "\n",
    "    individual_results[name] = val_rmse\n",
    "    trained_models[name] = pipe"
   ]
  },
  {
   "cell_type": "markdown",
   "id": "ff739743-9322-4296-96b8-20811fc17883",
   "metadata": {},
   "source": [
    "# 스태킹 앙상블 모델"
   ]
  },
  {
   "cell_type": "code",
   "execution_count": 24,
   "id": "10347847-ff29-4b52-b9b1-f1305bf7c34d",
   "metadata": {},
   "outputs": [
    {
     "name": "stderr",
     "output_type": "stream",
     "text": [
      "C:\\Users\\Admin\\AppData\\Local\\Programs\\Python\\Python313\\Lib\\site-packages\\sklearn\\utils\\validation.py:2739: UserWarning: X does not have valid feature names, but LGBMRegressor was fitted with feature names\n",
      "  warnings.warn(\n"
     ]
    },
    {
     "data": {
      "text/plain": [
       "np.float64(28165.657335583746)"
      ]
     },
     "execution_count": 24,
     "metadata": {},
     "output_type": "execute_result"
    }
   ],
   "source": [
    "## 원래 형태 딕셔너리\n",
    "## 이를 변환해야함\n",
    "## 원래 형태 리스트 타입으로 (내부는 튜플형태)\n",
    "\n",
    "stacking_models = list(trained_models.values())\n",
    "stacking_names = list(trained_models.keys())\n",
    "estimators = list(zip(stacking_names, stacking_models))\n",
    "\n",
    "stacking_regressor = StackingRegressor(\n",
    "    estimators = estimators,\n",
    "    final_estimator = Ridge(alpha = 1.0),\n",
    "    cv = 5, n_jobs = -1\n",
    ")\n",
    "\n",
    "stacking_regressor.fit(X_train, y_train)\n",
    "\n",
    "# 앙상블 모델 검증\n",
    "y_val_pred = stacking_regressor.predict(X_val)\n",
    "ensemble_rmse = np.sqrt(mean_squared_error(y_val, y_val_pred))\n",
    "ensemble_rmse"
   ]
  },
  {
   "cell_type": "markdown",
   "id": "480bddfd-ba3f-4354-9cb2-66709d6c98c4",
   "metadata": {},
   "source": [
    "## 모델 테스트"
   ]
  },
  {
   "cell_type": "code",
   "execution_count": 25,
   "id": "13072de6-0d3d-42a7-832b-1cc0cee807bf",
   "metadata": {},
   "outputs": [
    {
     "name": "stderr",
     "output_type": "stream",
     "text": [
      "C:\\Users\\Admin\\AppData\\Local\\Programs\\Python\\Python313\\Lib\\site-packages\\sklearn\\utils\\validation.py:2739: UserWarning: X does not have valid feature names, but LGBMRegressor was fitted with feature names\n",
      "  warnings.warn(\n"
     ]
    },
    {
     "data": {
      "text/html": [
       "<div>\n",
       "<style scoped>\n",
       "    .dataframe tbody tr th:only-of-type {\n",
       "        vertical-align: middle;\n",
       "    }\n",
       "\n",
       "    .dataframe tbody tr th {\n",
       "        vertical-align: top;\n",
       "    }\n",
       "\n",
       "    .dataframe thead th {\n",
       "        text-align: right;\n",
       "    }\n",
       "</style>\n",
       "<table border=\"1\" class=\"dataframe\">\n",
       "  <thead>\n",
       "    <tr style=\"text-align: right;\">\n",
       "      <th></th>\n",
       "      <th>Id</th>\n",
       "      <th>Saleprice</th>\n",
       "    </tr>\n",
       "  </thead>\n",
       "  <tbody>\n",
       "    <tr>\n",
       "      <th>0</th>\n",
       "      <td>1461</td>\n",
       "      <td>129808.364039</td>\n",
       "    </tr>\n",
       "    <tr>\n",
       "      <th>1</th>\n",
       "      <td>1462</td>\n",
       "      <td>164551.512067</td>\n",
       "    </tr>\n",
       "    <tr>\n",
       "      <th>2</th>\n",
       "      <td>1463</td>\n",
       "      <td>186657.585677</td>\n",
       "    </tr>\n",
       "    <tr>\n",
       "      <th>3</th>\n",
       "      <td>1464</td>\n",
       "      <td>190667.914572</td>\n",
       "    </tr>\n",
       "    <tr>\n",
       "      <th>4</th>\n",
       "      <td>1465</td>\n",
       "      <td>206828.676687</td>\n",
       "    </tr>\n",
       "    <tr>\n",
       "      <th>...</th>\n",
       "      <td>...</td>\n",
       "      <td>...</td>\n",
       "    </tr>\n",
       "    <tr>\n",
       "      <th>1454</th>\n",
       "      <td>2915</td>\n",
       "      <td>68641.914990</td>\n",
       "    </tr>\n",
       "    <tr>\n",
       "      <th>1455</th>\n",
       "      <td>2916</td>\n",
       "      <td>72949.239007</td>\n",
       "    </tr>\n",
       "    <tr>\n",
       "      <th>1456</th>\n",
       "      <td>2917</td>\n",
       "      <td>160327.211971</td>\n",
       "    </tr>\n",
       "    <tr>\n",
       "      <th>1457</th>\n",
       "      <td>2918</td>\n",
       "      <td>112886.382235</td>\n",
       "    </tr>\n",
       "    <tr>\n",
       "      <th>1458</th>\n",
       "      <td>2919</td>\n",
       "      <td>212435.850063</td>\n",
       "    </tr>\n",
       "  </tbody>\n",
       "</table>\n",
       "<p>1459 rows × 2 columns</p>\n",
       "</div>"
      ],
      "text/plain": [
       "        Id      Saleprice\n",
       "0     1461  129808.364039\n",
       "1     1462  164551.512067\n",
       "2     1463  186657.585677\n",
       "3     1464  190667.914572\n",
       "4     1465  206828.676687\n",
       "...    ...            ...\n",
       "1454  2915   68641.914990\n",
       "1455  2916   72949.239007\n",
       "1456  2917  160327.211971\n",
       "1457  2918  112886.382235\n",
       "1458  2919  212435.850063\n",
       "\n",
       "[1459 rows x 2 columns]"
      ]
     },
     "execution_count": 25,
     "metadata": {},
     "output_type": "execute_result"
    }
   ],
   "source": [
    "X_test = test[main_features]\n",
    "test_predictions = stacking_regressor.predict(X_test)\n",
    "pd.DataFrame({\n",
    "    'Id' : test['Id'],\n",
    "    'Saleprice': test_predictions\n",
    "})"
   ]
  },
  {
   "cell_type": "code",
   "execution_count": null,
   "id": "6f8d6bb2-c984-49a7-b3f5-363fdac4883f",
   "metadata": {},
   "outputs": [],
   "source": []
  }
 ],
 "metadata": {
  "kernelspec": {
   "display_name": "Python 3 (ipykernel)",
   "language": "python",
   "name": "python3"
  },
  "language_info": {
   "codemirror_mode": {
    "name": "ipython",
    "version": 3
   },
   "file_extension": ".py",
   "mimetype": "text/x-python",
   "name": "python",
   "nbconvert_exporter": "python",
   "pygments_lexer": "ipython3",
   "version": "3.13.3"
  }
 },
 "nbformat": 4,
 "nbformat_minor": 5
}
