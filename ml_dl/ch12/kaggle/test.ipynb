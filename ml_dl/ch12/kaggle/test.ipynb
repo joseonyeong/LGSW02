{
 "cells": [
  {
   "cell_type": "markdown",
   "id": "6adb3f52-3888-490c-bccf-7d6584b1e3a2",
   "metadata": {},
   "source": [
    "# 개 vs. 고양이 Redux: 커널 에디션\n",
    "개와 고양이의 이미지를 구별하세요"
   ]
  },
  {
   "cell_type": "code",
   "execution_count": 1,
   "id": "798e4bda-dbf0-4115-8f3a-9912535f952f",
   "metadata": {},
   "outputs": [],
   "source": [
    "## 임포트\n",
    "import torch\n",
    "import torch.nn as nn\n",
    "import torch.nn.functional as f\n",
    "import torchvision\n",
    "import torchvision.transforms as transforms\n",
    "import os\n",
    "import torchvision.utils\n",
    "from PIL import Image"
   ]
  },
  {
   "cell_type": "code",
   "execution_count": 2,
   "id": "40b4d324-bc62-4f0e-9bb9-58e3b4fb9187",
   "metadata": {},
   "outputs": [
    {
     "name": "stdout",
     "output_type": "stream",
     "text": [
      "cuda\n"
     ]
    }
   ],
   "source": [
    "## GPU 설정\n",
    "device = torch.device('cuda' if torch.cuda.is_available() else 'cpu')\n",
    "print(device)"
   ]
  },
  {
   "cell_type": "code",
   "execution_count": null,
   "id": "0bb76fc5-45d3-4d1c-80ec-48ff3a599197",
   "metadata": {},
   "outputs": [],
   "source": [
    "## 데이터 가져오기\n",
    "\n",
    "### 데이터 정규화\n",
    "transform = transforms.Compose([\n",
    "    transform.ToTensor(),\n",
    "    transforms.Normalize((0.5, 0.5,0.5), (0.5, 0.5, 0.5)) ## RGb별 처리\n",
    "])\n",
    "\n",
    "### 훈련 데이터\n",
    "trainset = torchvision.datasets.CIFAR10(root = './train',\n",
    "                                        train = True,\n",
    "                                        download = True,\n",
    "                                        transform = transform)\n",
    "\n",
    "trainloader = torch.utils.data.Dataloader(\n",
    "    trainset,\n",
    "    batch_size = 64,\n",
    "    shuffle = True,\n",
    "    num_workers = 2\n",
    ")\n",
    "\n"
   ]
  }
 ],
 "metadata": {
  "kernelspec": {
   "display_name": "Python 3 (ipykernel)",
   "language": "python",
   "name": "python3"
  },
  "language_info": {
   "codemirror_mode": {
    "name": "ipython",
    "version": 3
   },
   "file_extension": ".py",
   "mimetype": "text/x-python",
   "name": "python",
   "nbconvert_exporter": "python",
   "pygments_lexer": "ipython3",
   "version": "3.11.12"
  }
 },
 "nbformat": 4,
 "nbformat_minor": 5
}
