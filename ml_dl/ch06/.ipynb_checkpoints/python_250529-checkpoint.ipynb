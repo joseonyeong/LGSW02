{
 "cells": [
  {
   "cell_type": "markdown",
   "id": "6435bc18-6ce3-427a-9671-5a411498002f",
   "metadata": {},
   "source": [
    "# 데이터 불러오기"
   ]
  },
  {
   "cell_type": "code",
   "execution_count": 35,
   "id": "24967f96-b634-4b4a-a0d8-65338785d12e",
   "metadata": {},
   "outputs": [
    {
     "data": {
      "text/html": [
       "<div>\n",
       "<style scoped>\n",
       "    .dataframe tbody tr th:only-of-type {\n",
       "        vertical-align: middle;\n",
       "    }\n",
       "\n",
       "    .dataframe tbody tr th {\n",
       "        vertical-align: top;\n",
       "    }\n",
       "\n",
       "    .dataframe thead th {\n",
       "        text-align: right;\n",
       "    }\n",
       "</style>\n",
       "<table border=\"1\" class=\"dataframe\">\n",
       "  <thead>\n",
       "    <tr style=\"text-align: right;\">\n",
       "      <th></th>\n",
       "      <th>Id</th>\n",
       "      <th>MSSubClass</th>\n",
       "      <th>MSZoning</th>\n",
       "      <th>LotFrontage</th>\n",
       "      <th>LotArea</th>\n",
       "      <th>Street</th>\n",
       "      <th>Alley</th>\n",
       "      <th>LotShape</th>\n",
       "      <th>LandContour</th>\n",
       "      <th>Utilities</th>\n",
       "      <th>...</th>\n",
       "      <th>PoolArea</th>\n",
       "      <th>PoolQC</th>\n",
       "      <th>Fence</th>\n",
       "      <th>MiscFeature</th>\n",
       "      <th>MiscVal</th>\n",
       "      <th>MoSold</th>\n",
       "      <th>YrSold</th>\n",
       "      <th>SaleType</th>\n",
       "      <th>SaleCondition</th>\n",
       "      <th>SalePrice</th>\n",
       "    </tr>\n",
       "  </thead>\n",
       "  <tbody>\n",
       "    <tr>\n",
       "      <th>0</th>\n",
       "      <td>1</td>\n",
       "      <td>60</td>\n",
       "      <td>RL</td>\n",
       "      <td>65.0</td>\n",
       "      <td>8450</td>\n",
       "      <td>Pave</td>\n",
       "      <td>NaN</td>\n",
       "      <td>Reg</td>\n",
       "      <td>Lvl</td>\n",
       "      <td>AllPub</td>\n",
       "      <td>...</td>\n",
       "      <td>0</td>\n",
       "      <td>NaN</td>\n",
       "      <td>NaN</td>\n",
       "      <td>NaN</td>\n",
       "      <td>0</td>\n",
       "      <td>2</td>\n",
       "      <td>2008</td>\n",
       "      <td>WD</td>\n",
       "      <td>Normal</td>\n",
       "      <td>208500</td>\n",
       "    </tr>\n",
       "    <tr>\n",
       "      <th>1</th>\n",
       "      <td>2</td>\n",
       "      <td>20</td>\n",
       "      <td>RL</td>\n",
       "      <td>80.0</td>\n",
       "      <td>9600</td>\n",
       "      <td>Pave</td>\n",
       "      <td>NaN</td>\n",
       "      <td>Reg</td>\n",
       "      <td>Lvl</td>\n",
       "      <td>AllPub</td>\n",
       "      <td>...</td>\n",
       "      <td>0</td>\n",
       "      <td>NaN</td>\n",
       "      <td>NaN</td>\n",
       "      <td>NaN</td>\n",
       "      <td>0</td>\n",
       "      <td>5</td>\n",
       "      <td>2007</td>\n",
       "      <td>WD</td>\n",
       "      <td>Normal</td>\n",
       "      <td>181500</td>\n",
       "    </tr>\n",
       "    <tr>\n",
       "      <th>2</th>\n",
       "      <td>3</td>\n",
       "      <td>60</td>\n",
       "      <td>RL</td>\n",
       "      <td>68.0</td>\n",
       "      <td>11250</td>\n",
       "      <td>Pave</td>\n",
       "      <td>NaN</td>\n",
       "      <td>IR1</td>\n",
       "      <td>Lvl</td>\n",
       "      <td>AllPub</td>\n",
       "      <td>...</td>\n",
       "      <td>0</td>\n",
       "      <td>NaN</td>\n",
       "      <td>NaN</td>\n",
       "      <td>NaN</td>\n",
       "      <td>0</td>\n",
       "      <td>9</td>\n",
       "      <td>2008</td>\n",
       "      <td>WD</td>\n",
       "      <td>Normal</td>\n",
       "      <td>223500</td>\n",
       "    </tr>\n",
       "    <tr>\n",
       "      <th>3</th>\n",
       "      <td>4</td>\n",
       "      <td>70</td>\n",
       "      <td>RL</td>\n",
       "      <td>60.0</td>\n",
       "      <td>9550</td>\n",
       "      <td>Pave</td>\n",
       "      <td>NaN</td>\n",
       "      <td>IR1</td>\n",
       "      <td>Lvl</td>\n",
       "      <td>AllPub</td>\n",
       "      <td>...</td>\n",
       "      <td>0</td>\n",
       "      <td>NaN</td>\n",
       "      <td>NaN</td>\n",
       "      <td>NaN</td>\n",
       "      <td>0</td>\n",
       "      <td>2</td>\n",
       "      <td>2006</td>\n",
       "      <td>WD</td>\n",
       "      <td>Abnorml</td>\n",
       "      <td>140000</td>\n",
       "    </tr>\n",
       "    <tr>\n",
       "      <th>4</th>\n",
       "      <td>5</td>\n",
       "      <td>60</td>\n",
       "      <td>RL</td>\n",
       "      <td>84.0</td>\n",
       "      <td>14260</td>\n",
       "      <td>Pave</td>\n",
       "      <td>NaN</td>\n",
       "      <td>IR1</td>\n",
       "      <td>Lvl</td>\n",
       "      <td>AllPub</td>\n",
       "      <td>...</td>\n",
       "      <td>0</td>\n",
       "      <td>NaN</td>\n",
       "      <td>NaN</td>\n",
       "      <td>NaN</td>\n",
       "      <td>0</td>\n",
       "      <td>12</td>\n",
       "      <td>2008</td>\n",
       "      <td>WD</td>\n",
       "      <td>Normal</td>\n",
       "      <td>250000</td>\n",
       "    </tr>\n",
       "  </tbody>\n",
       "</table>\n",
       "<p>5 rows × 81 columns</p>\n",
       "</div>"
      ],
      "text/plain": [
       "   Id  MSSubClass MSZoning  LotFrontage  LotArea Street Alley LotShape  \\\n",
       "0   1          60       RL         65.0     8450   Pave   NaN      Reg   \n",
       "1   2          20       RL         80.0     9600   Pave   NaN      Reg   \n",
       "2   3          60       RL         68.0    11250   Pave   NaN      IR1   \n",
       "3   4          70       RL         60.0     9550   Pave   NaN      IR1   \n",
       "4   5          60       RL         84.0    14260   Pave   NaN      IR1   \n",
       "\n",
       "  LandContour Utilities  ... PoolArea PoolQC Fence MiscFeature MiscVal MoSold  \\\n",
       "0         Lvl    AllPub  ...        0    NaN   NaN         NaN       0      2   \n",
       "1         Lvl    AllPub  ...        0    NaN   NaN         NaN       0      5   \n",
       "2         Lvl    AllPub  ...        0    NaN   NaN         NaN       0      9   \n",
       "3         Lvl    AllPub  ...        0    NaN   NaN         NaN       0      2   \n",
       "4         Lvl    AllPub  ...        0    NaN   NaN         NaN       0     12   \n",
       "\n",
       "  YrSold  SaleType  SaleCondition  SalePrice  \n",
       "0   2008        WD         Normal     208500  \n",
       "1   2007        WD         Normal     181500  \n",
       "2   2008        WD         Normal     223500  \n",
       "3   2006        WD        Abnorml     140000  \n",
       "4   2008        WD         Normal     250000  \n",
       "\n",
       "[5 rows x 81 columns]"
      ]
     },
     "execution_count": 35,
     "metadata": {},
     "output_type": "execute_result"
    }
   ],
   "source": [
    "import pandas as pd \n",
    "\n",
    "train = pd.read_csv(\"train.csv\")\n",
    "train.head()"
   ]
  },
  {
   "cell_type": "code",
   "execution_count": 36,
   "id": "af4cf3e7-ba28-495b-b6f3-2bdb41f93dba",
   "metadata": {},
   "outputs": [
    {
     "name": "stdout",
     "output_type": "stream",
     "text": [
      "<class 'pandas.core.frame.DataFrame'>\n",
      "RangeIndex: 1460 entries, 0 to 1459\n",
      "Data columns (total 81 columns):\n",
      " #   Column         Non-Null Count  Dtype  \n",
      "---  ------         --------------  -----  \n",
      " 0   Id             1460 non-null   int64  \n",
      " 1   MSSubClass     1460 non-null   int64  \n",
      " 2   MSZoning       1460 non-null   object \n",
      " 3   LotFrontage    1201 non-null   float64\n",
      " 4   LotArea        1460 non-null   int64  \n",
      " 5   Street         1460 non-null   object \n",
      " 6   Alley          91 non-null     object \n",
      " 7   LotShape       1460 non-null   object \n",
      " 8   LandContour    1460 non-null   object \n",
      " 9   Utilities      1460 non-null   object \n",
      " 10  LotConfig      1460 non-null   object \n",
      " 11  LandSlope      1460 non-null   object \n",
      " 12  Neighborhood   1460 non-null   object \n",
      " 13  Condition1     1460 non-null   object \n",
      " 14  Condition2     1460 non-null   object \n",
      " 15  BldgType       1460 non-null   object \n",
      " 16  HouseStyle     1460 non-null   object \n",
      " 17  OverallQual    1460 non-null   int64  \n",
      " 18  OverallCond    1460 non-null   int64  \n",
      " 19  YearBuilt      1460 non-null   int64  \n",
      " 20  YearRemodAdd   1460 non-null   int64  \n",
      " 21  RoofStyle      1460 non-null   object \n",
      " 22  RoofMatl       1460 non-null   object \n",
      " 23  Exterior1st    1460 non-null   object \n",
      " 24  Exterior2nd    1460 non-null   object \n",
      " 25  MasVnrType     588 non-null    object \n",
      " 26  MasVnrArea     1452 non-null   float64\n",
      " 27  ExterQual      1460 non-null   object \n",
      " 28  ExterCond      1460 non-null   object \n",
      " 29  Foundation     1460 non-null   object \n",
      " 30  BsmtQual       1423 non-null   object \n",
      " 31  BsmtCond       1423 non-null   object \n",
      " 32  BsmtExposure   1422 non-null   object \n",
      " 33  BsmtFinType1   1423 non-null   object \n",
      " 34  BsmtFinSF1     1460 non-null   int64  \n",
      " 35  BsmtFinType2   1422 non-null   object \n",
      " 36  BsmtFinSF2     1460 non-null   int64  \n",
      " 37  BsmtUnfSF      1460 non-null   int64  \n",
      " 38  TotalBsmtSF    1460 non-null   int64  \n",
      " 39  Heating        1460 non-null   object \n",
      " 40  HeatingQC      1460 non-null   object \n",
      " 41  CentralAir     1460 non-null   object \n",
      " 42  Electrical     1459 non-null   object \n",
      " 43  1stFlrSF       1460 non-null   int64  \n",
      " 44  2ndFlrSF       1460 non-null   int64  \n",
      " 45  LowQualFinSF   1460 non-null   int64  \n",
      " 46  GrLivArea      1460 non-null   int64  \n",
      " 47  BsmtFullBath   1460 non-null   int64  \n",
      " 48  BsmtHalfBath   1460 non-null   int64  \n",
      " 49  FullBath       1460 non-null   int64  \n",
      " 50  HalfBath       1460 non-null   int64  \n",
      " 51  BedroomAbvGr   1460 non-null   int64  \n",
      " 52  KitchenAbvGr   1460 non-null   int64  \n",
      " 53  KitchenQual    1460 non-null   object \n",
      " 54  TotRmsAbvGrd   1460 non-null   int64  \n",
      " 55  Functional     1460 non-null   object \n",
      " 56  Fireplaces     1460 non-null   int64  \n",
      " 57  FireplaceQu    770 non-null    object \n",
      " 58  GarageType     1379 non-null   object \n",
      " 59  GarageYrBlt    1379 non-null   float64\n",
      " 60  GarageFinish   1379 non-null   object \n",
      " 61  GarageCars     1460 non-null   int64  \n",
      " 62  GarageArea     1460 non-null   int64  \n",
      " 63  GarageQual     1379 non-null   object \n",
      " 64  GarageCond     1379 non-null   object \n",
      " 65  PavedDrive     1460 non-null   object \n",
      " 66  WoodDeckSF     1460 non-null   int64  \n",
      " 67  OpenPorchSF    1460 non-null   int64  \n",
      " 68  EnclosedPorch  1460 non-null   int64  \n",
      " 69  3SsnPorch      1460 non-null   int64  \n",
      " 70  ScreenPorch    1460 non-null   int64  \n",
      " 71  PoolArea       1460 non-null   int64  \n",
      " 72  PoolQC         7 non-null      object \n",
      " 73  Fence          281 non-null    object \n",
      " 74  MiscFeature    54 non-null     object \n",
      " 75  MiscVal        1460 non-null   int64  \n",
      " 76  MoSold         1460 non-null   int64  \n",
      " 77  YrSold         1460 non-null   int64  \n",
      " 78  SaleType       1460 non-null   object \n",
      " 79  SaleCondition  1460 non-null   object \n",
      " 80  SalePrice      1460 non-null   int64  \n",
      "dtypes: float64(3), int64(35), object(43)\n",
      "memory usage: 924.0+ KB\n"
     ]
    }
   ],
   "source": [
    "train.info()"
   ]
  },
  {
   "cell_type": "markdown",
   "id": "33e76df7-a771-4661-bcb2-94731505f1f7",
   "metadata": {},
   "source": [
    "# 탐색적 데이터 분석\n",
    "- 목적 : 주요 변수들을 추출\n",
    "    + 주요 변수를 몇개까지 추출해야 하나요?\n",
    "    + 예측 서비스를 구현해야 함. UI/UX도 고려해야 함."
   ]
  },
  {
   "cell_type": "markdown",
   "id": "78832d6a-9e8e-4e68-8c92-9938a0f855f8",
   "metadata": {},
   "source": [
    "## 결측치 확인"
   ]
  },
  {
   "cell_type": "code",
   "execution_count": 37,
   "id": "1d7313c8-c7ef-4a0d-b4ad-9d0598edf2b7",
   "metadata": {},
   "outputs": [
    {
     "data": {
      "text/plain": [
       "PoolQC          1453\n",
       "MiscFeature     1406\n",
       "Alley           1369\n",
       "Fence           1179\n",
       "MasVnrType       872\n",
       "FireplaceQu      690\n",
       "LotFrontage      259\n",
       "GarageQual        81\n",
       "GarageFinish      81\n",
       "GarageType        81\n",
       "dtype: int64"
      ]
     },
     "execution_count": 37,
     "metadata": {},
     "output_type": "execute_result"
    }
   ],
   "source": [
    "train.isnull().sum().sort_values(ascending=False).head(10)"
   ]
  },
  {
   "cell_type": "markdown",
   "id": "568d3956-5dcb-4654-b473-c32a111cd812",
   "metadata": {},
   "source": [
    "## 수치형 / 범주형 변수 구분"
   ]
  },
  {
   "cell_type": "code",
   "execution_count": 38,
   "id": "f604212c-8ab8-4017-a6f9-2668e2b21c59",
   "metadata": {},
   "outputs": [],
   "source": [
    "numeric_feats = train.select_dtypes(include=['int64', 'float64']).columns.tolist()\n",
    "categorical_feats = train.select_dtypes(include=['object']).columns.tolist()"
   ]
  },
  {
   "cell_type": "markdown",
   "id": "b7d970e2-401b-44d4-9d10-fe0cffd3c486",
   "metadata": {},
   "source": [
    "## 시각화 & 통계 분석\n",
    "- 이 부분은 생략\n",
    "- Target : SalePrice"
   ]
  },
  {
   "cell_type": "markdown",
   "id": "c140ebf2-38db-4ad8-91d4-d5c39aa89594",
   "metadata": {},
   "source": [
    "## 결측치가 30% 이상인 변수 제거"
   ]
  },
  {
   "cell_type": "code",
   "execution_count": 39,
   "id": "23ca6f74-46cb-47b2-82e0-9af2969ab965",
   "metadata": {},
   "outputs": [
    {
     "data": {
      "text/plain": [
       "['Alley', 'MasVnrType', 'FireplaceQu', 'PoolQC', 'Fence', 'MiscFeature']"
      ]
     },
     "execution_count": 39,
     "metadata": {},
     "output_type": "execute_result"
    }
   ],
   "source": [
    "missing_ratio = train.isnull().mean()\n",
    "# 결측치가 30% 이상인 변수들만 추출\n",
    "drop_cols = missing_ratio[missing_ratio > 0.3].index.tolist()\n",
    "drop_cols"
   ]
  },
  {
   "cell_type": "markdown",
   "id": "eb77cf4f-694f-4b21-a7fe-153459ecc205",
   "metadata": {},
   "source": [
    "## 불필요한 변수 제거 (Id)"
   ]
  },
  {
   "cell_type": "code",
   "execution_count": 40,
   "id": "48521d9c-b698-4af3-983f-41c94a576a26",
   "metadata": {},
   "outputs": [],
   "source": [
    "drop_cols += ['id']"
   ]
  },
  {
   "cell_type": "code",
   "execution_count": 41,
   "id": "cf285fd8-79b3-4e18-9b30-569408380359",
   "metadata": {},
   "outputs": [
    {
     "data": {
      "text/plain": [
       "['Alley', 'MasVnrType', 'FireplaceQu', 'PoolQC', 'Fence', 'MiscFeature', 'id']"
      ]
     },
     "execution_count": 41,
     "metadata": {},
     "output_type": "execute_result"
    }
   ],
   "source": [
    "drop_cols"
   ]
  },
  {
   "cell_type": "markdown",
   "id": "87c88d97-06ac-407d-a70a-284df65b9304",
   "metadata": {},
   "source": [
    "## 상관관계 높은 변수 수출"
   ]
  },
  {
   "cell_type": "code",
   "execution_count": 42,
   "id": "e0ec4239-27a9-4b5a-b32f-6b241986fa0e",
   "metadata": {},
   "outputs": [],
   "source": [
    "corr = train[numeric_feats].corr()['SalePrice'].abs().sort_values(ascending=False)\n",
    "# 상관계수 0.3 이상\n",
    "# corr\n",
    "\n",
    "main_numeric = corr[corr > 0.3].index.tolist()\n",
    "# 도메인 지식 기반 예시, From 탐색적 데이터 분석을 통해서 추출\n",
    "main_categorical = ['Neighborhood', 'ExterQual', 'KitchenQual', 'BsmtQual', 'GarageType', 'SaleCondition']  "
   ]
  },
  {
   "cell_type": "markdown",
   "id": "0e9cf7b6-fab0-4c21-b7d1-75a4dd142587",
   "metadata": {},
   "source": [
    "## 최종 주요 변수 추출\n",
    "- SalePrice을 제외한 80개 컬럼에서 ==> 25개로 줄임\n",
    "- 제 생각 : 여전히 많음, 파이널 프로젝트 진행할 때 독립변수의 갯수는 10개 이하로 줄이십시요.\n",
    "- "
   ]
  },
  {
   "cell_type": "code",
   "execution_count": 43,
   "id": "01cdecec-04e7-4b02-97d0-573d73669b73",
   "metadata": {},
   "outputs": [
    {
     "data": {
      "text/plain": [
       "25"
      ]
     },
     "execution_count": 43,
     "metadata": {},
     "output_type": "execute_result"
    }
   ],
   "source": [
    "main_features = list(set(main_numeric + main_categorical) - set(drop_cols))\n",
    "len(main_features)"
   ]
  },
  {
   "cell_type": "code",
   "execution_count": 44,
   "id": "4c0cd652-b1a7-4ca4-a6b3-850dd42b838e",
   "metadata": {},
   "outputs": [
    {
     "data": {
      "text/plain": [
       "['FullBath',\n",
       " 'Fireplaces',\n",
       " '2ndFlrSF',\n",
       " 'SaleCondition',\n",
       " 'BsmtQual',\n",
       " 'LotFrontage',\n",
       " 'TotRmsAbvGrd',\n",
       " 'BsmtFinSF1',\n",
       " 'GrLivArea',\n",
       " 'SalePrice',\n",
       " '1stFlrSF',\n",
       " 'GarageArea',\n",
       " 'KitchenQual',\n",
       " 'WoodDeckSF',\n",
       " 'MasVnrArea',\n",
       " 'GarageCars',\n",
       " 'OpenPorchSF',\n",
       " 'GarageType',\n",
       " 'ExterQual',\n",
       " 'TotalBsmtSF',\n",
       " 'OverallQual',\n",
       " 'YearRemodAdd',\n",
       " 'YearBuilt',\n",
       " 'GarageYrBlt',\n",
       " 'Neighborhood']"
      ]
     },
     "execution_count": 44,
     "metadata": {},
     "output_type": "execute_result"
    }
   ],
   "source": [
    "main_features"
   ]
  },
  {
   "cell_type": "markdown",
   "id": "591da876-25d6-4d99-8610-248ff12e00d4",
   "metadata": {},
   "source": [
    "# 데이터 분리"
   ]
  },
  {
   "cell_type": "code",
   "execution_count": 45,
   "id": "3350d635-5bf3-4494-84c3-a14b82727ff9",
   "metadata": {},
   "outputs": [
    {
     "data": {
      "text/plain": [
       "((1460, 25), (1460,))"
      ]
     },
     "execution_count": 45,
     "metadata": {},
     "output_type": "execute_result"
    }
   ],
   "source": [
    "X = train[main_features]\n",
    "y = train['SalePrice']\n",
    "\n",
    "X.shape, y.shape"
   ]
  },
  {
   "cell_type": "code",
   "execution_count": 46,
   "id": "56f1e077-d2e6-4981-9712-621c0c7f5d86",
   "metadata": {},
   "outputs": [
    {
     "data": {
      "text/plain": [
       "['SaleCondition',\n",
       " 'BsmtQual',\n",
       " 'KitchenQual',\n",
       " 'GarageType',\n",
       " 'ExterQual',\n",
       " 'Neighborhood']"
      ]
     },
     "execution_count": 46,
     "metadata": {},
     "output_type": "execute_result"
    }
   ],
   "source": [
    "numeric_feats = X.select_dtypes(include=['int64', 'float64']).columns.tolist()\n",
    "categorical_feats = X.select_dtypes(include=['object']).columns.tolist()\n",
    "categorical_feats"
   ]
  },
  {
   "cell_type": "markdown",
   "id": "0ee93812-9020-4d2b-b50b-d54dc3399140",
   "metadata": {},
   "source": [
    "# Pipeline 모델 만들기 1차\n",
    "- 교차 검증 없이 모델 만들기"
   ]
  },
  {
   "cell_type": "code",
   "execution_count": 47,
   "id": "3b756ea2-68d2-48da-87b2-32ff345f2768",
   "metadata": {},
   "outputs": [],
   "source": [
    "# 필요한 라이브러리 임포트\n",
    "import pandas as pd  # 데이터 처리를 위한 pandas\n",
    "import numpy as np  # 수치 계산을 위한 numpy\n",
    "from sklearn.model_selection import train_test_split, cross_val_score  # 데이터 분할 및 교차 검증\n",
    "from sklearn.impute import SimpleImputer  # 결측치 처리\n",
    "from sklearn.preprocessing import OneHotEncoder, StandardScaler  # 범주형 변수 인코딩 및 수치형 변수 스케일링\n",
    "from sklearn.compose import ColumnTransformer  # 컬럼별 전처리 파이프라인 구성\n",
    "from sklearn.pipeline import Pipeline  # 전체 전처리 및 모델링 파이프라인 구성\n",
    "from sklearn.linear_model import Ridge, Lasso, ElasticNet  # 선형 회귀 모델\n",
    "from sklearn.metrics import mean_squared_error, make_scorer  # 모델 평가 지표\n",
    "from sklearn.model_selection import RandomizedSearchCV  # 랜덤 서치를 통한 하이퍼파라미터 튜닝\n",
    "from skopt import BayesSearchCV  # 베이지안 최적화를 통한 하이퍼파라미터 튜닝\n",
    "import xgboost as xgb  # XGBoost 모델\n",
    "import lightgbm as lgb  # LightGBM 모델\n",
    "import warnings  # 경고 메시지 처리\n",
    "import joblib  # 모델 저장 및 로드\n",
    "import os  # 파일 시스템 작업\n",
    "import json  # JSON 파일 처리\n",
    "\n",
    "# LightGBM의 불필요한 경고 메시지 무시 설정\n",
    "warnings.filterwarnings('ignore', category=UserWarning, module='lightgbm')"
   ]
  },
  {
   "cell_type": "markdown",
   "id": "45b79c21-0999-4d94-adfa-6b41483b8253",
   "metadata": {},
   "source": [
    "## 데이터 전처리 파이프라인 구축\n",
    "- 수치형 변수 전처리 파이프라인 구성\n",
    "- 범주형 변수 전처리 파이프라인 구성\n",
    "- 전체 전처리 파이프라인 통합\n",
    "- 모델 파이프라인 만들기\n",
    "- 반복문 수행 작업"
   ]
  },
  {
   "cell_type": "code",
   "execution_count": 48,
   "id": "9c3e8ac6-a667-436b-8e56-a2d6b3d117aa",
   "metadata": {},
   "outputs": [
    {
     "name": "stdout",
     "output_type": "stream",
     "text": [
      "\n",
      "==== Ridge ====\n",
      "RMSE: 139.0428\n",
      "\n",
      "==== Lasso ====\n",
      "RMSE: 70.1688\n",
      "\n",
      "==== ElasticNet ====\n",
      "RMSE: 23374.0500\n",
      "\n",
      "==== XGBoost ====\n",
      "RMSE: 117.4284\n",
      "\n",
      "==== LightGBM ====\n",
      "RMSE: 7452.0031\n",
      "\n",
      "==== Final Results ====\n",
      "        Model          RMSE\n",
      "1       Lasso     70.168785\n",
      "3     XGBoost    117.428398\n",
      "0       Ridge    139.042762\n",
      "4    LightGBM   7452.003087\n",
      "2  ElasticNet  23374.050004\n"
     ]
    },
    {
     "name": "stderr",
     "output_type": "stream",
     "text": [
      "C:\\Users\\Admin\\Desktop\\lgu6P_ml_dl\\.venv\\Lib\\site-packages\\sklearn\\utils\\validation.py:2739: UserWarning: X does not have valid feature names, but LGBMRegressor was fitted with feature names\n",
      "  warnings.warn(\n"
     ]
    }
   ],
   "source": [
    "# numeric_feats / categorical_feats\n",
    "# 수치형 변수 전처리 파이프라인 구성\n",
    "numeric_transformer = Pipeline([\n",
    "    ('imputer', SimpleImputer(strategy='mean')),           # 결측치 평균값으로 대체\n",
    "    ('scaler', StandardScaler())                           # 표준화 스케일링 적용\n",
    "])\n",
    "\n",
    "# 범주형 변수 전처리 파이프라인 구성\n",
    "categorical_transformer = Pipeline([\n",
    "    ('imputer', SimpleImputer(strategy='most_frequent')),           # 결측치 최빈값으로 대체\n",
    "    ('encoder', OneHotEncoder(handle_unknown='ignore'))             # 원-핫 인코딩 적용\n",
    "])\n",
    "\n",
    "# 전처리 파이프라인 통합\n",
    "preprocessor = ColumnTransformer([\n",
    "    ('num', numeric_transformer, numeric_feats),                    # 수치형 데이터 처리\n",
    "    ('cat', categorical_transformer, categorical_feats),            # 범주형 데이터 처리\n",
    "])\n",
    "\n",
    "# 2. 모델 후보군 정의\n",
    "models = {\n",
    "    'Ridge': Ridge(),  # 릿지 회귀\n",
    "    'Lasso': Lasso(),  # 라쏘 회귀\n",
    "    'ElasticNet': ElasticNet(),  # 엘라스틱넷 회귀\n",
    "    'XGBoost': xgb.XGBRegressor(tree_method='hist', random_state=42),  # XGBoost\n",
    "    'LightGBM': lgb.LGBMRegressor(random_state=42, verbose=-1)  # LightGBM\n",
    "}\n",
    "\n",
    "# 3. 모델 학습 및 평가 수행\n",
    "X = train[main_features]  # 특성 데이터\n",
    "y = train['SalePrice']  # 타겟 변수\n",
    "\n",
    "results = {}  # 결과 저장 딕셔너리\n",
    "for name, model in models.items():\n",
    "    print(f'\\n==== {name} ====')\n",
    "    try:\n",
    "        # 3.1 전체 파이프라인 구성 (전처리 + 모델)\n",
    "        pipe = Pipeline([\n",
    "            ('preprocessor', preprocessor),  # 전처리 단계\n",
    "            ('reg', model)  # 모델 단계\n",
    "        ])\n",
    "        \n",
    "        # 3.2 모델 학습\n",
    "        pipe.fit(X, y)\n",
    "        \n",
    "        # 3.3 예측 및 성능 평가\n",
    "        y_pred = pipe.predict(X)  # 예측값 생성\n",
    "        rmse = np.sqrt(mean_squared_error(y, y_pred))  # RMSE 계산\n",
    "        print(f'RMSE: {rmse:.4f}')\n",
    "        \n",
    "        results[name] = rmse  # 결과 저장\n",
    "        \n",
    "    except Exception as e:\n",
    "        print(f\"Error: {str(e)}\")\n",
    "\n",
    "# 4. 최종 결과 비교 및 정렬\n",
    "print(\"\\n==== Final Results ====\")\n",
    "results_df = pd.DataFrame(results.items(), columns=['Model', 'RMSE'])  # 결과 데이터프레임 생성\n",
    "results_df = results_df.sort_values('RMSE')  # RMSE 기준 오름차순 정렬\n",
    "print(results_df)"
   ]
  },
  {
   "cell_type": "code",
   "execution_count": 49,
   "id": "fc2da608-19f3-4700-ba99-085b79ffd36d",
   "metadata": {},
   "outputs": [
    {
     "name": "stdout",
     "output_type": "stream",
     "text": [
      "---\n"
     ]
    },
    {
     "data": {
      "text/plain": [
       "\"\\n# numeric_feats / categorical_feats\\n# 수치형 변수 전처리 파이프라인 구성\\nnumeric_transformer = Pipeline([\\n    ('imputer', SimpleImputer(strategy='mean')),           # 결측치 평균값으로 대체\\n    ('scaler', StandardScaler())                           # 표준화 스케일링 적용\\n])\\n\\n# 범주형 변수 전처리 파이프라인 구성\\ncategorical_transformer = Pipeline([\\n    ('imputer', SimpleImputer(strategy='most_frequent')),           # 결측치 최빈값으로 대체\\n    ('encoder', OneHotEncoder(handle_unknown='ignore'))             # 원-핫 인코딩 적용\\n])\\n\\n# 전처리 파이프라인 통합\\npreprocessor = ColumnTransformer([\\n    ('num', numeric_transformer, numeric_feats),                    # 수치형 데이터 처리\\n    ('cat', categorical_transformer, categorical_feats),            # 범주형 데이터 처리\\n])\\n\\n# 2. 모델 후보군 정의\\nmodels = {\\n    'Ridge': Ridge(),  # 릿지 회귀\\n    'Lasso': Lasso(),  # 라쏘 회귀\\n    'ElasticNet': ElasticNet(),  # 엘라스틱넷 회귀\\n    'XGBoost': xgb.XGBRegressor(tree_method='hist', random_state=42),  # XGBoost\\n    'LightGBM': lgb.LGBMRegressor(random_state=42, verbose=-1)  # LightGBM\\n}\\n\\n# 3. 모델 학습 및 평가 수행\\nX = train[main_features]  # 특성 데이터\\ny = train['SalePrice']  # 타겟 변수\\n\\n# 3.1 전체 파이프라인 구성 (전처리 + 모델)\\npipe = Pipeline([\\n    ('preprocessor', preprocessor),  # 전처리 단계\\n    ('reg', xgb.XGBRegressor(tree_method='hist', random_state=42))  # 모델 단계\\n])\\n\\n# 3.2 모델 학습\\npipe.fit(X, y)\\n\""
      ]
     },
     "execution_count": 49,
     "metadata": {},
     "output_type": "execute_result"
    }
   ],
   "source": [
    "print(\"---\")\n",
    "\n",
    "\"\"\"\n",
    "# numeric_feats / categorical_feats\n",
    "# 수치형 변수 전처리 파이프라인 구성\n",
    "numeric_transformer = Pipeline([\n",
    "    ('imputer', SimpleImputer(strategy='mean')),           # 결측치 평균값으로 대체\n",
    "    ('scaler', StandardScaler())                           # 표준화 스케일링 적용\n",
    "])\n",
    "\n",
    "# 범주형 변수 전처리 파이프라인 구성\n",
    "categorical_transformer = Pipeline([\n",
    "    ('imputer', SimpleImputer(strategy='most_frequent')),           # 결측치 최빈값으로 대체\n",
    "    ('encoder', OneHotEncoder(handle_unknown='ignore'))             # 원-핫 인코딩 적용\n",
    "])\n",
    "\n",
    "# 전처리 파이프라인 통합\n",
    "preprocessor = ColumnTransformer([\n",
    "    ('num', numeric_transformer, numeric_feats),                    # 수치형 데이터 처리\n",
    "    ('cat', categorical_transformer, categorical_feats),            # 범주형 데이터 처리\n",
    "])\n",
    "\n",
    "# 2. 모델 후보군 정의\n",
    "models = {\n",
    "    'Ridge': Ridge(),  # 릿지 회귀\n",
    "    'Lasso': Lasso(),  # 라쏘 회귀\n",
    "    'ElasticNet': ElasticNet(),  # 엘라스틱넷 회귀\n",
    "    'XGBoost': xgb.XGBRegressor(tree_method='hist', random_state=42),  # XGBoost\n",
    "    'LightGBM': lgb.LGBMRegressor(random_state=42, verbose=-1)  # LightGBM\n",
    "}\n",
    "\n",
    "# 3. 모델 학습 및 평가 수행\n",
    "X = train[main_features]  # 특성 데이터\n",
    "y = train['SalePrice']  # 타겟 변수\n",
    "\n",
    "# 3.1 전체 파이프라인 구성 (전처리 + 모델)\n",
    "pipe = Pipeline([\n",
    "    ('preprocessor', preprocessor),  # 전처리 단계\n",
    "    ('reg', xgb.XGBRegressor(tree_method='hist', random_state=42))  # 모델 단계\n",
    "])\n",
    "\n",
    "# 3.2 모델 학습\n",
    "pipe.fit(X, y)\n",
    "\"\"\""
   ]
  },
  {
   "cell_type": "markdown",
   "id": "9d50d903-6f69-4de9-9067-6ed5a71838c3",
   "metadata": {},
   "source": [
    "# Pipeline 모델 만들기 2차\n",
    "- 교차 검증 포함\n",
    "- 좀 더 정교한 모델을 만들기 위해서 교차검증 + 하이퍼파라미터 튜닝\n",
    "- 랜덤서치 적용"
   ]
  },
  {
   "cell_type": "code",
   "execution_count": 51,
   "id": "34ba63e2-0680-4e7a-8560-799e6db7c954",
   "metadata": {},
   "outputs": [
    {
     "name": "stdout",
     "output_type": "stream",
     "text": [
      "\n",
      "==== Ridge ====\n"
     ]
    },
    {
     "name": "stderr",
     "output_type": "stream",
     "text": [
      "C:\\Users\\Admin\\Desktop\\lgu6P_ml_dl\\.venv\\Lib\\site-packages\\sklearn\\model_selection\\_search.py:317: UserWarning: The total space of parameters 3 is smaller than n_iter=10. Running 3 iterations. For exhaustive searches, use GridSearchCV.\n",
      "  warnings.warn(\n"
     ]
    },
    {
     "name": "stdout",
     "output_type": "stream",
     "text": [
      "Best RMSE: 664.1694 (+/- 787.0538)\n",
      "Best parameters: {'reg__alpha': 0.1}\n",
      "\n",
      "==== Lasso ====\n"
     ]
    },
    {
     "name": "stderr",
     "output_type": "stream",
     "text": [
      "C:\\Users\\Admin\\Desktop\\lgu6P_ml_dl\\.venv\\Lib\\site-packages\\sklearn\\model_selection\\_search.py:317: UserWarning: The total space of parameters 3 is smaller than n_iter=10. Running 3 iterations. For exhaustive searches, use GridSearchCV.\n",
      "  warnings.warn(\n"
     ]
    },
    {
     "name": "stdout",
     "output_type": "stream",
     "text": [
      "Best RMSE: 70.3404 (+/- 45.5164)\n",
      "Best parameters: {'reg__alpha': 10.0}\n",
      "\n",
      "==== ElasticNet ====\n",
      "Best RMSE: 23935.5195 (+/- 14943.4027)\n",
      "Best parameters: {'reg__l1_ratio': 0.8, 'reg__alpha': 0.1}\n",
      "\n",
      "==== XGBoost ====\n"
     ]
    },
    {
     "name": "stderr",
     "output_type": "stream",
     "text": [
      "C:\\Users\\Admin\\Desktop\\lgu6P_ml_dl\\.venv\\Lib\\site-packages\\sklearn\\model_selection\\_search.py:317: UserWarning: The total space of parameters 9 is smaller than n_iter=10. Running 9 iterations. For exhaustive searches, use GridSearchCV.\n",
      "  warnings.warn(\n"
     ]
    },
    {
     "name": "stdout",
     "output_type": "stream",
     "text": [
      "Best RMSE: 8993.6992 (+/- 9569.7629)\n",
      "Best parameters: {'reg__subsample': 1.0, 'reg__n_estimators': 500, 'reg__max_depth': 3, 'reg__learning_rate': 0.1, 'reg__colsample_bytree': 0.8}\n",
      "\n",
      "==== LightGBM ====\n",
      "Best RMSE: 15906.9487 (+/- 6233.8556)\n",
      "Best parameters: {'reg__subsample': 0.8, 'reg__n_estimators': 500, 'reg__max_depth': 5, 'reg__learning_rate': 0.01, 'reg__colsample_bytree': 1.0}\n",
      "\n",
      "==== Final Results ====\n",
      "        Model          RMSE\n",
      "1       Lasso     70.340388\n",
      "0       Ridge    664.169352\n",
      "3     XGBoost   8993.699185\n",
      "4    LightGBM  15906.948719\n",
      "2  ElasticNet  23935.519451\n"
     ]
    }
   ],
   "source": [
    "# numeric_feats / categorical_feats\n",
    "# 수치형 변수 전처리 파이프라인 구성\n",
    "numeric_transformer = Pipeline([\n",
    "    ('imputer', SimpleImputer(strategy='mean')),           # 결측치 평균값으로 대체\n",
    "    ('scaler', StandardScaler())                           # 표준화 스케일링 적용\n",
    "])\n",
    "\n",
    "# 범주형 변수 전처리 파이프라인 구성\n",
    "categorical_transformer = Pipeline([\n",
    "    ('imputer', SimpleImputer(strategy='most_frequent')),           # 결측치 최빈값으로 대체\n",
    "    ('encoder', OneHotEncoder(handle_unknown='ignore'))             # 원-핫 인코딩 적용\n",
    "])\n",
    "\n",
    "# 전처리 파이프라인 통합\n",
    "preprocessor = ColumnTransformer([\n",
    "    ('num', numeric_transformer, numeric_feats),                    # 수치형 데이터 처리\n",
    "    ('cat', categorical_transformer, categorical_feats),            # 범주형 데이터 처리\n",
    "])\n",
    "\n",
    "# 2. 모델 후보군 정의\n",
    "models = {\n",
    "    'Ridge': Ridge(),  # 릿지 회귀\n",
    "    'Lasso': Lasso(),  # 라쏘 회귀\n",
    "    'ElasticNet': ElasticNet(),  # 엘라스틱넷 회귀\n",
    "    'XGBoost': xgb.XGBRegressor(tree_method='hist', random_state=42),  # XGBoost\n",
    "    'LightGBM': lgb.LGBMRegressor(random_state=42, verbose=-1)  # LightGBM\n",
    "}\n",
    "\n",
    "# 2.2 하이퍼파라미터 탐색 공간 정의\n",
    "# 각 모델에 대한 이해도가 높아야 함\n",
    "# 그냥 기본값으로 활용\n",
    "# 이유 : 가성비가 매우 떨어짐\n",
    "# 하이퍼파라미터 매우 잘 사용해도 성능 효과가 그렇게 크지 않음\n",
    "# 정확도 기준 : 성능 90% 나옴, 가급적이 하이퍼파라미터 최소한 사용\n",
    "# ChatGPT 핵심 키워드 : 과대적합(Over-fitting)이 발생하지 않도록 튜닝 요청\n",
    "# 2.2 하이퍼파라미터 탐색 공간 정의\n",
    "param_spaces = {\n",
    "    'Ridge': {'reg__alpha': [0.1, 1.0, 10.0]},  # 정규화 강도 - 값이 클수록 더 강한 정규화 적용\n",
    "    'Lasso': {'reg__alpha': [0.1, 1.0, 10.0]},  # 정규화 강도 - 값이 클수록 더 많은 특성이 0이 됨\n",
    "    'ElasticNet': {\n",
    "        'reg__alpha': [0.1, 1.0, 10.0],  # 정규화 강도 - 전체 정규화의 강도 조절\n",
    "        'reg__l1_ratio': [0.2, 0.5, 0.8]  # L1/L2 비율 - 1에 가까울수록 Lasso, 0에 가까울수록 Ridge와 유사\n",
    "    },\n",
    "    'XGBoost': {\n",
    "        'reg__n_estimators': [100, 500, 1000],  # 트리 개수 - 앙상블에 사용될 트리의 수\n",
    "        'reg__max_depth': [3, 5, 7],  # 트리 최대 깊이 - 깊을수록 복잡한 패턴 학습 가능\n",
    "        'reg__learning_rate': [0.01, 0.1, 0.3],  # 학습률 - 각 트리의 기여도를 조절\n",
    "        'reg__subsample': [0.6, 0.8, 1.0],  # 데이터 샘플링 비율 - 과적합 방지를 위한 데이터 샘플링\n",
    "        'reg__colsample_bytree': [0.6, 0.8, 1.0]  # 특성 샘플링 비율 - 각 트리마다 사용할 특성의 비율\n",
    "    },\n",
    "    'LightGBM': {\n",
    "        'reg__n_estimators': [100, 500, 1000],  # 트리 개수 - 앙상블에 사용될 트리의 수\n",
    "        'reg__max_depth': [3, 5, 7],  # 트리 최대 깊이 - 깊을수록 복잡한 패턴 학습 가능\n",
    "        'reg__learning_rate': [0.01, 0.1, 0.3],  # 학습률 - 각 트리의 기여도를 조절\n",
    "        'reg__subsample': [0.6, 0.8, 1.0],  # 데이터 샘플링 비율 - 과적합 방지를 위한 데이터 샘플링\n",
    "        'reg__colsample_bytree': [0.6, 0.8, 1.0]  # 특성 샘플링 비율 - 각 트리마다 사용할 특성의 비율\n",
    "    }\n",
    "}\n",
    "\n",
    "# 3. 모델 학습 및 평가\n",
    "X = train[main_features]  # 특성 데이터\n",
    "y = train['SalePrice']  # 타겟 변수\n",
    "\n",
    "results = {}  # 모델별 RMSE 결과 저장\n",
    "best_models = {}  # 최적의 모델 저장\n",
    "\n",
    "for name, model in models.items():\n",
    "    print(f'\\n==== {name} ====')\n",
    "    try:\n",
    "        # 3.1 전체 파이프라인 구성 (전처리 + 모델)\n",
    "        pipe = Pipeline([\n",
    "            ('preprocessor', preprocessor),  # 전처리 단계\n",
    "            ('reg', model)  # 모델 단계\n",
    "        ])\n",
    "        \n",
    "        # 3.2 랜덤 서치를 통한 하이퍼파라미터 최적화\n",
    "        search = RandomizedSearchCV(\n",
    "            pipe,\n",
    "            param_spaces[name],\n",
    "            n_iter=10,  # 탐색 횟수\n",
    "            cv=5,  # 5-fold 교차 검증\n",
    "            scoring='neg_root_mean_squared_error',  # 평가 지표 (RMSE)\n",
    "            random_state=42,  # 재현성을 위한 시드\n",
    "            n_jobs=-1  # 모든 CPU 코어 사용\n",
    "        )\n",
    "        \n",
    "        # 3.3 모델 학습\n",
    "        search.fit(X, y)\n",
    "        \n",
    "        # 3.4 최적의 모델 저장\n",
    "        best_models[name] = search.best_estimator_\n",
    "        \n",
    "        # 3.5 교차 검증 결과 계산\n",
    "        cv_scores = -search.cv_results_['mean_test_score']  # RMSE 값 (음수로 저장되어 있어 부호 변환)\n",
    "        rmse = np.mean(cv_scores)  # 평균 RMSE\n",
    "        rmse_std = np.std(cv_scores)  # RMSE 표준편차\n",
    "        \n",
    "        print(f'Best RMSE: {rmse:.4f} (+/- {rmse_std:.4f})')\n",
    "        print(f'Best parameters: {search.best_params_}')\n",
    "        \n",
    "        results[name] = rmse\n",
    "        \n",
    "    except Exception as e:\n",
    "        print(f\"Error: {str(e)}\")\n",
    "\n",
    "# 4. 최종 결과 분석\n",
    "print(\"\\n==== Final Results ====\")\n",
    "results_df = pd.DataFrame(results.items(), columns=['Model', 'RMSE'])\n",
    "results_df = results_df.sort_values('RMSE')  # RMSE 기준 오름차순 정렬\n",
    "print(results_df)"
   ]
  },
  {
   "cell_type": "markdown",
   "id": "05f79296-a986-4733-97e3-a062e3900516",
   "metadata": {},
   "source": [
    "# Pipeline 모델 만들기 3차\n",
    "- 베이지안 기법 활용"
   ]
  },
  {
   "cell_type": "code",
   "execution_count": 52,
   "id": "295dd6f5-7ad2-4ad2-9de0-d0f3ab814a92",
   "metadata": {},
   "outputs": [
    {
     "name": "stdout",
     "output_type": "stream",
     "text": [
      "\n",
      "==== Ridge ====\n",
      "Best RMSE: 1131.4352 (+/- 464.6857)\n",
      "Best parameters: OrderedDict([('reg__alpha', 0.13594004182195796)])\n",
      "\n",
      "==== Lasso ====\n",
      "Best RMSE: 17.9953 (+/- 33.4148)\n",
      "Best parameters: OrderedDict([('reg__alpha', 4.160029192647807)])\n",
      "\n",
      "==== ElasticNet ====\n",
      "Best RMSE: 32507.8081 (+/- 9757.2498)\n",
      "Best parameters: OrderedDict([('reg__alpha', 0.13594004182195796), ('reg__l1_ratio', 0.6906980117982511)])\n",
      "\n",
      "==== XGBoost ====\n",
      "Best RMSE: 5485.7846 (+/- 1980.7229)\n",
      "Best parameters: OrderedDict([('reg__colsample_bytree', 0.9198213766428692), ('reg__learning_rate', 0.13702846406786778), ('reg__max_depth', 5), ('reg__n_estimators', 744), ('reg__subsample', 0.9615408290026747)])\n",
      "\n",
      "==== LightGBM ====\n",
      "Best RMSE: 13906.2777 (+/- 536.7515)\n",
      "Best parameters: OrderedDict([('reg__colsample_bytree', 0.7779330049204607), ('reg__learning_rate', 0.27642953128411935), ('reg__max_depth', 3), ('reg__n_estimators', 490), ('reg__subsample', 0.6751820745469395)])\n",
      "\n",
      "==== Final Results ====\n",
      "        Model          RMSE\n",
      "1       Lasso     17.995275\n",
      "0       Ridge   1131.435158\n",
      "3     XGBoost   5485.784595\n",
      "4    LightGBM  13906.277739\n",
      "2  ElasticNet  32507.808075\n"
     ]
    }
   ],
   "source": [
    "# 1. 데이터 전처리 파이프라인 구성\n",
    "# 1.1 수치형/범주형 변수 분리\n",
    "numeric_feats = train[main_features].select_dtypes(include=['int64', 'float64']).columns.tolist()  # 수치형 변수 선택\n",
    "categorical_feats = train[main_features].select_dtypes(include=['object']).columns.tolist()  # 범주형 변수 선택\n",
    "\n",
    "# 1.2 전처리 파이프라인 구성\n",
    "# 수치형 변수 전처리: 결측치 평균값 대체 후 스케일링\n",
    "numeric_transformer = Pipeline([\n",
    "    ('imputer', SimpleImputer(strategy='mean')),  # 결측치를 평균값으로 대체\n",
    "    ('scaler', StandardScaler())  # 표준화 (평균 0, 표준편차 1)\n",
    "])\n",
    "\n",
    "# 범주형 변수 전처리: 결측치 최빈값 대체 후 원-핫 인코딩\n",
    "categorical_transformer = Pipeline([\n",
    "    ('imputer', SimpleImputer(strategy='most_frequent')),  # 결측치를 최빈값으로 대체\n",
    "    ('encoder', OneHotEncoder(handle_unknown='ignore'))  # 범주형 변수를 원-핫 벡터로 변환\n",
    "])\n",
    "\n",
    "# 전체 전처리 파이프라인 구성\n",
    "preprocessor = ColumnTransformer([\n",
    "    ('num', numeric_transformer, numeric_feats),  # 수치형 변수 처리\n",
    "    ('cat', categorical_transformer, categorical_feats)  # 범주형 변수 처리\n",
    "])\n",
    "\n",
    "# 2. 모델 및 하이퍼파라미터 정의\n",
    "# 2.1 모델 정의\n",
    "models = {\n",
    "    'Ridge': Ridge(),  # L2 정규화 선형회귀\n",
    "    'Lasso': Lasso(),  # L1 정규화 선형회귀\n",
    "    'ElasticNet': ElasticNet(),  # L1 + L2 정규화 선형회귀\n",
    "    'XGBoost': xgb.XGBRegressor(tree_method='hist', random_state=42),  # XGBoost (히스토그램 기반)\n",
    "    'LightGBM': lgb.LGBMRegressor(random_state=42, verbose=-1)  # LightGBM (경고 메시지 숨김)\n",
    "}\n",
    "\n",
    "# 2.2 하이퍼파라미터 탐색 공간 정의\n",
    "param_spaces = {\n",
    "    'Ridge': {'reg__alpha': (0.1, 10.0)},  # L2 정규화 강도\n",
    "    'Lasso': {'reg__alpha': (0.1, 10.0)},  # L1 정규화 강도\n",
    "    'ElasticNet': {\n",
    "        'reg__alpha': (0.1, 10.0),  # 정규화 강도\n",
    "        'reg__l1_ratio': (0.2, 0.8)  # L1/L2 비율\n",
    "    },\n",
    "    'XGBoost': {\n",
    "        'reg__n_estimators': (100, 1000),  # 트리 개수\n",
    "        'reg__max_depth': (3, 7),  # 트리 최대 깊이\n",
    "        'reg__learning_rate': (0.01, 0.3),  # 학습률\n",
    "        'reg__subsample': (0.6, 1.0),  # 데이터 샘플링 비율\n",
    "        'reg__colsample_bytree': (0.6, 1.0)  # 특성 샘플링 비율\n",
    "    },\n",
    "    'LightGBM': {\n",
    "        'reg__n_estimators': (100, 1000),  # 트리 개수\n",
    "        'reg__max_depth': (3, 7),  # 트리 최대 깊이\n",
    "        'reg__learning_rate': (0.01, 0.3),  # 학습률\n",
    "        'reg__subsample': (0.6, 1.0),  # 데이터 샘플링 비율\n",
    "        'reg__colsample_bytree': (0.6, 1.0)  # 특성 샘플링 비율\n",
    "    }\n",
    "}\n",
    "\n",
    "# 3. 모델 학습 및 평가\n",
    "X = train[main_features]  # 특성 데이터\n",
    "y = train['SalePrice']  # 타겟 변수\n",
    "\n",
    "results = {}  # 모델별 RMSE 저장\n",
    "best_models = {}  # 최적 모델 저장\n",
    "search_results = {}  # 검색 결과 저장\n",
    "\n",
    "# 3.1 각 모델별 학습 및 평가\n",
    "for name, model in models.items():\n",
    "    print(f'\\n==== {name} ====')\n",
    "    try:\n",
    "        # 3.1.1 파이프라인 구성\n",
    "        pipe = Pipeline([\n",
    "            ('preprocessor', preprocessor),  # 전처리\n",
    "            ('reg', model)  # 모델\n",
    "        ])\n",
    "        \n",
    "        # 3.1.2 베이지안 최적화 설정\n",
    "        search = BayesSearchCV(\n",
    "            pipe,\n",
    "            param_spaces[name],\n",
    "            n_iter=10,  # 최적화 반복 횟수\n",
    "            cv=5,  # 교차 검증 폴드 수\n",
    "            scoring='neg_root_mean_squared_error',  # 평가 지표 (RMSE)\n",
    "            random_state=42,  # 재현성을 위한 시드\n",
    "            n_jobs=-1  # 모든 CPU 코어 사용\n",
    "        )\n",
    "        \n",
    "        # 3.1.3 모델 학습\n",
    "        search.fit(X, y)\n",
    "        \n",
    "        # 3.1.4 결과 저장\n",
    "        best_models[name] = search.best_estimator_  # 최적 모델\n",
    "        search_results[name] = search  # 검색 결과\n",
    "        \n",
    "        # 3.1.5 성능 평가\n",
    "        cv_scores = -search.cv_results_['mean_test_score']  # RMSE 값 (음수로 저장되어 있어 부호 변환)\n",
    "        rmse = np.mean(cv_scores)  # 평균 RMSE\n",
    "        rmse_std = np.std(cv_scores)  # RMSE 표준편차\n",
    "        \n",
    "        print(f'Best RMSE: {rmse:.4f} (+/- {rmse_std:.4f})')\n",
    "        print(f'Best parameters: {search.best_params_}')\n",
    "        \n",
    "        results[name] = rmse\n",
    "        \n",
    "    except Exception as e:\n",
    "        print(f\"Error: {str(e)}\")\n",
    "\n",
    "# 4. 최종 결과 분석\n",
    "print(\"\\n==== Final Results ====\")\n",
    "results_df = pd.DataFrame(results.items(), columns=['Model', 'RMSE'])\n",
    "results_df = results_df.sort_values('RMSE')  # RMSE 기준 오름차순 정렬\n",
    "print(results_df)"
   ]
  }
 ],
 "metadata": {
  "kernelspec": {
   "display_name": "Python 3 (ipykernel)",
   "language": "python",
   "name": "python3"
  },
  "language_info": {
   "codemirror_mode": {
    "name": "ipython",
    "version": 3
   },
   "file_extension": ".py",
   "mimetype": "text/x-python",
   "name": "python",
   "nbconvert_exporter": "python",
   "pygments_lexer": "ipython3",
   "version": "3.13.3"
  }
 },
 "nbformat": 4,
 "nbformat_minor": 5
}
