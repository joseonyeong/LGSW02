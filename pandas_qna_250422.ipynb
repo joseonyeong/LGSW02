{
 "cells": [
  {
   "cell_type": "markdown",
   "metadata": {},
   "source": [
    ">**기출문제 제3회**\n",
    ">>**01 작업형 제1유형**"
   ]
  },
  {
   "cell_type": "markdown",
   "metadata": {},
   "source": [
    "## 옵션 설정"
   ]
  },
  {
   "cell_type": "code",
   "execution_count": 6,
   "metadata": {},
   "outputs": [],
   "source": [
    "import pandas as pd\n",
    "import numpy as np\n",
    "pd.set_option('display.max_columns', None) # 모든 칼럼이 출력되게 조절"
   ]
  },
  {
   "cell_type": "code",
   "execution_count": 7,
   "metadata": {},
   "outputs": [
    {
     "data": {
      "text/html": [
       "<div>\n",
       "<style scoped>\n",
       "    .dataframe tbody tr th:only-of-type {\n",
       "        vertical-align: middle;\n",
       "    }\n",
       "\n",
       "    .dataframe tbody tr th {\n",
       "        vertical-align: top;\n",
       "    }\n",
       "\n",
       "    .dataframe thead th {\n",
       "        text-align: right;\n",
       "    }\n",
       "</style>\n",
       "<table border=\"1\" class=\"dataframe\">\n",
       "  <thead>\n",
       "    <tr style=\"text-align: right;\">\n",
       "      <th></th>\n",
       "      <th>city</th>\n",
       "      <th>homeType</th>\n",
       "      <th>latitude</th>\n",
       "      <th>longitude</th>\n",
       "      <th>garageSpaces</th>\n",
       "      <th>hasSpa</th>\n",
       "      <th>yearBuilt</th>\n",
       "      <th>numOfPatioAndPorchFeatures</th>\n",
       "      <th>lotSizeSqFt</th>\n",
       "      <th>avgSchoolRating</th>\n",
       "      <th>MedianStudentsPerTeacher</th>\n",
       "      <th>numOfBathrooms</th>\n",
       "      <th>numOfBedrooms</th>\n",
       "      <th>priceRange</th>\n",
       "    </tr>\n",
       "  </thead>\n",
       "  <tbody>\n",
       "    <tr>\n",
       "      <th>0</th>\n",
       "      <td>austin</td>\n",
       "      <td>Single Family</td>\n",
       "      <td>30.197647</td>\n",
       "      <td>-97.816811</td>\n",
       "      <td>2</td>\n",
       "      <td>False</td>\n",
       "      <td>1981</td>\n",
       "      <td>0</td>\n",
       "      <td>9757.0</td>\n",
       "      <td>4.000000</td>\n",
       "      <td>13</td>\n",
       "      <td>NaN</td>\n",
       "      <td>3</td>\n",
       "      <td>350000-450000</td>\n",
       "    </tr>\n",
       "    <tr>\n",
       "      <th>1</th>\n",
       "      <td>austin</td>\n",
       "      <td>Single Family</td>\n",
       "      <td>30.329187</td>\n",
       "      <td>-97.752731</td>\n",
       "      <td>2</td>\n",
       "      <td>False</td>\n",
       "      <td>1951</td>\n",
       "      <td>0</td>\n",
       "      <td>10846.0</td>\n",
       "      <td>7.000000</td>\n",
       "      <td>16</td>\n",
       "      <td>NaN</td>\n",
       "      <td>4</td>\n",
       "      <td>650000+</td>\n",
       "    </tr>\n",
       "    <tr>\n",
       "      <th>2</th>\n",
       "      <td>austin</td>\n",
       "      <td>Single Family</td>\n",
       "      <td>30.313305</td>\n",
       "      <td>-97.699669</td>\n",
       "      <td>0</td>\n",
       "      <td>False</td>\n",
       "      <td>1954</td>\n",
       "      <td>0</td>\n",
       "      <td>9016.0</td>\n",
       "      <td>5.000000</td>\n",
       "      <td>15</td>\n",
       "      <td>NaN</td>\n",
       "      <td>3</td>\n",
       "      <td>350000-450000</td>\n",
       "    </tr>\n",
       "    <tr>\n",
       "      <th>3</th>\n",
       "      <td>austin</td>\n",
       "      <td>Single Family</td>\n",
       "      <td>30.156321</td>\n",
       "      <td>-97.748291</td>\n",
       "      <td>2</td>\n",
       "      <td>False</td>\n",
       "      <td>2008</td>\n",
       "      <td>0</td>\n",
       "      <td>5662.0</td>\n",
       "      <td>5.333333</td>\n",
       "      <td>15</td>\n",
       "      <td>NaN</td>\n",
       "      <td>3</td>\n",
       "      <td>0-250000</td>\n",
       "    </tr>\n",
       "    <tr>\n",
       "      <th>4</th>\n",
       "      <td>austin</td>\n",
       "      <td>Townhouse</td>\n",
       "      <td>30.366995</td>\n",
       "      <td>-97.753548</td>\n",
       "      <td>2</td>\n",
       "      <td>False</td>\n",
       "      <td>1984</td>\n",
       "      <td>0</td>\n",
       "      <td>3049.0</td>\n",
       "      <td>7.000000</td>\n",
       "      <td>16</td>\n",
       "      <td>NaN</td>\n",
       "      <td>2</td>\n",
       "      <td>350000-450000</td>\n",
       "    </tr>\n",
       "  </tbody>\n",
       "</table>\n",
       "</div>"
      ],
      "text/plain": [
       "     city       homeType   latitude  longitude  garageSpaces  hasSpa  \\\n",
       "0  austin  Single Family  30.197647 -97.816811             2   False   \n",
       "1  austin  Single Family  30.329187 -97.752731             2   False   \n",
       "2  austin  Single Family  30.313305 -97.699669             0   False   \n",
       "3  austin  Single Family  30.156321 -97.748291             2   False   \n",
       "4  austin      Townhouse  30.366995 -97.753548             2   False   \n",
       "\n",
       "   yearBuilt  numOfPatioAndPorchFeatures  lotSizeSqFt  avgSchoolRating  \\\n",
       "0       1981                           0       9757.0         4.000000   \n",
       "1       1951                           0      10846.0         7.000000   \n",
       "2       1954                           0       9016.0         5.000000   \n",
       "3       2008                           0       5662.0         5.333333   \n",
       "4       1984                           0       3049.0         7.000000   \n",
       "\n",
       "   MedianStudentsPerTeacher  numOfBathrooms  numOfBedrooms     priceRange  \n",
       "0                        13             NaN              3  350000-450000  \n",
       "1                        16             NaN              4        650000+  \n",
       "2                        15             NaN              3  350000-450000  \n",
       "3                        15             NaN              3       0-250000  \n",
       "4                        16             NaN              2  350000-450000  "
      ]
     },
     "execution_count": 7,
     "metadata": {},
     "output_type": "execute_result"
    }
   ],
   "source": [
    "import pandas as pd \n",
    "\n",
    "data = pd.read_csv('3_1.csv')\n",
    "data.head()"
   ]
  },
  {
   "cell_type": "markdown",
   "metadata": {},
   "source": [
    "## 문제 1. \n",
    "- 다음 데이터에서 lotSizeSqFt이 큰 top 10을 구하고, top 10 값 중 가장 작은 값으로 해당 값을 대치하시오. \n",
    "- 또한, 건축 연도(yearBuilt)가 2000년도 이상인 IoTSizeSqFt의 평균을 구하시오.\n",
    "- 소수점 첫째 자리에서 반올림, 대치된 IoTSizeSqFt 기준\n"
   ]
  },
  {
   "cell_type": "code",
   "execution_count": 11,
   "metadata": {},
   "outputs": [
    {
     "name": "stdout",
     "output_type": "stream",
     "text": [
      "0       9757.0\n",
      "1      10846.0\n",
      "2       9016.0\n",
      "3       5662.0\n",
      "4       3049.0\n",
      "        ...   \n",
      "495     7797.0\n",
      "496     6011.0\n",
      "497     8712.0\n",
      "498     6621.0\n",
      "499     8624.0\n",
      "Name: lotSizeSqFt, Length: 500, dtype: float64\n"
     ]
    }
   ],
   "source": [
    "print(data.lotSizeSqFt)"
   ]
  },
  {
   "cell_type": "code",
   "execution_count": 24,
   "metadata": {},
   "outputs": [
    {
     "name": "stdout",
     "output_type": "stream",
     "text": [
      "       city       homeType   latitude  longitude  garageSpaces  hasSpa  \\\n",
      "412  austin  Single Family  30.169123 -97.989502             0   False   \n",
      "6    austin  Single Family  30.143131 -97.963493             0   False   \n",
      "175  austin  Single Family  30.233570 -98.008072             7    True   \n",
      "97   austin  Single Family  30.308285 -97.886971             4   False   \n",
      "68   austin  Single Family  30.199959 -98.008118             0   False   \n",
      "440  austin  Single Family  30.277033 -97.825966             0   False   \n",
      "399  austin  Single Family  30.157799 -97.966972             2   False   \n",
      "480  austin  Single Family  30.179605 -97.954399             0   False   \n",
      "265  austin    Residential  30.271873 -97.864944             3    True   \n",
      "71   austin  Single Family  30.436773 -97.715294             2   False   \n",
      "\n",
      "     yearBuilt  numOfPatioAndPorchFeatures  lotSizeSqFt  avgSchoolRating  \\\n",
      "412       2010                           0     871200.0         8.000000   \n",
      "6         1985                           0     225205.2         7.000000   \n",
      "175       2017                           3     211701.6         6.666667   \n",
      "97        2001                           2     197326.8         9.333333   \n",
      "68        2007                           0     175982.4         6.666667   \n",
      "440       1993                           0      98445.6         9.500000   \n",
      "399       2001                           1      87120.0         8.000000   \n",
      "480       2000                           0      80150.4         8.000000   \n",
      "265       2008                           3      77972.4         5.666667   \n",
      "71        1992                           0      71438.4         5.333333   \n",
      "\n",
      "     MedianStudentsPerTeacher  numOfBathrooms  numOfBedrooms     priceRange  \n",
      "412                        15             3.0              4  350000-450000  \n",
      "6                          16             NaN              3       0-250000  \n",
      "175                        16             4.0              4        650000+  \n",
      "97                         14             7.0              6        650000+  \n",
      "68                         16             4.0              5        650000+  \n",
      "440                        14             6.0              4        650000+  \n",
      "399                        15             2.0              3  450000-650000  \n",
      "480                        15             4.0              4        650000+  \n",
      "265                        16             5.0              4        650000+  \n",
      "71                         14             3.0              3        650000+  \n"
     ]
    }
   ],
   "source": [
    "## 다음 데이터에서 lotSizeSqFt이 큰 top 10을 구하고\n",
    "lot_top = data.sort_values(by=\"lotSizeSqFt\", ascending=False).head(10)\n",
    "print(lot_top)"
   ]
  },
  {
   "cell_type": "code",
   "execution_count": 26,
   "metadata": {},
   "outputs": [
    {
     "name": "stdout",
     "output_type": "stream",
     "text": [
      "243065\n"
     ]
    }
   ],
   "source": [
    "## 건축 연도(yearBuilt)가 2000년도 이상인 IoTSizeSqFt의 평균을 구하시오.\n",
    "#import numpy as np\n",
    "\n",
    "filtered = lot_top[lot_top.yearBuilt > 1999]\n",
    "lot_sum = filtered.lotSizeSqFt.sum()\n",
    "i = len(filtered)\n",
    "\n",
    "lot_mean = round(lot_sum / i)\n",
    "print(lot_mean)"
   ]
  },
  {
   "cell_type": "markdown",
   "metadata": {},
   "source": [
    "## 문제 2. \n",
    "- 컬럼별 결측치 존재 여부를 확인하고, 결측치가 존재하는 경우 해당 컬럼의 중앙값으로 결측치를 대치하시오. \n",
    "- 결측치 대신 전과 후 표준편차 차이의 절댓값을 구하시오. \n",
    "- 소수점 둘째 자리까지 반올림\n"
   ]
  },
  {
   "cell_type": "code",
   "execution_count": 27,
   "metadata": {},
   "outputs": [],
   "source": [
    "data2 = data.copy()"
   ]
  },
  {
   "cell_type": "code",
   "execution_count": 37,
   "metadata": {},
   "outputs": [
    {
     "data": {
      "text/plain": [
       "city                           0\n",
       "homeType                       0\n",
       "latitude                       0\n",
       "longitude                      0\n",
       "garageSpaces                   0\n",
       "hasSpa                         0\n",
       "yearBuilt                      0\n",
       "numOfPatioAndPorchFeatures     0\n",
       "lotSizeSqFt                    0\n",
       "avgSchoolRating                0\n",
       "MedianStudentsPerTeacher       0\n",
       "numOfBathrooms                11\n",
       "numOfBedrooms                  0\n",
       "priceRange                     0\n",
       "dtype: int64"
      ]
     },
     "execution_count": 37,
     "metadata": {},
     "output_type": "execute_result"
    }
   ],
   "source": [
    "## 컬럼별 결측치 존재 여부를 확인하고\n",
    "data2.isnull().sum()"
   ]
  },
  {
   "cell_type": "code",
   "execution_count": 42,
   "metadata": {},
   "outputs": [
    {
     "name": "stdout",
     "output_type": "stream",
     "text": [
      "city                          0\n",
      "homeType                      0\n",
      "latitude                      0\n",
      "longitude                     0\n",
      "garageSpaces                  0\n",
      "hasSpa                        0\n",
      "yearBuilt                     0\n",
      "numOfPatioAndPorchFeatures    0\n",
      "lotSizeSqFt                   0\n",
      "avgSchoolRating               0\n",
      "MedianStudentsPerTeacher      0\n",
      "numOfBathrooms                0\n",
      "numOfBedrooms                 0\n",
      "priceRange                    0\n",
      "dtype: int64\n"
     ]
    },
    {
     "name": "stderr",
     "output_type": "stream",
     "text": [
      "C:\\Users\\Admin\\AppData\\Local\\Temp\\ipykernel_21228\\431477802.py:6: FutureWarning: A value is trying to be set on a copy of a DataFrame or Series through chained assignment using an inplace method.\n",
      "The behavior will change in pandas 3.0. This inplace method will never work because the intermediate object on which we are setting values always behaves as a copy.\n",
      "\n",
      "For example, when doing 'df[col].method(value, inplace=True)', try using 'df.method({col: value}, inplace=True)' or df[col] = df[col].method(value) instead, to perform the operation inplace on the original object.\n",
      "\n",
      "\n",
      "  data2[col].fillna(median_val, inplace=True)\n"
     ]
    }
   ],
   "source": [
    "## 결측치가 존재하는 경우 해당 컬럼의 중앙값으로 결측치를 대치하시오.\n",
    "import numpy as np\n",
    "for col in data2.columns:\n",
    "    if data2[col].isnull().sum() > 0:\n",
    "        median_val = np.median(data2[col].dropna())\n",
    "        data2[col].fillna(median_val, inplace=True)\n",
    "\n",
    "print(data2.isnull().sum())"
   ]
  },
  {
   "cell_type": "code",
   "execution_count": 44,
   "metadata": {},
   "outputs": [
    {
     "ename": "TypeError",
     "evalue": "could not convert string to float: 'austin'",
     "output_type": "error",
     "traceback": [
      "\u001b[31m---------------------------------------------------------------------------\u001b[39m",
      "\u001b[31mValueError\u001b[39m                                Traceback (most recent call last)",
      "\u001b[36mFile \u001b[39m\u001b[32m~\\AppData\\Local\\Programs\\Python\\Python313\\Lib\\site-packages\\pandas\\core\\nanops.py:85\u001b[39m, in \u001b[36mdisallow.__call__.<locals>._f\u001b[39m\u001b[34m(*args, **kwargs)\u001b[39m\n\u001b[32m     84\u001b[39m \u001b[38;5;28;01mtry\u001b[39;00m:\n\u001b[32m---> \u001b[39m\u001b[32m85\u001b[39m     \u001b[38;5;28;01mreturn\u001b[39;00m \u001b[43mf\u001b[49m\u001b[43m(\u001b[49m\u001b[43m*\u001b[49m\u001b[43margs\u001b[49m\u001b[43m,\u001b[49m\u001b[43m \u001b[49m\u001b[43m*\u001b[49m\u001b[43m*\u001b[49m\u001b[43mkwargs\u001b[49m\u001b[43m)\u001b[49m\n\u001b[32m     86\u001b[39m \u001b[38;5;28;01mexcept\u001b[39;00m \u001b[38;5;167;01mValueError\u001b[39;00m \u001b[38;5;28;01mas\u001b[39;00m e:\n\u001b[32m     87\u001b[39m     \u001b[38;5;66;03m# we want to transform an object array\u001b[39;00m\n\u001b[32m     88\u001b[39m     \u001b[38;5;66;03m# ValueError message to the more typical TypeError\u001b[39;00m\n\u001b[32m     89\u001b[39m     \u001b[38;5;66;03m# e.g. this is normally a disallowed function on\u001b[39;00m\n\u001b[32m     90\u001b[39m     \u001b[38;5;66;03m# object arrays that contain strings\u001b[39;00m\n",
      "\u001b[36mFile \u001b[39m\u001b[32m~\\AppData\\Local\\Programs\\Python\\Python313\\Lib\\site-packages\\pandas\\core\\nanops.py:147\u001b[39m, in \u001b[36mbottleneck_switch.__call__.<locals>.f\u001b[39m\u001b[34m(values, axis, skipna, **kwds)\u001b[39m\n\u001b[32m    146\u001b[39m \u001b[38;5;28;01melse\u001b[39;00m:\n\u001b[32m--> \u001b[39m\u001b[32m147\u001b[39m     result = \u001b[43malt\u001b[49m\u001b[43m(\u001b[49m\u001b[43mvalues\u001b[49m\u001b[43m,\u001b[49m\u001b[43m \u001b[49m\u001b[43maxis\u001b[49m\u001b[43m=\u001b[49m\u001b[43maxis\u001b[49m\u001b[43m,\u001b[49m\u001b[43m \u001b[49m\u001b[43mskipna\u001b[49m\u001b[43m=\u001b[49m\u001b[43mskipna\u001b[49m\u001b[43m,\u001b[49m\u001b[43m \u001b[49m\u001b[43m*\u001b[49m\u001b[43m*\u001b[49m\u001b[43mkwds\u001b[49m\u001b[43m)\u001b[49m\n\u001b[32m    149\u001b[39m \u001b[38;5;28;01mreturn\u001b[39;00m result\n",
      "\u001b[36mFile \u001b[39m\u001b[32m~\\AppData\\Local\\Programs\\Python\\Python313\\Lib\\site-packages\\pandas\\core\\nanops.py:1013\u001b[39m, in \u001b[36mnanvar\u001b[39m\u001b[34m(values, axis, skipna, ddof, mask)\u001b[39m\n\u001b[32m   1007\u001b[39m \u001b[38;5;66;03m# xref GH10242\u001b[39;00m\n\u001b[32m   1008\u001b[39m \u001b[38;5;66;03m# Compute variance via two-pass algorithm, which is stable against\u001b[39;00m\n\u001b[32m   1009\u001b[39m \u001b[38;5;66;03m# cancellation errors and relatively accurate for small numbers of\u001b[39;00m\n\u001b[32m   1010\u001b[39m \u001b[38;5;66;03m# observations.\u001b[39;00m\n\u001b[32m   1011\u001b[39m \u001b[38;5;66;03m#\u001b[39;00m\n\u001b[32m   1012\u001b[39m \u001b[38;5;66;03m# See https://en.wikipedia.org/wiki/Algorithms_for_calculating_variance\u001b[39;00m\n\u001b[32m-> \u001b[39m\u001b[32m1013\u001b[39m avg = _ensure_numeric(\u001b[43mvalues\u001b[49m\u001b[43m.\u001b[49m\u001b[43msum\u001b[49m\u001b[43m(\u001b[49m\u001b[43maxis\u001b[49m\u001b[43m=\u001b[49m\u001b[43maxis\u001b[49m\u001b[43m,\u001b[49m\u001b[43m \u001b[49m\u001b[43mdtype\u001b[49m\u001b[43m=\u001b[49m\u001b[43mnp\u001b[49m\u001b[43m.\u001b[49m\u001b[43mfloat64\u001b[49m\u001b[43m)\u001b[49m) / count\n\u001b[32m   1014\u001b[39m \u001b[38;5;28;01mif\u001b[39;00m axis \u001b[38;5;129;01mis\u001b[39;00m \u001b[38;5;129;01mnot\u001b[39;00m \u001b[38;5;28;01mNone\u001b[39;00m:\n",
      "\u001b[36mFile \u001b[39m\u001b[32m~\\AppData\\Local\\Programs\\Python\\Python313\\Lib\\site-packages\\numpy\\_core\\_methods.py:52\u001b[39m, in \u001b[36m_sum\u001b[39m\u001b[34m(a, axis, dtype, out, keepdims, initial, where)\u001b[39m\n\u001b[32m     50\u001b[39m \u001b[38;5;28;01mdef\u001b[39;00m\u001b[38;5;250m \u001b[39m\u001b[34m_sum\u001b[39m(a, axis=\u001b[38;5;28;01mNone\u001b[39;00m, dtype=\u001b[38;5;28;01mNone\u001b[39;00m, out=\u001b[38;5;28;01mNone\u001b[39;00m, keepdims=\u001b[38;5;28;01mFalse\u001b[39;00m,\n\u001b[32m     51\u001b[39m          initial=_NoValue, where=\u001b[38;5;28;01mTrue\u001b[39;00m):\n\u001b[32m---> \u001b[39m\u001b[32m52\u001b[39m     \u001b[38;5;28;01mreturn\u001b[39;00m \u001b[43mumr_sum\u001b[49m\u001b[43m(\u001b[49m\u001b[43ma\u001b[49m\u001b[43m,\u001b[49m\u001b[43m \u001b[49m\u001b[43maxis\u001b[49m\u001b[43m,\u001b[49m\u001b[43m \u001b[49m\u001b[43mdtype\u001b[49m\u001b[43m,\u001b[49m\u001b[43m \u001b[49m\u001b[43mout\u001b[49m\u001b[43m,\u001b[49m\u001b[43m \u001b[49m\u001b[43mkeepdims\u001b[49m\u001b[43m,\u001b[49m\u001b[43m \u001b[49m\u001b[43minitial\u001b[49m\u001b[43m,\u001b[49m\u001b[43m \u001b[49m\u001b[43mwhere\u001b[49m\u001b[43m)\u001b[49m\n",
      "\u001b[31mValueError\u001b[39m: could not convert string to float: 'austin'",
      "\nThe above exception was the direct cause of the following exception:\n",
      "\u001b[31mTypeError\u001b[39m                                 Traceback (most recent call last)",
      "\u001b[36mCell\u001b[39m\u001b[36m \u001b[39m\u001b[32mIn[44]\u001b[39m\u001b[32m, line 5\u001b[39m\n\u001b[32m      2\u001b[39m \u001b[38;5;28;01mimport\u001b[39;00m\u001b[38;5;250m \u001b[39m\u001b[34;01mnumpy\u001b[39;00m\u001b[38;5;250m \u001b[39m\u001b[38;5;28;01mas\u001b[39;00m\u001b[38;5;250m \u001b[39m\u001b[34;01mnp\u001b[39;00m\n\u001b[32m      4\u001b[39m \u001b[38;5;28;01mfor\u001b[39;00m col \u001b[38;5;129;01min\u001b[39;00m data2.columns:\n\u001b[32m----> \u001b[39m\u001b[32m5\u001b[39m     null_before = \u001b[43mnp\u001b[49m\u001b[43m.\u001b[49m\u001b[43mstd\u001b[49m\u001b[43m(\u001b[49m\u001b[43mdata2\u001b[49m\u001b[43m[\u001b[49m\u001b[43mcol\u001b[49m\u001b[43m]\u001b[49m\u001b[43m)\u001b[49m\n\u001b[32m      7\u001b[39m     \u001b[38;5;28;01mif\u001b[39;00m data2[col].isnull().sum() > \u001b[32m0\u001b[39m:\n\u001b[32m      8\u001b[39m         median_val = np.median(data2[col].dropna())\n",
      "\u001b[36mFile \u001b[39m\u001b[32m~\\AppData\\Local\\Programs\\Python\\Python313\\Lib\\site-packages\\numpy\\_core\\fromnumeric.py:4062\u001b[39m, in \u001b[36mstd\u001b[39m\u001b[34m(a, axis, dtype, out, ddof, keepdims, where, mean, correction)\u001b[39m\n\u001b[32m   4060\u001b[39m         \u001b[38;5;28;01mpass\u001b[39;00m\n\u001b[32m   4061\u001b[39m     \u001b[38;5;28;01melse\u001b[39;00m:\n\u001b[32m-> \u001b[39m\u001b[32m4062\u001b[39m         \u001b[38;5;28;01mreturn\u001b[39;00m \u001b[43mstd\u001b[49m\u001b[43m(\u001b[49m\u001b[43maxis\u001b[49m\u001b[43m=\u001b[49m\u001b[43maxis\u001b[49m\u001b[43m,\u001b[49m\u001b[43m \u001b[49m\u001b[43mdtype\u001b[49m\u001b[43m=\u001b[49m\u001b[43mdtype\u001b[49m\u001b[43m,\u001b[49m\u001b[43m \u001b[49m\u001b[43mout\u001b[49m\u001b[43m=\u001b[49m\u001b[43mout\u001b[49m\u001b[43m,\u001b[49m\u001b[43m \u001b[49m\u001b[43mddof\u001b[49m\u001b[43m=\u001b[49m\u001b[43mddof\u001b[49m\u001b[43m,\u001b[49m\u001b[43m \u001b[49m\u001b[43m*\u001b[49m\u001b[43m*\u001b[49m\u001b[43mkwargs\u001b[49m\u001b[43m)\u001b[49m\n\u001b[32m   4064\u001b[39m \u001b[38;5;28;01mreturn\u001b[39;00m _methods._std(a, axis=axis, dtype=dtype, out=out, ddof=ddof,\n\u001b[32m   4065\u001b[39m                      **kwargs)\n",
      "\u001b[36mFile \u001b[39m\u001b[32m~\\AppData\\Local\\Programs\\Python\\Python313\\Lib\\site-packages\\pandas\\core\\series.py:6592\u001b[39m, in \u001b[36mSeries.std\u001b[39m\u001b[34m(self, axis, skipna, ddof, numeric_only, **kwargs)\u001b[39m\n\u001b[32m   6583\u001b[39m \u001b[38;5;129m@doc\u001b[39m(make_doc(\u001b[33m\"\u001b[39m\u001b[33mstd\u001b[39m\u001b[33m\"\u001b[39m, ndim=\u001b[32m1\u001b[39m))\n\u001b[32m   6584\u001b[39m \u001b[38;5;28;01mdef\u001b[39;00m\u001b[38;5;250m \u001b[39m\u001b[34mstd\u001b[39m(\n\u001b[32m   6585\u001b[39m     \u001b[38;5;28mself\u001b[39m,\n\u001b[32m   (...)\u001b[39m\u001b[32m   6590\u001b[39m     **kwargs,\n\u001b[32m   6591\u001b[39m ):\n\u001b[32m-> \u001b[39m\u001b[32m6592\u001b[39m     \u001b[38;5;28;01mreturn\u001b[39;00m \u001b[43mNDFrame\u001b[49m\u001b[43m.\u001b[49m\u001b[43mstd\u001b[49m\u001b[43m(\u001b[49m\u001b[38;5;28;43mself\u001b[39;49m\u001b[43m,\u001b[49m\u001b[43m \u001b[49m\u001b[43maxis\u001b[49m\u001b[43m,\u001b[49m\u001b[43m \u001b[49m\u001b[43mskipna\u001b[49m\u001b[43m,\u001b[49m\u001b[43m \u001b[49m\u001b[43mddof\u001b[49m\u001b[43m,\u001b[49m\u001b[43m \u001b[49m\u001b[43mnumeric_only\u001b[49m\u001b[43m,\u001b[49m\u001b[43m \u001b[49m\u001b[43m*\u001b[49m\u001b[43m*\u001b[49m\u001b[43mkwargs\u001b[49m\u001b[43m)\u001b[49m\n",
      "\u001b[36mFile \u001b[39m\u001b[32m~\\AppData\\Local\\Programs\\Python\\Python313\\Lib\\site-packages\\pandas\\core\\generic.py:12358\u001b[39m, in \u001b[36mNDFrame.std\u001b[39m\u001b[34m(self, axis, skipna, ddof, numeric_only, **kwargs)\u001b[39m\n\u001b[32m  12350\u001b[39m \u001b[38;5;28;01mdef\u001b[39;00m\u001b[38;5;250m \u001b[39m\u001b[34mstd\u001b[39m(\n\u001b[32m  12351\u001b[39m     \u001b[38;5;28mself\u001b[39m,\n\u001b[32m  12352\u001b[39m     axis: Axis | \u001b[38;5;28;01mNone\u001b[39;00m = \u001b[32m0\u001b[39m,\n\u001b[32m   (...)\u001b[39m\u001b[32m  12356\u001b[39m     **kwargs,\n\u001b[32m  12357\u001b[39m ) -> Series | \u001b[38;5;28mfloat\u001b[39m:\n\u001b[32m> \u001b[39m\u001b[32m12358\u001b[39m     \u001b[38;5;28;01mreturn\u001b[39;00m \u001b[38;5;28;43mself\u001b[39;49m\u001b[43m.\u001b[49m\u001b[43m_stat_function_ddof\u001b[49m\u001b[43m(\u001b[49m\n\u001b[32m  12359\u001b[39m \u001b[43m        \u001b[49m\u001b[33;43m\"\u001b[39;49m\u001b[33;43mstd\u001b[39;49m\u001b[33;43m\"\u001b[39;49m\u001b[43m,\u001b[49m\u001b[43m \u001b[49m\u001b[43mnanops\u001b[49m\u001b[43m.\u001b[49m\u001b[43mnanstd\u001b[49m\u001b[43m,\u001b[49m\u001b[43m \u001b[49m\u001b[43maxis\u001b[49m\u001b[43m,\u001b[49m\u001b[43m \u001b[49m\u001b[43mskipna\u001b[49m\u001b[43m,\u001b[49m\u001b[43m \u001b[49m\u001b[43mddof\u001b[49m\u001b[43m,\u001b[49m\u001b[43m \u001b[49m\u001b[43mnumeric_only\u001b[49m\u001b[43m,\u001b[49m\u001b[43m \u001b[49m\u001b[43m*\u001b[49m\u001b[43m*\u001b[49m\u001b[43mkwargs\u001b[49m\n\u001b[32m  12360\u001b[39m \u001b[43m    \u001b[49m\u001b[43m)\u001b[49m\n",
      "\u001b[36mFile \u001b[39m\u001b[32m~\\AppData\\Local\\Programs\\Python\\Python313\\Lib\\site-packages\\pandas\\core\\generic.py:12322\u001b[39m, in \u001b[36mNDFrame._stat_function_ddof\u001b[39m\u001b[34m(self, name, func, axis, skipna, ddof, numeric_only, **kwargs)\u001b[39m\n\u001b[32m  12319\u001b[39m \u001b[38;5;28;01melif\u001b[39;00m axis \u001b[38;5;129;01mis\u001b[39;00m lib.no_default:\n\u001b[32m  12320\u001b[39m     axis = \u001b[32m0\u001b[39m\n\u001b[32m> \u001b[39m\u001b[32m12322\u001b[39m \u001b[38;5;28;01mreturn\u001b[39;00m \u001b[38;5;28;43mself\u001b[39;49m\u001b[43m.\u001b[49m\u001b[43m_reduce\u001b[49m\u001b[43m(\u001b[49m\n\u001b[32m  12323\u001b[39m \u001b[43m    \u001b[49m\u001b[43mfunc\u001b[49m\u001b[43m,\u001b[49m\u001b[43m \u001b[49m\u001b[43mname\u001b[49m\u001b[43m,\u001b[49m\u001b[43m \u001b[49m\u001b[43maxis\u001b[49m\u001b[43m=\u001b[49m\u001b[43maxis\u001b[49m\u001b[43m,\u001b[49m\u001b[43m \u001b[49m\u001b[43mnumeric_only\u001b[49m\u001b[43m=\u001b[49m\u001b[43mnumeric_only\u001b[49m\u001b[43m,\u001b[49m\u001b[43m \u001b[49m\u001b[43mskipna\u001b[49m\u001b[43m=\u001b[49m\u001b[43mskipna\u001b[49m\u001b[43m,\u001b[49m\u001b[43m \u001b[49m\u001b[43mddof\u001b[49m\u001b[43m=\u001b[49m\u001b[43mddof\u001b[49m\n\u001b[32m  12324\u001b[39m \u001b[43m\u001b[49m\u001b[43m)\u001b[49m\n",
      "\u001b[36mFile \u001b[39m\u001b[32m~\\AppData\\Local\\Programs\\Python\\Python313\\Lib\\site-packages\\pandas\\core\\series.py:6457\u001b[39m, in \u001b[36mSeries._reduce\u001b[39m\u001b[34m(self, op, name, axis, skipna, numeric_only, filter_type, **kwds)\u001b[39m\n\u001b[32m   6452\u001b[39m     \u001b[38;5;66;03m# GH#47500 - change to TypeError to match other methods\u001b[39;00m\n\u001b[32m   6453\u001b[39m     \u001b[38;5;28;01mraise\u001b[39;00m \u001b[38;5;167;01mTypeError\u001b[39;00m(\n\u001b[32m   6454\u001b[39m         \u001b[33mf\u001b[39m\u001b[33m\"\u001b[39m\u001b[33mSeries.\u001b[39m\u001b[38;5;132;01m{\u001b[39;00mname\u001b[38;5;132;01m}\u001b[39;00m\u001b[33m does not allow \u001b[39m\u001b[38;5;132;01m{\u001b[39;00mkwd_name\u001b[38;5;132;01m}\u001b[39;00m\u001b[33m=\u001b[39m\u001b[38;5;132;01m{\u001b[39;00mnumeric_only\u001b[38;5;132;01m}\u001b[39;00m\u001b[33m \u001b[39m\u001b[33m\"\u001b[39m\n\u001b[32m   6455\u001b[39m         \u001b[33m\"\u001b[39m\u001b[33mwith non-numeric dtypes.\u001b[39m\u001b[33m\"\u001b[39m\n\u001b[32m   6456\u001b[39m     )\n\u001b[32m-> \u001b[39m\u001b[32m6457\u001b[39m \u001b[38;5;28;01mreturn\u001b[39;00m \u001b[43mop\u001b[49m\u001b[43m(\u001b[49m\u001b[43mdelegate\u001b[49m\u001b[43m,\u001b[49m\u001b[43m \u001b[49m\u001b[43mskipna\u001b[49m\u001b[43m=\u001b[49m\u001b[43mskipna\u001b[49m\u001b[43m,\u001b[49m\u001b[43m \u001b[49m\u001b[43m*\u001b[49m\u001b[43m*\u001b[49m\u001b[43mkwds\u001b[49m\u001b[43m)\u001b[49m\n",
      "\u001b[36mFile \u001b[39m\u001b[32m~\\AppData\\Local\\Programs\\Python\\Python313\\Lib\\site-packages\\pandas\\core\\nanops.py:147\u001b[39m, in \u001b[36mbottleneck_switch.__call__.<locals>.f\u001b[39m\u001b[34m(values, axis, skipna, **kwds)\u001b[39m\n\u001b[32m    145\u001b[39m         result = alt(values, axis=axis, skipna=skipna, **kwds)\n\u001b[32m    146\u001b[39m \u001b[38;5;28;01melse\u001b[39;00m:\n\u001b[32m--> \u001b[39m\u001b[32m147\u001b[39m     result = \u001b[43malt\u001b[49m\u001b[43m(\u001b[49m\u001b[43mvalues\u001b[49m\u001b[43m,\u001b[49m\u001b[43m \u001b[49m\u001b[43maxis\u001b[49m\u001b[43m=\u001b[49m\u001b[43maxis\u001b[49m\u001b[43m,\u001b[49m\u001b[43m \u001b[49m\u001b[43mskipna\u001b[49m\u001b[43m=\u001b[49m\u001b[43mskipna\u001b[49m\u001b[43m,\u001b[49m\u001b[43m \u001b[49m\u001b[43m*\u001b[49m\u001b[43m*\u001b[49m\u001b[43mkwds\u001b[49m\u001b[43m)\u001b[49m\n\u001b[32m    149\u001b[39m \u001b[38;5;28;01mreturn\u001b[39;00m result\n",
      "\u001b[36mFile \u001b[39m\u001b[32m~\\AppData\\Local\\Programs\\Python\\Python313\\Lib\\site-packages\\pandas\\core\\nanops.py:950\u001b[39m, in \u001b[36mnanstd\u001b[39m\u001b[34m(values, axis, skipna, ddof, mask)\u001b[39m\n\u001b[32m    947\u001b[39m orig_dtype = values.dtype\n\u001b[32m    948\u001b[39m values, mask = _get_values(values, skipna, mask=mask)\n\u001b[32m--> \u001b[39m\u001b[32m950\u001b[39m result = np.sqrt(\u001b[43mnanvar\u001b[49m\u001b[43m(\u001b[49m\u001b[43mvalues\u001b[49m\u001b[43m,\u001b[49m\u001b[43m \u001b[49m\u001b[43maxis\u001b[49m\u001b[43m=\u001b[49m\u001b[43maxis\u001b[49m\u001b[43m,\u001b[49m\u001b[43m \u001b[49m\u001b[43mskipna\u001b[49m\u001b[43m=\u001b[49m\u001b[43mskipna\u001b[49m\u001b[43m,\u001b[49m\u001b[43m \u001b[49m\u001b[43mddof\u001b[49m\u001b[43m=\u001b[49m\u001b[43mddof\u001b[49m\u001b[43m,\u001b[49m\u001b[43m \u001b[49m\u001b[43mmask\u001b[49m\u001b[43m=\u001b[49m\u001b[43mmask\u001b[49m\u001b[43m)\u001b[49m)\n\u001b[32m    951\u001b[39m \u001b[38;5;28;01mreturn\u001b[39;00m _wrap_results(result, orig_dtype)\n",
      "\u001b[36mFile \u001b[39m\u001b[32m~\\AppData\\Local\\Programs\\Python\\Python313\\Lib\\site-packages\\pandas\\core\\nanops.py:92\u001b[39m, in \u001b[36mdisallow.__call__.<locals>._f\u001b[39m\u001b[34m(*args, **kwargs)\u001b[39m\n\u001b[32m     86\u001b[39m \u001b[38;5;28;01mexcept\u001b[39;00m \u001b[38;5;167;01mValueError\u001b[39;00m \u001b[38;5;28;01mas\u001b[39;00m e:\n\u001b[32m     87\u001b[39m     \u001b[38;5;66;03m# we want to transform an object array\u001b[39;00m\n\u001b[32m     88\u001b[39m     \u001b[38;5;66;03m# ValueError message to the more typical TypeError\u001b[39;00m\n\u001b[32m     89\u001b[39m     \u001b[38;5;66;03m# e.g. this is normally a disallowed function on\u001b[39;00m\n\u001b[32m     90\u001b[39m     \u001b[38;5;66;03m# object arrays that contain strings\u001b[39;00m\n\u001b[32m     91\u001b[39m     \u001b[38;5;28;01mif\u001b[39;00m is_object_dtype(args[\u001b[32m0\u001b[39m]):\n\u001b[32m---> \u001b[39m\u001b[32m92\u001b[39m         \u001b[38;5;28;01mraise\u001b[39;00m \u001b[38;5;167;01mTypeError\u001b[39;00m(e) \u001b[38;5;28;01mfrom\u001b[39;00m\u001b[38;5;250m \u001b[39m\u001b[34;01me\u001b[39;00m\n\u001b[32m     93\u001b[39m     \u001b[38;5;28;01mraise\u001b[39;00m\n",
      "\u001b[31mTypeError\u001b[39m: could not convert string to float: 'austin'"
     ]
    }
   ],
   "source": [
    "## 결측치 대신 전과 후 표준편차 차이의 절댓값을 구하시오.\n",
    "import numpy as np\n",
    "\n",
    "for col in data2.columns:\n",
    "    null_before = np.std(data2[col])\n",
    "\n",
    "    if data2[col].isnull().sum() > 0:\n",
    "        median_val = np.median(data2[col].dropna())\n",
    "        null_after = np.std(data2[col])\n",
    "\n",
    "print(\"결측치 전\")\n",
    "\n",
    "print(\"결측치 후\")"
   ]
  },
  {
   "cell_type": "code",
   "execution_count": 9,
   "metadata": {},
   "outputs": [],
   "source": [
    "# 코드 작성"
   ]
  },
  {
   "cell_type": "markdown",
   "metadata": {},
   "source": [
    "## 문제 3. \n",
    "- 평균으로부터 1.5x 표준편차 범위 밖의 값을 이상치로 판단\n",
    "- MedianStudentsPerTeacher의 이상치를 구하고, 이상치의 개수를 구하시오. "
   ]
  },
  {
   "cell_type": "code",
   "execution_count": 10,
   "metadata": {},
   "outputs": [],
   "source": [
    "# 코드 작성"
   ]
  }
 ],
 "metadata": {
  "kernelspec": {
   "display_name": "Python 3 (ipykernel)",
   "language": "python",
   "name": "python3"
  },
  "language_info": {
   "codemirror_mode": {
    "name": "ipython",
    "version": 3
   },
   "file_extension": ".py",
   "mimetype": "text/x-python",
   "name": "python",
   "nbconvert_exporter": "python",
   "pygments_lexer": "ipython3",
   "version": "3.13.3"
  }
 },
 "nbformat": 4,
 "nbformat_minor": 4
}
