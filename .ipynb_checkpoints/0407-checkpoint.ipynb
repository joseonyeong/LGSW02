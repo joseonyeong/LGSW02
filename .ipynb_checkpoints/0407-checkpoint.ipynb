{
 "cells": [
  {
   "cell_type": "markdown",
   "id": "fb085f5d-c266-4e34-b2f9-56f7ba38f6b7",
   "metadata": {},
   "source": [
    "## 기초통계를 이용한 상관계수 도출"
   ]
  },
  {
   "cell_type": "markdown",
   "id": "81124ff1-3c00-465c-8d48-72aa42c78e70",
   "metadata": {},
   "source": [
    "### p. 376"
   ]
  },
  {
   "cell_type": "code",
   "execution_count": 4,
   "id": "1588aafa-548d-42e4-8163-c790af3aafd9",
   "metadata": {},
   "outputs": [],
   "source": [
    "train = [[25,100],[52,256],[38,152],[32,140],[25,150]]\n",
    "\n",
    "x = [i[0] for i in train]\n",
    "y = [j[1] for j in train]"
   ]
  },
  {
   "cell_type": "code",
   "execution_count": 5,
   "id": "2d8acdb1-f3c1-4327-a452-a77c2ab3f00e",
   "metadata": {},
   "outputs": [
    {
     "data": {
      "text/plain": [
       "(34.4, 159.6)"
      ]
     },
     "execution_count": 5,
     "metadata": {},
     "output_type": "execute_result"
    }
   ],
   "source": [
    "def mean(x):\n",
    "    return sum(x) / len(x)\n",
    "\n",
    "mean(x), mean(y)"
   ]
  },
  {
   "cell_type": "code",
   "execution_count": 7,
   "id": "715aca05-a8c0-4dd1-b432-7d46b409f758",
   "metadata": {},
   "outputs": [
    {
     "data": {
      "text/plain": [
       "([-9.399999999999999,\n",
       "  17.6,\n",
       "  3.6000000000000014,\n",
       "  -2.3999999999999986,\n",
       "  -9.399999999999999],\n",
       " [-59.599999999999994,\n",
       "  96.4,\n",
       "  -7.599999999999994,\n",
       "  -19.599999999999994,\n",
       "  -9.599999999999994])"
      ]
     },
     "execution_count": 7,
     "metadata": {},
     "output_type": "execute_result"
    }
   ],
   "source": [
    "## 원래 값 - 평균 값\n",
    "def d_mean(x):\n",
    "    x_mean = mean(x)\n",
    "    return [i - x_mean for i in x]\n",
    "\n",
    "d_mean(x), d_mean(y)"
   ]
  },
  {
   "cell_type": "code",
   "execution_count": 15,
   "id": "8961084b-0350-485d-8c41-4050bfd339ee",
   "metadata": {},
   "outputs": [
    {
     "data": {
      "text/plain": [
       "<zip at 0x222893b9980>"
      ]
     },
     "execution_count": 15,
     "metadata": {},
     "output_type": "execute_result"
    }
   ],
   "source": [
    "## zip 함수 짚고 넘어가기\n",
    "zip(x,y) # 데이터 묶기"
   ]
  },
  {
   "cell_type": "code",
   "execution_count": 16,
   "id": "29b03614-55a8-4738-b554-b7937102dc14",
   "metadata": {},
   "outputs": [
    {
     "data": {
      "text/plain": [
       "29818"
      ]
     },
     "execution_count": 16,
     "metadata": {},
     "output_type": "execute_result"
    }
   ],
   "source": [
    "## x * y 의 총합계\n",
    "def dot(x,y):\n",
    "    return sum([x * y for x, y in zip(x,y)])\n",
    "\n",
    "dot(x,y)"
   ]
  },
  {
   "cell_type": "code",
   "execution_count": 17,
   "id": "76265e51-e22c-471b-87e5-789115098462",
   "metadata": {},
   "outputs": [
    {
     "data": {
      "text/plain": [
       "(6422, 140740)"
      ]
     },
     "execution_count": 17,
     "metadata": {},
     "output_type": "execute_result"
    }
   ],
   "source": [
    "## 제곱의 합\n",
    "def sum_of_squares(v):\n",
    "    return dot(v,v)\n",
    "sum_of_squares(x), sum_of_squares(y)"
   ]
  },
  {
   "cell_type": "code",
   "execution_count": 18,
   "id": "320f8181-3ab2-4f89-9562-52bca175e45f",
   "metadata": {},
   "outputs": [
    {
     "data": {
      "text/plain": [
       "126.3"
      ]
     },
     "execution_count": 18,
     "metadata": {},
     "output_type": "execute_result"
    }
   ],
   "source": [
    "## 분산\n",
    "def variance(x):\n",
    "    n = len(x)\n",
    "    d = d_mean(x)\n",
    "    return sum_of_squares(d) / (n-1)\n",
    "variance(x)"
   ]
  },
  {
   "cell_type": "code",
   "execution_count": 19,
   "id": "82b643a5-1dfb-4fdb-98c1-5adb57c9378e",
   "metadata": {},
   "outputs": [
    {
     "data": {
      "text/plain": [
       "11.23832727766904"
      ]
     },
     "execution_count": 19,
     "metadata": {},
     "output_type": "execute_result"
    }
   ],
   "source": [
    "## 표준편차\n",
    "def standard_deviation(x):\n",
    "    return variance(x) ** 0.5\n",
    "standard_deviation(x)"
   ]
  },
  {
   "cell_type": "code",
   "execution_count": null,
   "id": "cb22ec2c-9ee6-4676-9fef-76870f45a76a",
   "metadata": {},
   "outputs": [],
   "source": [
    "## 공분산"
   ]
  }
 ],
 "metadata": {
  "kernelspec": {
   "display_name": "Python 3 (ipykernel)",
   "language": "python",
   "name": "python3"
  },
  "language_info": {
   "codemirror_mode": {
    "name": "ipython",
    "version": 3
   },
   "file_extension": ".py",
   "mimetype": "text/x-python",
   "name": "python",
   "nbconvert_exporter": "python",
   "pygments_lexer": "ipython3",
   "version": "3.13.2"
  }
 },
 "nbformat": 4,
 "nbformat_minor": 5
}
