{
 "cells": [
  {
   "cell_type": "markdown",
   "id": "fb085f5d-c266-4e34-b2f9-56f7ba38f6b7",
   "metadata": {},
   "source": [
    "## 기초통계를 이용한 상관계수 도출"
   ]
  },
  {
   "cell_type": "markdown",
   "id": "6afd2500-bdad-4b71-8431-f8018d8ab107",
   "metadata": {},
   "source": [
    "ch11"
   ]
  },
  {
   "cell_type": "markdown",
   "id": "81124ff1-3c00-465c-8d48-72aa42c78e70",
   "metadata": {},
   "source": [
    "### p. 376"
   ]
  },
  {
   "cell_type": "code",
   "execution_count": 1,
   "id": "1588aafa-548d-42e4-8163-c790af3aafd9",
   "metadata": {},
   "outputs": [],
   "source": [
    "train = [[25,100],[52,256],[38,152],[32,140],[25,150]]\n",
    "\n",
    "x = [i[0] for i in train]\n",
    "y = [j[1] for j in train]"
   ]
  },
  {
   "cell_type": "code",
   "execution_count": 2,
   "id": "2d8acdb1-f3c1-4327-a452-a77c2ab3f00e",
   "metadata": {},
   "outputs": [
    {
     "data": {
      "text/plain": [
       "(34.4, 159.6)"
      ]
     },
     "execution_count": 2,
     "metadata": {},
     "output_type": "execute_result"
    }
   ],
   "source": [
    "def mean(x):\n",
    "    return sum(x) / len(x)\n",
    "\n",
    "mean(x), mean(y)"
   ]
  },
  {
   "cell_type": "code",
   "execution_count": 3,
   "id": "715aca05-a8c0-4dd1-b432-7d46b409f758",
   "metadata": {},
   "outputs": [
    {
     "data": {
      "text/plain": [
       "([-9.399999999999999,\n",
       "  17.6,\n",
       "  3.6000000000000014,\n",
       "  -2.3999999999999986,\n",
       "  -9.399999999999999],\n",
       " [-59.599999999999994,\n",
       "  96.4,\n",
       "  -7.599999999999994,\n",
       "  -19.599999999999994,\n",
       "  -9.599999999999994])"
      ]
     },
     "execution_count": 3,
     "metadata": {},
     "output_type": "execute_result"
    }
   ],
   "source": [
    "## 원래 값 - 평균 값\n",
    "def d_mean(x):\n",
    "    x_mean = mean(x)\n",
    "    return [i - x_mean for i in x]\n",
    "\n",
    "d_mean(x), d_mean(y)"
   ]
  },
  {
   "cell_type": "code",
   "execution_count": 4,
   "id": "8961084b-0350-485d-8c41-4050bfd339ee",
   "metadata": {},
   "outputs": [
    {
     "data": {
      "text/plain": [
       "<zip at 0x1ade26fc480>"
      ]
     },
     "execution_count": 4,
     "metadata": {},
     "output_type": "execute_result"
    }
   ],
   "source": [
    "## zip 함수 짚고 넘어가기\n",
    "zip(x,y) # 데이터 묶기"
   ]
  },
  {
   "cell_type": "code",
   "execution_count": 5,
   "id": "29b03614-55a8-4738-b554-b7937102dc14",
   "metadata": {},
   "outputs": [
    {
     "data": {
      "text/plain": [
       "29818"
      ]
     },
     "execution_count": 5,
     "metadata": {},
     "output_type": "execute_result"
    }
   ],
   "source": [
    "## x * y 의 총합계\n",
    "def dot(x,y):\n",
    "    return sum([x * y for x, y in zip(x,y)])\n",
    "\n",
    "dot(x,y)"
   ]
  },
  {
   "cell_type": "code",
   "execution_count": 6,
   "id": "76265e51-e22c-471b-87e5-789115098462",
   "metadata": {},
   "outputs": [
    {
     "data": {
      "text/plain": [
       "(6422, 140740)"
      ]
     },
     "execution_count": 6,
     "metadata": {},
     "output_type": "execute_result"
    }
   ],
   "source": [
    "## 제곱의 합\n",
    "def sum_of_squares(v):\n",
    "    return dot(v,v)\n",
    "sum_of_squares(x), sum_of_squares(y)"
   ]
  },
  {
   "cell_type": "code",
   "execution_count": 7,
   "id": "320f8181-3ab2-4f89-9562-52bca175e45f",
   "metadata": {},
   "outputs": [
    {
     "data": {
      "text/plain": [
       "126.3"
      ]
     },
     "execution_count": 7,
     "metadata": {},
     "output_type": "execute_result"
    }
   ],
   "source": [
    "## 분산\n",
    "def variance(x):\n",
    "    n = len(x)\n",
    "    d = d_mean(x)\n",
    "    return sum_of_squares(d) / (n-1)\n",
    "variance(x)"
   ]
  },
  {
   "cell_type": "code",
   "execution_count": 8,
   "id": "82b643a5-1dfb-4fdb-98c1-5adb57c9378e",
   "metadata": {},
   "outputs": [
    {
     "data": {
      "text/plain": [
       "11.23832727766904"
      ]
     },
     "execution_count": 8,
     "metadata": {},
     "output_type": "execute_result"
    }
   ],
   "source": [
    "## 표준편차\n",
    "def standard_deviation(x):\n",
    "    return variance(x) ** 0.5\n",
    "standard_deviation(x)"
   ]
  },
  {
   "cell_type": "code",
   "execution_count": 9,
   "id": "cb22ec2c-9ee6-4676-9fef-76870f45a76a",
   "metadata": {},
   "outputs": [
    {
     "data": {
      "text/plain": [
       "591.7"
      ]
     },
     "execution_count": 9,
     "metadata": {},
     "output_type": "execute_result"
    }
   ],
   "source": [
    "## 공분산\n",
    "def convariance(x,y):\n",
    "    n = len(x)\n",
    "    return dot(d_mean(x), d_mean(y)) / (n-1)\n",
    "convariance(x,y)"
   ]
  },
  {
   "cell_type": "code",
   "execution_count": 10,
   "id": "319cae80-3150-40c2-aaaf-53443948e597",
   "metadata": {},
   "outputs": [
    {
     "data": {
      "text/plain": [
       "0.910363457817553"
      ]
     },
     "execution_count": 10,
     "metadata": {},
     "output_type": "execute_result"
    }
   ],
   "source": [
    "## 상관계수\n",
    "def correlation(x,y):\n",
    "    stdev_x = standard_deviation(x)\n",
    "    stdev_y = standard_deviation(y)\n",
    "\n",
    "    if stdev_x > 0 and stdev_y > 0:\n",
    "        return convariance(x,y) / (stdev_x * stdev_y)\n",
    "    else:\n",
    "        return 0\n",
    "correlation(x,y)"
   ]
  },
  {
   "cell_type": "code",
   "execution_count": 11,
   "id": "af004494-e485-4dd7-906f-e45d3263a2f8",
   "metadata": {},
   "outputs": [
    {
     "data": {
      "text/plain": [
       "(np.float64(34.4),\n",
       " np.float64(10.05186549850325),\n",
       " np.float64(101.03999999999999))"
      ]
     },
     "execution_count": 11,
     "metadata": {},
     "output_type": "execute_result"
    }
   ],
   "source": [
    "## 넘파이 함수로 기초 통계 구하기\n",
    "import numpy as np\n",
    "x1 = np.array(x)\n",
    "x1.mean(), x1.std(), x1.var()"
   ]
  },
  {
   "cell_type": "code",
   "execution_count": 12,
   "id": "0b9539fb-9c3d-4065-8dba-3a66186ec5fd",
   "metadata": {},
   "outputs": [
    {
     "data": {
      "text/plain": [
       "(array([[ 126.3,  591.7],\n",
       "        [ 591.7, 3344.8]]),\n",
       " array([[1.        , 0.91036346],\n",
       "        [0.91036346, 1.        ]]))"
      ]
     },
     "execution_count": 12,
     "metadata": {},
     "output_type": "execute_result"
    }
   ],
   "source": [
    "## 넘파이 공분산, 피어슨상관관계\n",
    "np.cov(x1, y), np.corrcoef(x1,y)"
   ]
  },
  {
   "cell_type": "markdown",
   "id": "f3112f40-d899-4c7f-a2fa-82813ef41779",
   "metadata": {},
   "source": [
    "## 회귀 계수\n",
    ": 공분산과 독립변수의 분산 사이의 비율\n",
    "- 회귀 분석"
   ]
  },
  {
   "cell_type": "code",
   "execution_count": 13,
   "id": "4bdc251f-6671-4e8e-af0d-82407b465f1b",
   "metadata": {},
   "outputs": [
    {
     "data": {
      "text/plain": [
       "[-1.5597783056215633, 4.684877276326208]"
      ]
     },
     "execution_count": 13,
     "metadata": {},
     "output_type": "execute_result"
    }
   ],
   "source": [
    "## 회귀 계수 구하기\n",
    "def OLS(x,y):\n",
    "    beta = convariance(x,y) / variance(x)\n",
    "    alpha = mean(y) - beta * mean(x)\n",
    "    return [alpha, beta]\n",
    "\n",
    "OLS(x,y)"
   ]
  },
  {
   "cell_type": "code",
   "execution_count": 14,
   "id": "4490e74a-2724-44df-aa0d-dc359f6578cd",
   "metadata": {},
   "outputs": [
    {
     "data": {
      "text/plain": [
       "[-1.5597783056215349, 4.684877276326207]"
      ]
     },
     "execution_count": 14,
     "metadata": {},
     "output_type": "execute_result"
    }
   ],
   "source": [
    "def OLS_fit(x,y):\n",
    "    beta = (correlation(x,y) * standard_deviation(y)) / standard_deviation(x)\n",
    "    alpha = mean(y) - beta * mean(x)\n",
    "    return [alpha, beta]\n",
    "OLS_fit(x,y)"
   ]
  },
  {
   "cell_type": "code",
   "execution_count": 15,
   "id": "3d9cf993-6deb-401d-bb18-a576e5ffc0fa",
   "metadata": {},
   "outputs": [
    {
     "name": "stdout",
     "output_type": "stream",
     "text": [
      "[25.000000000000004, 52.0, 38.0, 32.0, 25.000000000000004]\n"
     ]
    }
   ],
   "source": [
    "## 예측값 구하기\n",
    "def predict(alpha, beta, train, test):\n",
    "    predictions = list()\n",
    "    x = [i[0] for i in train]\n",
    "    y = [j[1] for j in train]\n",
    "    alpha, beta = OLS_fit(x,y)\n",
    "    for i in test:\n",
    "        yhat = alpha + beta * i[0]\n",
    "        predictions.append(yhat)\n",
    "    return predictions\n",
    "\n",
    "train = [[25,100],[52,256],[38,152],[32,140],[25,150]]\n",
    "alpha, beta = OLS_fit(x,y)\n",
    "\n",
    "pr = predict(alpha, beta, train, train)\n",
    "print(pr)"
   ]
  },
  {
   "cell_type": "code",
   "execution_count": 17,
   "id": "7f778204-a110-4f78-ac2f-d78f1b1fa28c",
   "metadata": {},
   "outputs": [
    {
     "data": {
      "text/plain": [
       "2291.0324623911324"
      ]
     },
     "execution_count": 17,
     "metadata": {},
     "output_type": "execute_result"
    }
   ],
   "source": [
    "## SSE : 실제값과 예측값의 차를 나타내는 에러값의 제곱의 합\n",
    "## Error Sum of Squares\n",
    "\n",
    "def SSE(alpha, beta, train, test):\n",
    "    sse = 0\n",
    "    for i in test:\n",
    "        error = (i[1] - (alpha + beta * i[0])) **2\n",
    "        sse += error\n",
    "    return sse\n",
    "SSE(alpha, beta, train, train)"
   ]
  },
  {
   "cell_type": "code",
   "execution_count": 18,
   "id": "da59fe10-c15e-43ba-be1f-3db90bf1f437",
   "metadata": {},
   "outputs": [
    {
     "data": {
      "text/plain": [
       "13379.2"
      ]
     },
     "execution_count": 18,
     "metadata": {},
     "output_type": "execute_result"
    }
   ],
   "source": [
    "## SST : 총 변동분\n",
    "## Total Sum of Squares\n",
    "\n",
    "def SST(alpha, beta, train, test):\n",
    "    sst = 0\n",
    "    x = [i[0] for i in train]\n",
    "    y = [j[1] for j in train]\n",
    "\n",
    "    for i in test:\n",
    "        sum_ds = (i[1] - mean(y)) **2\n",
    "        sst = sum_ds + sst\n",
    "    return sst\n",
    "\n",
    "SST(alpha, beta, train, train)"
   ]
  },
  {
   "cell_type": "markdown",
   "id": "5373a0a6-2458-4314-b7f1-2e17b54c130d",
   "metadata": {},
   "source": [
    "- ssr -> sst(개념 공부하고) 이것들로 결정계수 구함"
   ]
  },
  {
   "cell_type": "code",
   "execution_count": null,
   "id": "6c5be153-f9bf-4c13-ab55-06c4920416dc",
   "metadata": {},
   "outputs": [],
   "source": []
  }
 ],
 "metadata": {
  "kernelspec": {
   "display_name": "Python 3 (ipykernel)",
   "language": "python",
   "name": "python3"
  },
  "language_info": {
   "codemirror_mode": {
    "name": "ipython",
    "version": 3
   },
   "file_extension": ".py",
   "mimetype": "text/x-python",
   "name": "python",
   "nbconvert_exporter": "python",
   "pygments_lexer": "ipython3",
   "version": "3.13.2"
  }
 },
 "nbformat": 4,
 "nbformat_minor": 5
}
