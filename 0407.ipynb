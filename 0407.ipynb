{
 "cells": [
  {
   "cell_type": "markdown",
   "id": "fb085f5d-c266-4e34-b2f9-56f7ba38f6b7",
   "metadata": {},
   "source": [
    "## 기초통계를 이용한 상관계수 도출"
   ]
  },
  {
   "cell_type": "markdown",
   "id": "6afd2500-bdad-4b71-8431-f8018d8ab107",
   "metadata": {},
   "source": [
    "ch11"
   ]
  },
  {
   "cell_type": "markdown",
   "id": "81124ff1-3c00-465c-8d48-72aa42c78e70",
   "metadata": {},
   "source": [
    "### p. 376"
   ]
  },
  {
   "cell_type": "code",
   "execution_count": 2,
   "id": "1588aafa-548d-42e4-8163-c790af3aafd9",
   "metadata": {},
   "outputs": [],
   "source": [
    "train = [[25,100],[52,256],[38,152],[32,140],[25,150]]\n",
    "\n",
    "x = [i[0] for i in train]\n",
    "y = [j[1] for j in train]"
   ]
  },
  {
   "cell_type": "code",
   "execution_count": 3,
   "id": "2d8acdb1-f3c1-4327-a452-a77c2ab3f00e",
   "metadata": {},
   "outputs": [
    {
     "data": {
      "text/plain": [
       "(34.4, 159.6)"
      ]
     },
     "execution_count": 3,
     "metadata": {},
     "output_type": "execute_result"
    }
   ],
   "source": [
    "def mean(x):\n",
    "    return sum(x) / len(x)\n",
    "\n",
    "mean(x), mean(y)"
   ]
  },
  {
   "cell_type": "code",
   "execution_count": 4,
   "id": "715aca05-a8c0-4dd1-b432-7d46b409f758",
   "metadata": {},
   "outputs": [
    {
     "data": {
      "text/plain": [
       "([-9.399999999999999,\n",
       "  17.6,\n",
       "  3.6000000000000014,\n",
       "  -2.3999999999999986,\n",
       "  -9.399999999999999],\n",
       " [-59.599999999999994,\n",
       "  96.4,\n",
       "  -7.599999999999994,\n",
       "  -19.599999999999994,\n",
       "  -9.599999999999994])"
      ]
     },
     "execution_count": 4,
     "metadata": {},
     "output_type": "execute_result"
    }
   ],
   "source": [
    "## 원래 값 - 평균 값\n",
    "def d_mean(x):\n",
    "    x_mean = mean(x)\n",
    "    return [i - x_mean for i in x]\n",
    "\n",
    "d_mean(x), d_mean(y)"
   ]
  },
  {
   "cell_type": "code",
   "execution_count": 5,
   "id": "8961084b-0350-485d-8c41-4050bfd339ee",
   "metadata": {},
   "outputs": [
    {
     "data": {
      "text/plain": [
       "<zip at 0x26ec0df46c0>"
      ]
     },
     "execution_count": 5,
     "metadata": {},
     "output_type": "execute_result"
    }
   ],
   "source": [
    "## zip 함수 짚고 넘어가기\n",
    "zip(x,y) # 데이터 묶기"
   ]
  },
  {
   "cell_type": "code",
   "execution_count": 6,
   "id": "29b03614-55a8-4738-b554-b7937102dc14",
   "metadata": {},
   "outputs": [
    {
     "data": {
      "text/plain": [
       "29818"
      ]
     },
     "execution_count": 6,
     "metadata": {},
     "output_type": "execute_result"
    }
   ],
   "source": [
    "## x * y 의 총합계\n",
    "def dot(x,y):\n",
    "    return sum([x * y for x, y in zip(x,y)])\n",
    "\n",
    "dot(x,y)"
   ]
  },
  {
   "cell_type": "code",
   "execution_count": 7,
   "id": "76265e51-e22c-471b-87e5-789115098462",
   "metadata": {},
   "outputs": [
    {
     "data": {
      "text/plain": [
       "(6422, 140740)"
      ]
     },
     "execution_count": 7,
     "metadata": {},
     "output_type": "execute_result"
    }
   ],
   "source": [
    "## 제곱의 합\n",
    "def sum_of_squares(v):\n",
    "    return dot(v,v)\n",
    "sum_of_squares(x), sum_of_squares(y)"
   ]
  },
  {
   "cell_type": "code",
   "execution_count": 8,
   "id": "320f8181-3ab2-4f89-9562-52bca175e45f",
   "metadata": {},
   "outputs": [
    {
     "data": {
      "text/plain": [
       "126.3"
      ]
     },
     "execution_count": 8,
     "metadata": {},
     "output_type": "execute_result"
    }
   ],
   "source": [
    "## 분산\n",
    "def variance(x):\n",
    "    n = len(x)\n",
    "    d = d_mean(x)\n",
    "    return sum_of_squares(d) / (n-1)\n",
    "variance(x)"
   ]
  },
  {
   "cell_type": "code",
   "execution_count": 9,
   "id": "82b643a5-1dfb-4fdb-98c1-5adb57c9378e",
   "metadata": {},
   "outputs": [
    {
     "data": {
      "text/plain": [
       "11.23832727766904"
      ]
     },
     "execution_count": 9,
     "metadata": {},
     "output_type": "execute_result"
    }
   ],
   "source": [
    "## 표준편차\n",
    "def standard_deviation(x):\n",
    "    return variance(x) ** 0.5\n",
    "standard_deviation(x)"
   ]
  },
  {
   "cell_type": "code",
   "execution_count": 10,
   "id": "cb22ec2c-9ee6-4676-9fef-76870f45a76a",
   "metadata": {},
   "outputs": [
    {
     "data": {
      "text/plain": [
       "591.7"
      ]
     },
     "execution_count": 10,
     "metadata": {},
     "output_type": "execute_result"
    }
   ],
   "source": [
    "## 공분산\n",
    "def convariance(x,y):\n",
    "    n = len(x)\n",
    "    return dot(d_mean(x), d_mean(y)) / (n-1)\n",
    "convariance(x,y)"
   ]
  },
  {
   "cell_type": "code",
   "execution_count": 11,
   "id": "319cae80-3150-40c2-aaaf-53443948e597",
   "metadata": {},
   "outputs": [
    {
     "data": {
      "text/plain": [
       "0.910363457817553"
      ]
     },
     "execution_count": 11,
     "metadata": {},
     "output_type": "execute_result"
    }
   ],
   "source": [
    "## 상관계수\n",
    "def correlation(x,y):\n",
    "    stdev_x = standard_deviation(x)\n",
    "    stdev_y = standard_deviation(y)\n",
    "\n",
    "    if stdev_x > 0 and stdev_y > 0:\n",
    "        return convariance(x,y) / (stdev_x * stdev_y)\n",
    "    else:\n",
    "        return 0\n",
    "correlation(x,y)"
   ]
  },
  {
   "cell_type": "code",
   "execution_count": 12,
   "id": "af004494-e485-4dd7-906f-e45d3263a2f8",
   "metadata": {},
   "outputs": [
    {
     "data": {
      "text/plain": [
       "(np.float64(34.4),\n",
       " np.float64(10.05186549850325),\n",
       " np.float64(101.03999999999999))"
      ]
     },
     "execution_count": 12,
     "metadata": {},
     "output_type": "execute_result"
    }
   ],
   "source": [
    "## 넘파이 함수로 기초 통계 구하기\n",
    "import numpy as np\n",
    "x1 = np.array(x)\n",
    "x1.mean(), x1.std(), x1.var()"
   ]
  },
  {
   "cell_type": "code",
   "execution_count": 13,
   "id": "0b9539fb-9c3d-4065-8dba-3a66186ec5fd",
   "metadata": {},
   "outputs": [
    {
     "data": {
      "text/plain": [
       "(array([[ 126.3,  591.7],\n",
       "        [ 591.7, 3344.8]]),\n",
       " array([[1.        , 0.91036346],\n",
       "        [0.91036346, 1.        ]]))"
      ]
     },
     "execution_count": 13,
     "metadata": {},
     "output_type": "execute_result"
    }
   ],
   "source": [
    "## 넘파이 공분산, 피어슨상관관계\n",
    "np.cov(x1, y), np.corrcoef(x1,y)"
   ]
  },
  {
   "cell_type": "markdown",
   "id": "f3112f40-d899-4c7f-a2fa-82813ef41779",
   "metadata": {},
   "source": [
    "## 회귀 계수\n",
    ": 공분산과 독립변수의 분산 사이의 비율\n",
    "- 회귀 분석"
   ]
  },
  {
   "cell_type": "code",
   "execution_count": 14,
   "id": "4bdc251f-6671-4e8e-af0d-82407b465f1b",
   "metadata": {},
   "outputs": [
    {
     "data": {
      "text/plain": [
       "[-1.5597783056215633, 4.684877276326208]"
      ]
     },
     "execution_count": 14,
     "metadata": {},
     "output_type": "execute_result"
    }
   ],
   "source": [
    "## 회귀 계수 구하기\n",
    "def OLS(x,y):\n",
    "    beta = convariance(x,y) / variance(x)\n",
    "    alpha = mean(y) - beta * mean(x)\n",
    "    return [alpha, beta]\n",
    "\n",
    "OLS(x,y)"
   ]
  },
  {
   "cell_type": "code",
   "execution_count": 15,
   "id": "4490e74a-2724-44df-aa0d-dc359f6578cd",
   "metadata": {},
   "outputs": [
    {
     "data": {
      "text/plain": [
       "[-1.5597783056215349, 4.684877276326207]"
      ]
     },
     "execution_count": 15,
     "metadata": {},
     "output_type": "execute_result"
    }
   ],
   "source": [
    "def OLS_fit(x,y):\n",
    "    beta = (correlation(x,y) * standard_deviation(y)) / standard_deviation(x)\n",
    "    alpha = mean(y) - beta * mean(x)\n",
    "    return [alpha, beta]\n",
    "OLS_fit(x,y)"
   ]
  },
  {
   "cell_type": "code",
   "execution_count": 16,
   "id": "3d9cf993-6deb-401d-bb18-a576e5ffc0fa",
   "metadata": {},
   "outputs": [
    {
     "name": "stdout",
     "output_type": "stream",
     "text": [
      "[115.56215360253366, 242.05384006334126, 176.46555819477436, 148.3562945368171, 115.56215360253366]\n"
     ]
    }
   ],
   "source": [
    "## 예측값 구하기\n",
    "def predict(alpha, beta, train, test):\n",
    "    predictions = list()\n",
    "    x = [i[0] for i in train]\n",
    "    y = [j[1] for j in train]\n",
    "    alpha, beta = OLS_fit(x,y)\n",
    "    for i in test:\n",
    "        yhat = alpha + beta * i[0]\n",
    "        predictions.append(yhat)\n",
    "    return predictions\n",
    "\n",
    "train = [[25,100],[52,256],[38,152],[32,140],[25,150]]\n",
    "alpha, beta = OLS_fit(x,y)\n",
    "\n",
    "pr = predict(alpha, beta, train, train)\n",
    "print(pr)"
   ]
  },
  {
   "cell_type": "code",
   "execution_count": 17,
   "id": "7f778204-a110-4f78-ac2f-d78f1b1fa28c",
   "metadata": {},
   "outputs": [
    {
     "data": {
      "text/plain": [
       "2291.0324623911324"
      ]
     },
     "execution_count": 17,
     "metadata": {},
     "output_type": "execute_result"
    }
   ],
   "source": [
    "## SSE : 실제값과 예측값의 차를 나타내는 에러값의 제곱의 합\n",
    "## Error Sum of Squares\n",
    "\n",
    "def SSE(alpha, beta, train, test):\n",
    "    sse = 0\n",
    "    for i in test:\n",
    "        error = (i[1] - (alpha + beta * i[0])) **2\n",
    "        sse += error\n",
    "    return sse\n",
    "SSE(alpha, beta, train, train)"
   ]
  },
  {
   "cell_type": "code",
   "execution_count": 18,
   "id": "da59fe10-c15e-43ba-be1f-3db90bf1f437",
   "metadata": {},
   "outputs": [
    {
     "data": {
      "text/plain": [
       "13379.2"
      ]
     },
     "execution_count": 18,
     "metadata": {},
     "output_type": "execute_result"
    }
   ],
   "source": [
    "## SST : 총 변동분\n",
    "## Total Sum of Squares\n",
    "\n",
    "def SST(alpha, beta, train, test):\n",
    "    sst = 0\n",
    "    x = [i[0] for i in train]\n",
    "    y = [j[1] for j in train]\n",
    "\n",
    "    for i in test:\n",
    "        sum_ds = (i[1] - mean(y)) **2\n",
    "        sst = sum_ds + sst\n",
    "    return sst\n",
    "\n",
    "SST(alpha, beta, train, train)"
   ]
  },
  {
   "cell_type": "markdown",
   "id": "5373a0a6-2458-4314-b7f1-2e17b54c130d",
   "metadata": {},
   "source": [
    "- ssr -> sst(개념 공부하고) 이것들로 결정계수 구함"
   ]
  },
  {
   "cell_type": "code",
   "execution_count": 19,
   "id": "6c5be153-f9bf-4c13-ab55-06c4920416dc",
   "metadata": {},
   "outputs": [
    {
     "data": {
      "text/plain": [
       "0.8287616253295315"
      ]
     },
     "execution_count": 19,
     "metadata": {},
     "output_type": "execute_result"
    }
   ],
   "source": [
    "## 결정계수 구하기\n",
    "def R_squared(alpha, beta, train, test):\n",
    "    return 1.0-(SSE(alpha, beta, train, test) / SST(alpha, beta, train, test))\n",
    "\n",
    "R_squared(alpha,beta, train, train)"
   ]
  },
  {
   "cell_type": "code",
   "execution_count": 20,
   "id": "1c4b076b",
   "metadata": {},
   "outputs": [
    {
     "name": "stdout",
     "output_type": "stream",
     "text": [
      "                            OLS Regression Results                            \n",
      "==============================================================================\n",
      "Dep. Variable:                      y   R-squared:                       0.829\n",
      "Model:                            OLS   Adj. R-squared:                  0.772\n",
      "Method:                 Least Squares   F-statistic:                     14.52\n",
      "Date:                Thu, 10 Apr 2025   Prob (F-statistic):             0.0318\n",
      "Time:                        09:30:20   Log-Likelihood:                -22.413\n",
      "No. Observations:                   5   AIC:                             48.83\n",
      "Df Residuals:                       3   BIC:                             48.04\n",
      "Df Model:                           1                                         \n",
      "Covariance Type:            nonrobust                                         \n",
      "==============================================================================\n",
      "                 coef    std err          t      P>|t|      [0.025      0.975]\n",
      "------------------------------------------------------------------------------\n",
      "const         -1.5598     44.063     -0.035      0.974    -141.788     138.668\n",
      "x1             4.6849      1.229      3.810      0.032       0.772       8.598\n",
      "==============================================================================\n",
      "Omnibus:                          nan   Durbin-Watson:                   1.937\n",
      "Prob(Omnibus):                    nan   Jarque-Bera (JB):                0.520\n",
      "Skew:                           0.501   Prob(JB):                        0.771\n",
      "Kurtosis:                       1.778   Cond. No.                         128.\n",
      "==============================================================================\n",
      "\n",
      "Notes:\n",
      "[1] Standard Errors assume that the covariance matrix of the errors is correctly specified.\n"
     ]
    },
    {
     "name": "stderr",
     "output_type": "stream",
     "text": [
      "c:\\Users\\Admin\\AppData\\Local\\Programs\\Python\\Python313\\Lib\\site-packages\\statsmodels\\stats\\stattools.py:74: ValueWarning: omni_normtest is not valid with less than 8 observations; 5 samples were given.\n",
      "  warn(\"omni_normtest is not valid with less than 8 observations; %i \"\n"
     ]
    }
   ],
   "source": [
    "## statsmodels library\n",
    "train = [[25,100],[52,256],[38,152],[32,140],[25,150]]\n",
    "x = [i[0] for i in train]\n",
    "y = [j[1] for j in train]\n",
    "\n",
    "import statsmodels.api as sms\n",
    "_X = sms.add_constant(x)\n",
    "model = sms.OLS(y, _X).fit()\n",
    "print(model.summary())"
   ]
  },
  {
   "cell_type": "code",
   "execution_count": 22,
   "id": "7b810a87",
   "metadata": {},
   "outputs": [
    {
     "data": {
      "text/plain": [
       "[209.2596991290578,\n",
       " 185.83531274742677,\n",
       " 256.10847189231987,\n",
       " 129.61678543151228,\n",
       " 195.20506730007918]"
      ]
     },
     "execution_count": 22,
     "metadata": {},
     "output_type": "execute_result"
    }
   ],
   "source": [
    "test = [[45,183],[40,175],[55,203],[28,152],[42,198]]\n",
    "def predict(alpha, beta, train, test):\n",
    "    predictions = list()\n",
    "    x = [i[0] for i in train]\n",
    "    y = [j[1] for j in train]\n",
    "\n",
    "    alpha, beta = OLS_fit(x,y)\n",
    "\n",
    "    for i in test:\n",
    "        yhat = alpha + beta * i[0]\n",
    "        predictions.append(yhat)\n",
    "    return predictions\n",
    "predict(alpha, beta, train, test)"
   ]
  },
  {
   "cell_type": "code",
   "execution_count": 23,
   "id": "364f7efd",
   "metadata": {},
   "outputs": [
    {
     "data": {
      "text/plain": [
       "([183, 175, 203, 152, 198],\n",
       " [209.2596991290578,\n",
       "  185.83531274742677,\n",
       "  256.10847189231987,\n",
       "  129.61678543151228,\n",
       "  195.20506730007918])"
      ]
     },
     "execution_count": 23,
     "metadata": {},
     "output_type": "execute_result"
    }
   ],
   "source": [
    "## 예측 결과 평가하기\n",
    "# 비교를 위해 실제 값을 불러옴\n",
    "actual = [i[1] for i in test]\n",
    "\n",
    "predicted  = predict(alpha, beta, train, test)\n",
    "actual, predicted\n"
   ]
  },
  {
   "cell_type": "code",
   "execution_count": null,
   "id": "34ccc90b",
   "metadata": {},
   "outputs": [
    {
     "data": {
      "text/plain": [
       "28.76214710565456"
      ]
     },
     "execution_count": 24,
     "metadata": {},
     "output_type": "execute_result"
    }
   ],
   "source": [
    "## 예측값과 실제값이 얼마나 가까운지 나타냄\n",
    "\n",
    "from math import sqrt\n",
    "def RMSE(actual, predicted):\n",
    "    sum_error = 0.0\n",
    "    for i in range(len(actual)):\n",
    "        prediction_error = predicted[i] - actual[i] # 차이\n",
    "        sum_error += (prediction_error**2) # 예측 에러값 제곱 누적\n",
    "        mean_error = sum_error / float(len(actual))\n",
    "    return sqrt(mean_error)\n",
    "RMSE(actual, predicted)"
   ]
  },
  {
   "cell_type": "markdown",
   "id": "c5f30cff",
   "metadata": {},
   "source": [
    "## 경사하강법을 이용한 회귀계수 "
   ]
  },
  {
   "cell_type": "code",
   "execution_count": 25,
   "id": "883af4e4",
   "metadata": {},
   "outputs": [
    {
     "name": "stdout",
     "output_type": "stream",
     "text": [
      "학습데이터(train): [[25, 100], [52, 256], [38, 152], [32, 140], [25, 150]], 테스트데이터(test): [[45, 183], [40, 175], [55, 203], [28, 152], [42, 198]]\n"
     ]
    }
   ],
   "source": [
    "## 회귀계수 구하기\n",
    "dataset = [[25,100],[52,256],[38,152],[32,140],[25,150],[45,183],[40,175],[55,203],[28,152],[42,198]]\n",
    "train = dataset[:5]\n",
    "test = dataset[5:]\n",
    "print('학습데이터(train): {}, 테스트데이터(test): {}'.format(train, test))"
   ]
  },
  {
   "cell_type": "code",
   "execution_count": null,
   "id": "c80a7870",
   "metadata": {},
   "outputs": [
    {
     "data": {
      "text/plain": [
       "[0.0, 0.0]"
      ]
     },
     "execution_count": 26,
     "metadata": {},
     "output_type": "execute_result"
    }
   ],
   "source": [
    "# 0으로 초기화\n",
    "coef = [0.0 for i in range(len(train[0]))]\n",
    "coef"
   ]
  },
  {
   "cell_type": "code",
   "execution_count": null,
   "id": "65bc0d2d",
   "metadata": {},
   "outputs": [],
   "source": [
    "def predict(row, coef):\n",
    "    yhat = coef[0] # 절편\n",
    "    for i in range(len(row) - 1):\n",
    "        yhat += coef[i + 1] * row[i]\n",
    "    return yhat"
   ]
  },
  {
   "cell_type": "code",
   "execution_count": 28,
   "id": "a8d34502",
   "metadata": {},
   "outputs": [],
   "source": [
    "## sse를 구하고 초기화하는 방법으로 회귀계수 업데이트\n",
    "def confficients_sgd(trian, l_rate, n_epoch):\n",
    "    coef = [0.0 for i in range(len(train[0]))] \n",
    "    for epoch in range(n_epoch):\n",
    "        sse = 0\n",
    "        for row in train:\n",
    "            yhat = predict(row, coef)\n",
    "            error = yhat - row[-1]\n",
    "            sse += error **2\n",
    "            coef[0] = coef[0] - l_rate * error\n",
    "            for i in range(len(row) - 1):\n",
    "                coef[i + 1] = coef[i + 1] - l_rate * error * row[i]\n",
    "            return coef, sse"
   ]
  },
  {
   "cell_type": "code",
   "execution_count": 29,
   "id": "fdf65093",
   "metadata": {},
   "outputs": [],
   "source": [
    "## 경사하강법으로 구한 회귀계수 값을 최소자승법으로 구한 회귀계수 값과 비교한 후 sse 값을 구함\n",
    "import math\n",
    "def confficients_sgd(train, l_rate, n_epoch): # 경사하강법\n",
    "    coef = [0.0 for i in range(len(train[0]))]\n",
    "    for epoch in range(n_epoch):\n",
    "        sum_error = 0\n",
    "        for row in train:\n",
    "            yhat = predict(row, coef)\n",
    "            error = row[-1] - yhat\n",
    "            sum_error += (error **2)\n",
    "            coef[0] = coef[0] + l_rate * error\n",
    "            for i in range(len(row) - 1):\n",
    "                coef[i + 1] = coef[i + 1] - l_rate * error * row[i]\n",
    "    return coef, math.sqrt(sum_error / len(train))\n"
   ]
  },
  {
   "cell_type": "code",
   "execution_count": 30,
   "id": "b4ffe290",
   "metadata": {},
   "outputs": [
    {
     "data": {
      "text/plain": [
       "([47.6680517194948, -1725.9200733210791], 43941.02750898198)"
      ]
     },
     "execution_count": 30,
     "metadata": {},
     "output_type": "execute_result"
    }
   ],
   "source": [
    "l_rate = 0.0001\n",
    "n_epoch = 10\n",
    "coef = confficients_sgd(train, l_rate, n_epoch)\n",
    "coef"
   ]
  }
 ],
 "metadata": {
  "kernelspec": {
   "display_name": "Python 3",
   "language": "python",
   "name": "python3"
  },
  "language_info": {
   "codemirror_mode": {
    "name": "ipython",
    "version": 3
   },
   "file_extension": ".py",
   "mimetype": "text/x-python",
   "name": "python",
   "nbconvert_exporter": "python",
   "pygments_lexer": "ipython3",
   "version": "3.13.3"
  }
 },
 "nbformat": 4,
 "nbformat_minor": 5
}
