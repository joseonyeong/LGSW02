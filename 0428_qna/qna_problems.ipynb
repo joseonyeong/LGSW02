{
 "cells": [
  {
   "cell_type": "markdown",
   "metadata": {},
   "source": [
    ">**기출문제 제5회**\n",
    ">>**01 작업형 제1유형**"
   ]
  },
  {
   "cell_type": "markdown",
   "metadata": {},
   "source": [
    "## 옵션 설정"
   ]
  },
  {
   "cell_type": "code",
   "execution_count": 2,
   "metadata": {},
   "outputs": [],
   "source": [
    "import pandas as pd\n",
    "import numpy as np\n",
    "pd.set_option('display.max_columns', None) # 모든 칼럼이 출력되게 조절"
   ]
  },
  {
   "cell_type": "markdown",
   "metadata": {},
   "source": [
    "## 문제 1. \n",
    "- 다음 데이터에서 conventional 컬럼의 특수문자를 제거하고, IQR(3분위수-1분위수)를 구하시오. \n",
    "- 소수점 첫째 자리에서 반올림"
   ]
  },
  {
   "cell_type": "code",
   "execution_count": 16,
   "metadata": {},
   "outputs": [
    {
     "name": "stdout",
     "output_type": "stream",
     "text": [
      "    minority  crime  poverty  language  highschool  housing   city  \\\n",
      "0       26.1     49     18.9       0.2        43.5      7.6  state   \n",
      "1        5.7     62     10.7       1.7        17.5     23.6  state   \n",
      "2       18.9     81     13.2       3.2        27.6      8.1  state   \n",
      "3       16.9     38     19.0       0.2        44.5      7.0  state   \n",
      "4       24.3     73     10.4       5.0        26.0     11.8  state   \n",
      "..       ...    ...      ...       ...         ...      ...    ...   \n",
      "61      41.3     60     20.6       2.2        45.7     21.7   city   \n",
      "62      46.7    143     21.8       0.5        51.8     40.9   city   \n",
      "63      23.6     81     12.4       4.2        21.1     11.2   city   \n",
      "64      24.8    107     13.7       9.2        26.0     20.3   city   \n",
      "65      72.6    102     18.6       1.1        32.9     21.0   city   \n",
      "\n",
      "   conventional  undercount        date  \n",
      "0             *       -0.04  2023-01-01  \n",
      "1             &        3.35  2023-01-02  \n",
      "2             *        2.48  2023-01-03  \n",
      "3             &       -0.74  2023-01-04  \n",
      "4             4        3.60  2023-01-05  \n",
      "..          ...         ...         ...  \n",
      "61            0        6.41  2023-03-03  \n",
      "62            0        3.60  2023-03-04  \n",
      "63            0        0.47  2023-03-05  \n",
      "64            0        5.18  2023-03-06  \n",
      "65            0        5.93  2023-03-07  \n",
      "\n",
      "[66 rows x 10 columns]\n"
     ]
    }
   ],
   "source": [
    "df = pd.read_csv('5_1_1.csv')\n",
    "print(df)"
   ]
  },
  {
   "cell_type": "code",
   "execution_count": 17,
   "metadata": {},
   "outputs": [
    {
     "name": "stdout",
     "output_type": "stream",
     "text": [
      "<class 'pandas.core.frame.DataFrame'>\n"
     ]
    }
   ],
   "source": [
    "print(type(df))"
   ]
  },
  {
   "cell_type": "code",
   "execution_count": 18,
   "metadata": {},
   "outputs": [
    {
     "name": "stdout",
     "output_type": "stream",
     "text": [
      "    minority  crime  poverty  language  highschool  housing   city  \\\n",
      "0       26.1     49     18.9       0.2        43.5      7.6  state   \n",
      "1        5.7     62     10.7       1.7        17.5     23.6  state   \n",
      "2       18.9     81     13.2       3.2        27.6      8.1  state   \n",
      "3       16.9     38     19.0       0.2        44.5      7.0  state   \n",
      "4       24.3     73     10.4       5.0        26.0     11.8  state   \n",
      "..       ...    ...      ...       ...         ...      ...    ...   \n",
      "61      41.3     60     20.6       2.2        45.7     21.7   city   \n",
      "62      46.7    143     21.8       0.5        51.8     40.9   city   \n",
      "63      23.6     81     12.4       4.2        21.1     11.2   city   \n",
      "64      24.8    107     13.7       9.2        26.0     20.3   city   \n",
      "65      72.6    102     18.6       1.1        32.9     21.0   city   \n",
      "\n",
      "   conventional  undercount        date  \n",
      "0                     -0.04  2023-01-01  \n",
      "1                      3.35  2023-01-02  \n",
      "2                      2.48  2023-01-03  \n",
      "3                     -0.74  2023-01-04  \n",
      "4             4        3.60  2023-01-05  \n",
      "..          ...         ...         ...  \n",
      "61            0        6.41  2023-03-03  \n",
      "62            0        3.60  2023-03-04  \n",
      "63            0        0.47  2023-03-05  \n",
      "64            0        5.18  2023-03-06  \n",
      "65            0        5.93  2023-03-07  \n",
      "\n",
      "[66 rows x 10 columns]\n"
     ]
    }
   ],
   "source": [
    "# 영어, 숫자, 한국어를 제외한 모든 문자 제거 \n",
    "# 코드 \n",
    "df['conventional'] = df['conventional'].str.replace(pat=r'[^\\w]', repl=r'', regex=True)\n",
    "print(df)"
   ]
  },
  {
   "cell_type": "code",
   "execution_count": 19,
   "metadata": {},
   "outputs": [
    {
     "name": "stdout",
     "output_type": "stream",
     "text": [
      "8.75\n"
     ]
    }
   ],
   "source": [
    "# 2. conventional 컬럼을 숫자로 변환 (변환 실패하면 NaN)\n",
    "df['conventional'] = pd.to_numeric(df['conventional'], errors='coerce')\n",
    "\n",
    "# 3. 숫자형 컬럼 대상으로 IQR 계산\n",
    "solve = df['conventional'].quantile(0.75) - df['conventional'].quantile(0.25)\n",
    "print(solve)\n"
   ]
  },
  {
   "cell_type": "markdown",
   "metadata": {},
   "source": [
    "## 문제 2. \n",
    "- 위 데이터에서 흑인 또는 히스패닉 비율(minority) / 빈곤율(poverty) > 2이며, 도시 유형(city)이 state인 도시의 범죄율(crime) 평균을 구하시오. \n",
    "- 소수점 첫째 자리에서 반올림"
   ]
  },
  {
   "cell_type": "code",
   "execution_count": 20,
   "metadata": {},
   "outputs": [
    {
     "name": "stdout",
     "output_type": "stream",
     "text": [
      "61.0\n"
     ]
    }
   ],
   "source": [
    "\n",
    "result = df['minority'] / df['poverty']\n",
    "condition = (result > 2) & (df['city'] == 'state')\n",
    "\n",
    "crime_mean = df.loc[condition, 'crime'].mean()\n",
    "print(round(crime_mean,0))\n"
   ]
  },
  {
   "cell_type": "markdown",
   "metadata": {},
   "source": [
    "## 문제 3. \n",
    "- 다음 데이터에서 2016년 9월 이후, 온도(actual)의 평균을 구하시오. (소수점 첫째 자리에서 반올림)\n"
   ]
  },
  {
   "cell_type": "code",
   "execution_count": 8,
   "metadata": {},
   "outputs": [
    {
     "name": "stdout",
     "output_type": "stream",
     "text": [
      "     year  month  day   week  temp_2  temp_1  average  actual  friend\n",
      "0    2016      1    1    Fri      45      45     45.6      45      29\n",
      "1    2016      1    2    Sat      44      45     45.7      44      61\n",
      "2    2016      1    3    Sun      45      44     45.8      41      56\n",
      "3    2016      1    4    Mon      44      41     45.9      40      53\n",
      "4    2016      1    5   Tues      41      40     46.0      44      41\n",
      "..    ...    ...  ...    ...     ...     ...      ...     ...     ...\n",
      "343  2016     12   27   Tues      42      42     45.2      47      47\n",
      "344  2016     12   28    Wed      42      47     45.3      48      58\n",
      "345  2016     12   29  Thurs      47      48     45.3      48      65\n",
      "346  2016     12   30    Fri      48      48     45.4      57      42\n",
      "347  2016     12   31    Sat      48      57     45.5      40      57\n",
      "\n",
      "[348 rows x 9 columns]\n"
     ]
    }
   ],
   "source": [
    "df = pd.read_csv('5_1_2.csv')\n",
    "print(df)"
   ]
  },
  {
   "cell_type": "code",
   "execution_count": 9,
   "metadata": {},
   "outputs": [],
   "source": [
    "# 코드 "
   ]
  },
  {
   "cell_type": "code",
   "execution_count": 14,
   "metadata": {},
   "outputs": [
    {
     "name": "stdout",
     "output_type": "stream",
     "text": [
      "58.0\n"
     ]
    }
   ],
   "source": [
    "result3 = (df['year'] == 2016) & (df['month'] >= 9)\n",
    "result3_mean = df.loc[result3, 'actual'].mean()\n",
    "print(round(result3_mean,0))"
   ]
  },
  {
   "cell_type": "code",
   "execution_count": null,
   "metadata": {},
   "outputs": [],
   "source": []
  }
 ],
 "metadata": {
  "kernelspec": {
   "display_name": "Python 3 (ipykernel)",
   "language": "python",
   "name": "python3"
  },
  "language_info": {
   "codemirror_mode": {
    "name": "ipython",
    "version": 3
   },
   "file_extension": ".py",
   "mimetype": "text/x-python",
   "name": "python",
   "nbconvert_exporter": "python",
   "pygments_lexer": "ipython3",
   "version": "3.13.3"
  }
 },
 "nbformat": 4,
 "nbformat_minor": 4
}
